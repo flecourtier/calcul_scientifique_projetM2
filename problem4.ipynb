{
 "cells": [
  {
   "attachments": {},
   "cell_type": "markdown",
   "metadata": {},
   "source": [
    "# Problem Set 4"
   ]
  },
  {
   "cell_type": "code",
   "execution_count": 1,
   "metadata": {},
   "outputs": [
    {
     "name": "stderr",
     "output_type": "stream",
     "text": [
      "/home/flecourtier/.local/lib/python3.8/site-packages/pandas/core/computation/expressions.py:20: UserWarning: Pandas requires version '2.7.3' or newer of 'numexpr' (version '2.7.1' currently installed).\n",
      "  from pandas.core.computation.check import NUMEXPR_INSTALLED\n"
     ]
    }
   ],
   "source": [
    "import numpy as np\n",
    "import scipy as sp\n",
    "from scipy.sparse import csc_matrix\n",
    "from scipy.sparse.linalg import splu\n",
    "from scipy.sparse.linalg import spsolve\n",
    "from scipy.io import loadmat\n",
    "import matplotlib.tri as tri\n",
    "import matplotlib.pyplot as plt\n",
    "import time\n",
    "import pandas as pd\n",
    "from IPython.display import display, Latex\n",
    "import math\n",
    "import time\n",
    "# chargement des classes (modifiées pour le problème 4)\n",
    "from reduce_basis_time import *"
   ]
  },
  {
   "attachments": {},
   "cell_type": "markdown",
   "metadata": {},
   "source": [
    "Le problème qui nous intéresse est l'ailette thermique des problèmes précédents, mais nous considérons maintenant le cas dépendant du temps. Nous supposons que la température de l'ailette est initialisée à zéro (non dimensionnée) et qu'un flux de chaleur est ensuite appliqué à la racine. La sortie d'intérêt est la température moyenne de l'ailette. Dans ce but, nous divisons l'intervalle de temps $I=]0,t_f]$ en $K$ sous-intervalles de longueur égale $\\Delta=\\frac{t_f}{K}$, et définissons $t^k=k\\Delta_t, \\; 0\\le k\\le K$. Nous considérerons Euler implicit pour l'intégration temporelle. Nous appelerons encore le (vrai) espace d'approximation par éléments finis $X\\in X_e$.\n",
    "\n",
    "L'énoncé de notre problème est alors : Etant donné un paramètre $\\mu\\in D$, nous évaluons la sortie\n",
    "$$s^k(\\mu)=l(u^k(\\mu)), \\quad 1\\le k\\le K$$\n",
    "où la variable $u^k(\\mu), \\quad 1\\le k\\le K$ satifait\n",
    "$\\begin{equation}\n",
    "m\\left(\\frac{u^k(\\mu)-u^{k-1}(\\mu)}{\\Delta t},v\\right)+a(u^k(\\mu),v;\\mu)=f(v)g(t^k),\\forall v\\in X\n",
    "\\end{equation}$\n",
    "avec la condition initiale $u(t^0;\\mu)=u_0=0$.\n",
    "\n",
    "Ici la forme bilinéaire $a$ est défini comme dans le problème 1, la forme linéaire $f$ est donné par $f(v)=\\int_{\\Gamma_{root}}v$, la forme linéaire $l$ est définie par $l(v)=\\int_\\Omega v$, la forme bilinéaire $m$ est définie par\n",
    "$$m(u,v)=\\int_\\Omega yv,\\forall u,v\\in X$$\n",
    "et $g(t^k)$ désigne le contrôle d'entrée au moment $t = t^k$.\n",
    "\n",
    "Nous considérons le cas particulier suivant : Nous supposons que les conductivités dans toutes les ailettes sont équivalentes et fixées à $k=k_i = 1, \\quad i = 1,\\dots,4$ et que le nombre de Biot $Bi$ peut varier entre 0.01 et 1. Nous avons donc $Bi\\in D = [0.01,1]$. Nous considérons l'intervalle de temps $I = (0,10]$ avec un pas de temps discret $t = 0.1$ et donc $K = 100$."
   ]
  },
  {
   "attachments": {},
   "cell_type": "markdown",
   "metadata": {},
   "source": [
    "Le fichier \"FE_matrix_mass.mat\" contient une structure, FE_matrix_mass, avec les matrices de masse pour les triangulations fines, moyennes et grossières utilisées précédemment. Pour générer le vecteur de sortie $L$, nous multiplierons la matrice de masse correspondante avec un vecteur contenant uniquement des 1. \n",
    "\n",
    "Nous utiliserons dans tout le problème la triangulation \"medium\" ainsi que $\\bar{\\mu}=0.1$"
   ]
  },
  {
   "cell_type": "code",
   "execution_count": 2,
   "metadata": {},
   "outputs": [],
   "source": [
    "def construct_mu(Bi):\n",
    "    k_i=1.\n",
    "    assert(Bi >= 0.01 and Bi <= 1)\n",
    "    return np.array([k_i, k_i, k_i, k_i, 1., Bi])\n",
    "mu_prod = construct_mu(0.1)\n",
    "\n",
    "type = 'medium'\n",
    "tf=10\n",
    "K=100\n",
    "dt=tf/K\n",
    "\n",
    "def compute_theta_q_mu(q,mu):\n",
    "    assert(1<=q and q<=6)\n",
    "    return mu[q-1]\n",
    "\n",
    "def compute_alpha_LB(mu):\n",
    "    tab_alpha_LB = np.zeros(6)\n",
    "    for q in range(6):\n",
    "        tab_alpha_LB[q] = compute_theta_q_mu(q+1,mu) / compute_theta_q_mu(q+1,mu_prod) \n",
    "    return np.min(tab_alpha_LB)"
   ]
  },
  {
   "cell_type": "code",
   "execution_count": 3,
   "metadata": {},
   "outputs": [],
   "source": [
    "class offline_online_method_time():\n",
    "    def __init__(self, modele):\n",
    "        self.modele = modele\n",
    "    \n",
    "    def compute_norm_residual(self, U0, g, dt, tab_U_k_N, k, mu, quantity):\n",
    "        tk = k*dt\n",
    "        g_tk = g(tk,k)\n",
    "\n",
    "        U_N_k = tab_U_k_N[k]\n",
    "        U_N_km1 = tab_U_k_N[k-1]\n",
    "        W_N_k = (U_N_k - U_N_km1)/dt\n",
    "\n",
    "        val = g_tk**2 * quantity[\"CC\"].copy() + 2 * g_tk * W_N_k.T @ quantity[\"DC\"].copy() + W_N_k.T @ quantity[\"DD\"].copy() @ W_N_k\n",
    "        \n",
    "        for q in range(6):\n",
    "            theta_q_mu = compute_theta_q_mu(q+1,mu)\n",
    "\n",
    "            val2 = 2 * g_tk * quantity[\"AqC\"][q] + 2 * quantity[\"AqD\"][q] @ W_N_k\n",
    "            for q2 in range(6):\n",
    "                theta_q2_mu = compute_theta_q_mu(q2+1,mu)\n",
    "                val2 += theta_q2_mu * quantity[\"AqAqp\"][q2][q] @ U_N_k\n",
    "\n",
    "            val += theta_q_mu * U_N_k.T @ val2\n",
    "        return np.sqrt(val)\n",
    "\n",
    "    def compute_Delta_N_en(self, U0, g, dt, tab_U_k_N, k, mu, quantity):\n",
    "        num = 0\n",
    "        for kp in range(k):\n",
    "            norm_residual = self.compute_norm_residual(U0, g, dt, tab_U_k_N, kp, mu, quantity)\n",
    "            num += dt * norm_residual**2\n",
    "        alpha_LB = compute_alpha_LB(mu)\n",
    "        Delta_N_en_mu = np.sqrt(num/alpha_LB)\n",
    "        return Delta_N_en_mu\n",
    "    \n",
    "    def offline_quantity(self):\n",
    "        C = spsolve(self.modele.A_prod, self.modele.F_N_cal) # de taille N_cal\n",
    "        D = spsolve(self.modele.A_prod, - self.modele.M_N_cal @ self.modele.Z)\n",
    "        A_q = np.array([-spsolve(self.modele.A_prod, self.modele.A_N_cal_q[q] @ self.modele.Z) for q in range(6)]) # 6 matrices de taille N_cal*N\n",
    "\n",
    "        CC = np.array(self.modele.prod_scalaire(C,C)) # scalaire\n",
    "        DC = np.array(self.modele.prod_scalaire(D,C)) # vecteur de taille N\n",
    "        DD = np.array(self.modele.prod_scalaire(D,D)) # matrice de taille N*N\n",
    "        AqC = np.array([self.modele.prod_scalaire(A_q[q],C) for q in range(6)]) # Q=6 vecteurs de taille N\n",
    "        AqD = np.array([self.modele.prod_scalaire(A_q[q],D) for q in range(6)]) # Q=6 matrices de taille N*N\n",
    "        AqAqp = np.array([[self.modele.prod_scalaire(A_q[q2],A_q[q]) for q in range(6)] for q2 in range(6)]) # 6*6 matrices de taille N*N\n",
    "        \n",
    "        if(self.modele.Z.shape[1]==1):\n",
    "            DC = DC[np.newaxis]\n",
    "            DD = DD[np.newaxis,np.newaxis]\n",
    "            AqC = AqC[:,np.newaxis]\n",
    "            AqD = AqD[:,np.newaxis,np.newaxis]\n",
    "            AqAqp = AqAqp[:,:,np.newaxis]\n",
    "            \n",
    "        return {\"CC\":CC,\"DC\":DC,\"DD\":DD,\"AqC\":AqC,\"AqD\":AqD,\"AqAqp\":AqAqp}"
   ]
  },
  {
   "cell_type": "code",
   "execution_count": 4,
   "metadata": {},
   "outputs": [],
   "source": [
    "class direct_method_time():\n",
    "    def __init__(self, modele):\n",
    "        self.modele = modele\n",
    "    \n",
    "    def compute_R_mu(self, U0, g, dt, tab_U_k_N, k, mu):\n",
    "        U_N_k = tab_U_k_N[k]\n",
    "        W_N_k = (U_N_k-tab_U_k_N[k-1])/dt\n",
    "        tk = k*dt\n",
    "        R_mu = g(tk,k) * self.modele.F_N_cal - self.modele.M_N_cal @ self.modele.Z @ W_N_k - self.modele.get_A_N_cal(mu) @ self.modele.Z @ U_N_k\n",
    "        return R_mu\n",
    "\n",
    "    def compute_Delta_N_en(self, U0, g, dt, tab_U_k_N, k, mu):\n",
    "        num = 0\n",
    "        for kp in range(k):\n",
    "            R_mu = self.compute_R_mu(U0, g, dt, tab_U_k_N, kp, mu)\n",
    "            E_hat_mu = spsolve(self.modele.A_prod, R_mu)\n",
    "            norm_residual = self.modele.norme(E_hat_mu)\n",
    "            num += dt * norm_residual**2\n",
    "        alpha_LB = compute_alpha_LB(mu)\n",
    "        Delta_N_en_mu = np.sqrt(num/alpha_LB)\n",
    "        return Delta_N_en_mu"
   ]
  },
  {
   "attachments": {},
   "cell_type": "markdown",
   "metadata": {},
   "source": [
    "## Part 1 - Reduced Basis Approximation"
   ]
  },
  {
   "attachments": {},
   "cell_type": "markdown",
   "metadata": {},
   "source": [
    "On cherche à implémenter une méthode offline-online pour l'approximation base réduite. \n",
    "\n",
    "L'équation (1) peut se réecrire sous forme matricielle :\n",
    "$$\\left(\\frac{1}{\\Delta t}M+A_\\mu\\right)U^k=Fg_k+\\frac{1}{\\Delta t}U^{k-1}$$\n",
    "avec $U^0=0$ et\n",
    "* $M$ : matrice de masse associée à $m$\n",
    "* $A_\\mu$ : matrice associée à $a(\\cdot,\\cdot;\\mu)$\n",
    "* $F$ : vecteur associé à $f$\n",
    "* $U^k$ (resp. $U^{k-1}$) : vecteurs de composantes $u(t^k)$ (resp. $u(t^{k-1})$)\n",
    "* $g_k=g(t^k)\\in\\mathbb{R}$"
   ]
  },
  {
   "attachments": {},
   "cell_type": "markdown",
   "metadata": {},
   "source": [
    "Nous générons d'abord une approximation de base réduite en choisissant une base que nous orthonormaliserons avec Gram-Schmidt. A cette fin, nous utilisons $g_k=\\delta_{1k},1\\le k\\le 100$ et on fixe\n",
    "$$X_N=span\\{u^1(0.01),u^5(0.01),u^{10}(0.01),u^{20}(0.01),u^{30}(0.01),u^5(0.1),u^{10}(0.1),u^{20}(0.1),u^5(1),u^{10}(1)\\}$$\n",
    "\n",
    "On va l'équation matricielle ci-dessus où les composantes sont ici associées à l'espace des éléments finis, on a :\n",
    "$$\\left(\\frac{1}{\\Delta t}M_{\\mathcal{N}}+A_\\mu^{\\mathcal{N}}\\right)U_{\\mathcal{N}}^k=F^{\\mathcal{N}}g_k+\\frac{1}{\\Delta t}U_{\\mathcal{N}}^{k-1}$$\n",
    "avec $M_{\\mathcal{N}}\\in \\mathbb{R}^{\\mathcal{N}\\times\\mathcal{N}}$, $A^\\mathcal{N}_\\mu\\in \\mathbb{R}^{\\mathcal{N}\\times\\mathcal{N}}$, $F^\\mathcal{N}\\in \\mathbb{R}^{\\mathcal{N}}$ et $U_\\mathcal{N}^k\\in \\mathbb{R}^{\\mathcal{N}}$ (resp. $U_\\mathcal{N}^{k-1}$)\n",
    "\n",
    "Pour déterminer les vecteurs $u^k(\\mu)$ qui engendre $X_N$, il suffit alors de résoudre itérativement le système matricielle ci-dessus jusqu'à $k$ en utilisant la décomposition LU de $\\left(\\frac{1}{\\Delta t}M_{\\mathcal{N}}+A_\\mu^{\\mathcal{N}}\\right)$.\n",
    "\n"
   ]
  },
  {
   "attachments": {},
   "cell_type": "markdown",
   "metadata": {},
   "source": [
    "Pour déterminer la solution dans l'espace base réduite en $\\mu$ au temps $k$ de notre système $u_N^{k}(\\mu)$, on résout le système matricielle :\n",
    "$$\\left(\\frac{1}{\\Delta t}M_{N}+A_\\mu^{N}\\right)U_{N}^k=F^{N}g_k+\\frac{1}{\\Delta t}U_{N}^{k-1}$$\n",
    "avec $M_{N}=Z^T M_{\\mathcal{N}}Z\\in \\mathbb{R}^{N\\times N}$, $A^N_\\mu=Z^T A^{\\mathcal{N}}_\\mu Z\\in \\mathbb{R}^{N\\times N}$, $F^N=Z^T F^{\\mathcal{N}}\\in \\mathbb{R}^{N}$ et $U_N^k\\in \\mathbb{R}^{N}$ (resp. $U_N^{k-1}$) \n",
    "\n",
    "Comme $A_\\mu^{N}=\\sum_{q=1}^{Q}\\theta_q(\\mu)Z^T A^q Z$, on calculera offline les quantités $Z^T M_{\\mathcal{N}}Z$ et $Z^T A^q Z$ et comme pour la solution en élément fini, il suffit alors de résoudre itérativement le système matricielle ci-dessus jusqu'à $k$ en utilisant la décomposition LU de $\\left(\\frac{1}{\\Delta t}M_{N}+A_\\mu^{N}\\right)$."
   ]
  },
  {
   "cell_type": "code",
   "execution_count": 5,
   "metadata": {},
   "outputs": [],
   "source": [
    "# génération de X_N\n",
    "modele = finite_element_time(type)\n",
    "U0 = np.zeros(modele.N_cal)\n",
    "def g(tk,k):\n",
    "    return (int)(k==1)\n",
    "\n",
    "dict_basis = {\"val1\": (0.01,[1,5,10,20,30]), \"val2\": (0.1,[5,10,20]), \"val3\": (1.,[5,10])}\n",
    "X_N = []\n",
    "for key,value in dict_basis.items():\n",
    "    Bi = value[0]\n",
    "    mu = construct_mu(Bi)\n",
    "\n",
    "    list_k = value[1]\n",
    "    nv_K = np.max(list_k)\n",
    "    tab_Uk = modele.get_u_N_cal_k(U0,g,dt,nv_K,mu)\n",
    "    for Uk in tab_Uk[list_k]:\n",
    "        X_N.append(Uk)\n",
    "X_N = np.array(X_N).T"
   ]
  },
  {
   "attachments": {},
   "cell_type": "markdown",
   "metadata": {},
   "source": [
    "On va plot les sorties $s^k(\\mu),s_N^k(\\mu)$ et l'erreur $|s^k(\\mu)-s_N^k(\\mu)|$ par rapport au temps en utilisant $g(t^k)=1-cos(t^k)$ et $\\mu=0.05$."
   ]
  },
  {
   "cell_type": "code",
   "execution_count": 6,
   "metadata": {},
   "outputs": [],
   "source": [
    "sample = 5 # given X_N\n",
    "ortho = True #to orthonormalize when init\n",
    "modele=reduce_basis_time(type,sample,mu_prod,ortho=ortho,X_N=X_N)\n",
    "\n",
    "def g(tk,k):\n",
    "    return 1-np.cos(tk)\n",
    "\n",
    "mu = construct_mu(0.05)\n",
    "U0 = np.zeros(modele.N_cal)\n",
    "s_k_N_cal,tab_U_k_N_cal = modele.get_T_root_N_cal_k(U0,g,dt,K,mu)\n",
    "U0 = np.zeros(modele.N)\n",
    "s_k_N,tab_U_k_N = modele.get_T_root_N_k(U0,g,dt,K,mu)"
   ]
  },
  {
   "cell_type": "code",
   "execution_count": 7,
   "metadata": {},
   "outputs": [
    {
     "data": {
      "text/plain": [
       "<matplotlib.legend.Legend at 0x7fc255e3b340>"
      ]
     },
     "execution_count": 7,
     "metadata": {},
     "output_type": "execute_result"
    },
    {
     "data": {
      "image/png": "[encoded data removed]",
      "text/plain": [
       "<Figure size 1080x360 with 2 Axes>"
      ]
     },
     "metadata": {
      "needs_background": "light"
     },
     "output_type": "display_data"
    }
   ],
   "source": [
    "tab_tk = np.linspace(0,tf,K+1)\n",
    "\n",
    "fig, axs = plt.subplots(1, 2, figsize=(15, 5))\n",
    "\n",
    "axs[0].plot(tab_tk,s_k_N,'orange',label='N',linewidth=2)\n",
    "axs[0].plot(tab_tk,s_k_N_cal,'b--',label='N_cal',linewidth=1.5)\n",
    "axs[0].set_title('Solution for mu = '+str(mu[-1]))\n",
    "axs[0].set_xlabel('t')\n",
    "axs[0].legend()\n",
    "\n",
    "axs[1].plot(tab_tk,np.abs(s_k_N-s_k_N_cal),'r',label='error',linewidth=2)\n",
    "axs[1].set_title('Error for mu = '+str(mu[-1]))\n",
    "axs[1].set_xlabel('t')\n",
    "axs[1].legend()"
   ]
  },
  {
   "attachments": {},
   "cell_type": "markdown",
   "metadata": {},
   "source": [
    "On va plot $|||u^k(\\mu)|||,|||u_N^k(\\mu)|||$ et l'erreur $|||u^k(\\mu)-u_N^k(\\mu)|||$ par rapport au temps en utilisant $g(t^k)=1-cos(t^k)$ et $\\mu=0.05$."
   ]
  },
  {
   "cell_type": "code",
   "execution_count": 8,
   "metadata": {},
   "outputs": [],
   "source": [
    "A_N_cal_mu = modele.get_A_N_cal(mu)\n",
    "def norm_mu(x,A_N_cal_mu):\n",
    "    return np.sqrt(x.T@A_N_cal_mu@x)\n",
    "\n",
    "norm_u_k_N_cal = [norm_mu(u_k_N_cal,A_N_cal_mu) for u_k_N_cal in tab_U_k_N_cal]\n",
    "norm_u_k_N = [norm_mu(modele.Z_complet@u_k_N,A_N_cal_mu) for u_k_N in tab_U_k_N]\n",
    "norm_error = [norm_mu(u_k_N_cal-modele.Z_complet@u_k_N,A_N_cal_mu) for u_k_N,u_k_N_cal in zip(tab_U_k_N,tab_U_k_N_cal)]"
   ]
  },
  {
   "cell_type": "code",
   "execution_count": 9,
   "metadata": {},
   "outputs": [
    {
     "data": {
      "text/plain": [
       "<matplotlib.legend.Legend at 0x7fc255cbbbb0>"
      ]
     },
     "execution_count": 9,
     "metadata": {},
     "output_type": "execute_result"
    },
    {
     "data": {
      "image/png": "[encoded data removed]",
      "text/plain": [
       "<Figure size 1080x360 with 2 Axes>"
      ]
     },
     "metadata": {
      "needs_background": "light"
     },
     "output_type": "display_data"
    }
   ],
   "source": [
    "tab_tk = np.linspace(0,tf,K+1)\n",
    "\n",
    "fig, axs = plt.subplots(1, 2, figsize=(15, 5))\n",
    "\n",
    "axs[0].plot(tab_tk,norm_u_k_N_cal,'orange',label='N',linewidth=2)\n",
    "axs[0].plot(tab_tk,norm_u_k_N,'b--',label='N_cal',linewidth=1.5)\n",
    "axs[0].set_title('Norm for mu = '+str(mu[-1]))\n",
    "axs[0].set_xlabel('t')\n",
    "axs[0].legend()\n",
    "\n",
    "axs[1].plot(tab_tk,norm_error,'r',label='error',linewidth=2)\n",
    "axs[1].set_title('Norm of the error for mu = '+str(mu[-1]))\n",
    "axs[1].set_xlabel('t')\n",
    "axs[1].legend()"
   ]
  },
  {
   "attachments": {},
   "cell_type": "markdown",
   "metadata": {},
   "source": [
    "## Part 2 - A Posterior Error Estimation"
   ]
  },
  {
   "attachments": {},
   "cell_type": "markdown",
   "metadata": {},
   "source": [
    "On cherche à calculer la norme d'énergie \n",
    "$$\\Delta^k_N(\\mu)=\\sqrt{\\frac{\\sum_{k'=1}^{k}\\Delta t||\\hat{e}^{k'}(\\mu)||_X^2}{\\alpha_{LB}(\\mu)}}$$\n",
    "avec \n",
    "$$||\\hat{e}^k(\\mu)||_X=||r^k(\\cdot;\\mu)||_{X'}, \\qquad \\alpha_{LB}(\\mu)=\\min_q\\frac{\\theta_q(\\mu)}{\\theta_q(\\bar{\\bar{\\mu}})}\\alpha(\\bar{\\bar{\\mu}})$$\n",
    "Par le théorème de représentation de Riesz, on sait qu' $\\exists ! \\hat{e}^k\\in X, \\forall v\\in X$\n",
    "$$(\\hat{e}^k(\\mu),v)_X=r^k(v;\\mu)$$\n",
    "et le résidu est donné par\n",
    "$$r^k(v;\\mu)=f(v;\\mu)g(t^k)-m\\left(\\frac{u^k(\\mu)-u^{k-1}(\\mu)}{\\Delta t},v\\right)-a(u_N^k(\\mu),v,\\mu)$$\n",
    "\n",
    "On va implémenter le calcul de la norme d'énergie par méthode directe et par une méthode offline-online. \n",
    "\n",
    "On effectuera une comparaison des 2 méthodes pour 10 valeurs aléatoires dans $D$ et à différents temps."
   ]
  },
  {
   "cell_type": "code",
   "execution_count": 10,
   "metadata": {},
   "outputs": [],
   "source": [
    "def g(tk,k):\n",
    "    return 1-np.cos(tk)\n",
    "\n",
    "mu = construct_mu(0.05)\n",
    "k = 30\n",
    "\n",
    "# N = 3\n",
    "U0 = np.zeros(modele.N)\n",
    "tab_U_k_N = modele.get_u_N_k(U0, g, dt, K, mu)"
   ]
  },
  {
   "attachments": {},
   "cell_type": "markdown",
   "metadata": {},
   "source": [
    "### Méthode direct"
   ]
  },
  {
   "attachments": {},
   "cell_type": "markdown",
   "metadata": {},
   "source": [
    "Le problème consiste à trouver $\\hat{E}^k\\in\\mathbb{R}^\\mathcal{N}$ tel que\n",
    "$$A_\\mathcal{N}(\\bar{\\mu})\\hat{E}^k=F^\\mathcal{N}*g_k-M^\\mathcal{N}Z\\frac{U_N^k-U_N^{k-1}}{\\Delta t}-A_\\mathcal{N}(\\mu)ZU_N$$\n",
    "Et ainsi\n",
    "$$||r(u_N(\\mu),v;\\mu)||_{X'}=||\\hat{e}(\\mu)||_X=\\sqrt{(\\hat{e}(\\mu),\\hat{e}(\\mu))_X}=\\sqrt{(A_\\mathcal{N}(\\bar{\\mu})^{-1}R_\\mu,A_\\mathcal{N}(\\bar{\\mu})^{-1}R_\\mu)_X}$$\n",
    "avec\n",
    "$$R_\\mu = F^\\mathcal{N}*g_k-M^\\mathcal{N}Z\\frac{U_N^k-U_N^{k-1}}{\\Delta t}-A_\\mathcal{N}(\\mu)ZU_N^k$$"
   ]
  },
  {
   "attachments": {},
   "cell_type": "markdown",
   "metadata": {},
   "source": [
    "#### Méthode offline-online"
   ]
  },
  {
   "attachments": {},
   "cell_type": "markdown",
   "metadata": {},
   "source": [
    "Le problème consiste toujours à trouver $\\hat{E}^k\\in\\mathbb{R}^\\mathcal{N}$ tel que\n",
    "$$A_\\mathcal{N}(\\bar{\\mu})\\hat{E}^k=F^\\mathcal{N}*g_k-M^\\mathcal{N}Z\\frac{U_N^k-U_N^{k-1}}{\\Delta t}-A_\\mathcal{N}(\\mu)ZU_N$$\n",
    "Dans la suite nous noterons $\\mathbb{X}^\\mathcal{N}:=A_\\mathcal{N}(\\bar{\\mu})$ la matrice associé au produit scalaire $(\\cdot,\\cdot)_X$. Donc le problème se réecrit :\n",
    "$$\\mathbb{X}^\\mathcal{N}\\hat{E}^k=F^\\mathcal{N}*g_k-M^\\mathcal{N}Z\\frac{U_N^k-U_N^{k-1}}{\\Delta t}-A_\\mathcal{N}(\\mu)ZU_N$$\n",
    "On utilise maintenant la décomposition affine :\n",
    "$$A_\\mathcal{N}(\\mu)=\\sum_{q=1}^{Q}\\theta_q(\\mu) A_\\mathcal{N}^q$$\n",
    "Donc\n",
    "$$\\mathbb{X}^\\mathcal{N}\\hat{E}^k=F^\\mathcal{N}*g_k-M^\\mathcal{N}Z\\frac{U_N^k-U_N^{k-1}}{\\Delta t}-\\sum_{q=1}^{Q}\\theta_q(\\mu) A_\\mathcal{N}^qZU_N$$"
   ]
  },
  {
   "attachments": {},
   "cell_type": "markdown",
   "metadata": {},
   "source": [
    "Ainsi en offline, on peut effectuer les étapes suivantes :\n",
    "\n",
    "* Trouver $C\\in\\mathbb{R}^\\mathcal{N}$ tel que\n",
    "    $$\\mathbb{X}^\\mathcal{N}C = F^\\mathcal{N}$$\n",
    "* Trouver $D\\in\\mathbb{R}^{\\mathcal{N}\\times N}$ tel que\n",
    "    $$\\mathbb{X}^\\mathcal{N}D = -M^\\mathcal{N}Z$$\n",
    "* Trouver $A_q\\in\\mathbb{R}^{\\mathcal{N}\\times N}$ ($1\\le q\\le Q$) tel que\n",
    "    $$\\mathbb{X}^\\mathcal{N}A_q = -A_\\mathcal{N}^qZ$$\n",
    "\n",
    "Et le problème se réecrit alors\n",
    "\n",
    "$$\\hat{E}^k=g_kC-DW_N^k-\\sum_{q=1}^{Q}\\theta_q(\\mu) A_qU_N$$\n",
    "\n",
    "avec\n",
    "\n",
    "$$W_N^k:=\\frac{U_N^k-U_N^{k-1}}{\\Delta t}$$"
   ]
  },
  {
   "attachments": {},
   "cell_type": "markdown",
   "metadata": {},
   "source": [
    "On a alors\n",
    "\n",
    "$$\\begin{aligned}\n",
    "    ||\\hat{E}^k||_X^2&=\\left|\\left|g_kC+DW_N^k+\\sum_{q=1}^{Q}\\theta_q(\\mu) A_qU_N\\right|\\right|_X^2 \\\\\n",
    "    &=\\left(g_kC+DW_N^k+\\sum_{q=1}^{Q}\\theta_q(\\mu) A_qU_N,g_kC+DW_N^k+\\sum_{q'=1}^{Q}\\theta_{q'}(\\mu) A_{q'}U_N\\right)_X \\\\\n",
    "    &=g_k^2(C,C)_X+2g_k(C,DW_N^k)_X+2g_k(C,\\sum_{q=1}^{Q}\\theta_q(\\mu) A_qU_N)_X + (DW_N^k,DW_N^k)_X\\\\\n",
    "        & \\qquad + 2(DW_N^k,\\sum_{q=1}^{Q}\\theta_q(\\mu)A_qU_N)_X+(\\sum_{q=1}^{Q}\\theta_q(\\mu) A_qU_N,\\sum_{q'=1}^{Q}\\theta_{q'}(\\mu) A_{q'}U_N)_X \\\\\n",
    "    &=g_k^2(C,C)_X+2g_k(DW_N^k,C)_X+2g_k\\sum_{q=1}^{Q}\\theta_q(\\mu)(A_qU_N,C)_X + (DW_N^k,DW_N^k)_X \\\\\n",
    "        & \\qquad + 2\\sum_{q=1}^{Q}\\theta_q(\\mu)(A_qU_N,DW_N^k)_X+\\sum_{q=1}^{Q}\\sum_{q'=1}^{Q}\\theta_q(\\mu)\\theta_{q'}(\\mu)(A_qU_N,A_{q'}U_N)_X \\\\\n",
    "    &=g_k^2(C,C)_X+2g_k(DW_N^k,C)_X+(DW_N^k,DW_N^k)_X \\\\\n",
    "        & \\qquad + \\sum_{q=1}^{Q}\\theta_q(\\mu)\\left[2g_k(A_qU_N,C)_X +2(A_qU_N,DW_N^k)_X+\\sum_{q'=1}^{Q}\\theta_{q'}(\\mu)(A_qU_N,A_{q'}U_N)_X\\right] \\\\\n",
    "    &=g_k^2C^T\\mathbb{X}^\\mathcal{N}C+2g_k(DW_N^k)^T\\mathbb{X}^\\mathcal{N}C+(DW_N^k)^T\\mathbb{X}^\\mathcal{N}(DW_N^k) \\\\\n",
    "        & \\qquad + \\sum_{q=1}^{Q}\\theta_q(\\mu)\\left[2g_k(A_qU_N)^T\\mathbb{X}^\\mathcal{N}C +2(A_qU_N)^T\\mathbb{X}^\\mathcal{N}(DW_N^k)+\\sum_{q'=1}^{Q}\\theta_{q'}(\\mu)(A_qU_N)^T\\mathbb{X}^\\mathcal{N}(A_{q'}U_N)\\right] \\\\\n",
    "    &=g_k^2\\color{blue}C^T\\mathbb{X}^\\mathcal{N}C\\color{black}+2g_k(W_N^k)^T\\color{blue}D^T\\mathbb{X}^\\mathcal{N}C\\color{black}+(W_N^k)^T\\color{blue}D^T\\mathbb{X}^\\mathcal{N}D\\color{black}W_N^k \\\\\n",
    "        & \\qquad + \\sum_{q=1}^{Q}\\theta_q(\\mu)U_N^T\\left[2g_k\\color{blue}A_q^T\\mathbb{X}^\\mathcal{N}C\\color{black} +2\\color{blue}A_q^T\\mathbb{X}^\\mathcal{N}D\\color{black}W_N^k+\\sum_{q'=1}^{Q}\\theta_{q'}(\\mu)\\color{blue}A_q^T\\mathbb{X}^\\mathcal{N}A_{q'}\\color{black}U_N\\right]\n",
    "\\end{aligned}$$\n",
    "\n",
    "Et ainsi on peut calculer les quantitées suivantes offline :\n",
    "\n",
    "$$\\begin{align*}\n",
    "&C^T\\mathbb{X}^\\mathcal{N}C\\in\\mathbb{R} \\qquad &&A_q^T\\mathbb{X}^\\mathcal{N}C\\in\\mathbb{R}^N, \\quad 1\\le q\\le Q \\\\\n",
    "&D^T\\mathbb{X}^\\mathcal{N}C\\in\\mathbb{R}^N \\qquad &&A_q^T\\mathbb{X}^\\mathcal{N}D\\in\\mathbb{R}^{N\\times N}, \\quad 1\\le q\\le Q \\\\\n",
    "&D^T\\mathbb{X}^\\mathcal{N}D\\in\\mathbb{R}^{N\\times N} \\qquad &&A_q^T\\mathbb{X}^\\mathcal{N}A_{q'}\\in\\mathbb{R}^{N\\times N}, \\quad 1\\le q,q'\\le Q\n",
    "\\end{align*}$$"
   ]
  },
  {
   "attachments": {},
   "cell_type": "markdown",
   "metadata": {},
   "source": [
    "#### Comparaison des méthodes"
   ]
  },
  {
   "cell_type": "code",
   "execution_count": 11,
   "metadata": {},
   "outputs": [
    {
     "name": "stdout",
     "output_type": "stream",
     "text": [
      "k in  [  0  20  40  60  80 100]\n",
      "Bi= 0.176180001963859\n",
      "Bi= 0.3169443399084486\n",
      "Bi= 0.34156013923094464\n",
      "Bi= 0.346508137418192\n",
      "Bi= 0.6179387157005924\n",
      "Bi= 0.6351157598062264\n",
      "Bi= 0.6495009353520704\n",
      "Bi= 0.8300215345866243\n",
      "Bi= 0.8422392627066034\n",
      "Bi= 0.856769729525991\n"
     ]
    }
   ],
   "source": [
    "D=[0.01,1]\n",
    "\n",
    "direct = direct_method_time(modele)\n",
    "offline_online = offline_online_method_time(modele)\n",
    "quantity = offline_online.offline_quantity()\n",
    "\n",
    "tab_Bi=np.sort(np.random.uniform(low=D[0], high=D[1], size=(10,)))\n",
    "tab_k = np.arange(0,K+1,20)\n",
    "print(\"k in \",tab_k)\n",
    "\n",
    "res_direct = np.zeros((10,len(tab_k)))\n",
    "res_off_on = np.zeros((10,len(tab_k)))\n",
    "\n",
    "for (i,Bi) in enumerate(tab_Bi):\n",
    "    print(\"Bi=\",Bi)\n",
    "    mu = construct_mu(Bi)\n",
    "    tab_U_k_N = modele.get_u_N_k(U0, g, dt, K, mu)\n",
    "    for (j,k) in enumerate(tab_k):\n",
    "        res_direct[i,j] = direct.compute_Delta_N_en(U0, g, dt, tab_U_k_N, k, mu)\n",
    "        res_off_on[i,j] = offline_online.compute_Delta_N_en(U0, g, dt, tab_U_k_N, k, mu, quantity)"
   ]
  },
  {
   "cell_type": "code",
   "execution_count": 12,
   "metadata": {},
   "outputs": [
    {
     "name": "stdout",
     "output_type": "stream",
     "text": [
      "Comparaison des deux méthodes :\n"
     ]
    },
    {
     "data": {
      "text/html": [
       "<div>\n",
       "<style scoped>\n",
       "    .dataframe tbody tr th:only-of-type {\n",
       "        vertical-align: middle;\n",
       "    }\n",
       "\n",
       "    .dataframe tbody tr th {\n",
       "        vertical-align: top;\n",
       "    }\n",
       "\n",
       "    .dataframe thead tr th {\n",
       "        text-align: left;\n",
       "    }\n",
       "</style>\n",
       "<table border=\"1\" class=\"dataframe\">\n",
       "  <thead>\n",
       "    <tr>\n",
       "      <th></th>\n",
       "      <th colspan=\"2\" halign=\"left\">k = 20</th>\n",
       "      <th colspan=\"2\" halign=\"left\">k = 40</th>\n",
       "      <th colspan=\"2\" halign=\"left\">k = 60</th>\n",
       "      <th colspan=\"2\" halign=\"left\">k = 80</th>\n",
       "      <th colspan=\"2\" halign=\"left\">k = 100</th>\n",
       "    </tr>\n",
       "    <tr>\n",
       "      <th></th>\n",
       "      <th>direct</th>\n",
       "      <th>off/on</th>\n",
       "      <th>direct</th>\n",
       "      <th>off/on</th>\n",
       "      <th>direct</th>\n",
       "      <th>off/on</th>\n",
       "      <th>direct</th>\n",
       "      <th>off/on</th>\n",
       "      <th>direct</th>\n",
       "      <th>off/on</th>\n",
       "    </tr>\n",
       "  </thead>\n",
       "  <tbody>\n",
       "    <tr>\n",
       "      <th>Bi = 0.1762</th>\n",
       "      <td>6.856695</td>\n",
       "      <td>6.856695</td>\n",
       "      <td>6.858583</td>\n",
       "      <td>6.858583</td>\n",
       "      <td>6.860606</td>\n",
       "      <td>6.860606</td>\n",
       "      <td>6.861672</td>\n",
       "      <td>6.861672</td>\n",
       "      <td>6.863622</td>\n",
       "      <td>6.863622</td>\n",
       "    </tr>\n",
       "    <tr>\n",
       "      <th>Bi = 0.3169</th>\n",
       "      <td>5.369665</td>\n",
       "      <td>5.369665</td>\n",
       "      <td>5.372111</td>\n",
       "      <td>5.372111</td>\n",
       "      <td>5.374757</td>\n",
       "      <td>5.374757</td>\n",
       "      <td>5.376122</td>\n",
       "      <td>5.376122</td>\n",
       "      <td>5.378680</td>\n",
       "      <td>5.378680</td>\n",
       "    </tr>\n",
       "    <tr>\n",
       "      <th>Bi = 0.3416</th>\n",
       "      <td>5.191413</td>\n",
       "      <td>5.191413</td>\n",
       "      <td>5.193950</td>\n",
       "      <td>5.193950</td>\n",
       "      <td>5.196696</td>\n",
       "      <td>5.196696</td>\n",
       "      <td>5.198108</td>\n",
       "      <td>5.198108</td>\n",
       "      <td>5.200762</td>\n",
       "      <td>5.200762</td>\n",
       "    </tr>\n",
       "    <tr>\n",
       "      <th>Bi = 0.3465</th>\n",
       "      <td>5.157378</td>\n",
       "      <td>5.157378</td>\n",
       "      <td>5.159934</td>\n",
       "      <td>5.159934</td>\n",
       "      <td>5.162699</td>\n",
       "      <td>5.162699</td>\n",
       "      <td>5.164121</td>\n",
       "      <td>5.164121</td>\n",
       "      <td>5.166794</td>\n",
       "      <td>5.166794</td>\n",
       "    </tr>\n",
       "    <tr>\n",
       "      <th>Bi = 0.6179</th>\n",
       "      <td>3.860816</td>\n",
       "      <td>3.860816</td>\n",
       "      <td>3.864354</td>\n",
       "      <td>3.864354</td>\n",
       "      <td>3.868115</td>\n",
       "      <td>3.868115</td>\n",
       "      <td>3.870005</td>\n",
       "      <td>3.870005</td>\n",
       "      <td>3.873686</td>\n",
       "      <td>3.873686</td>\n",
       "    </tr>\n",
       "    <tr>\n",
       "      <th>Bi = 0.6351</th>\n",
       "      <td>3.803577</td>\n",
       "      <td>3.803577</td>\n",
       "      <td>3.807178</td>\n",
       "      <td>3.807178</td>\n",
       "      <td>3.810998</td>\n",
       "      <td>3.810998</td>\n",
       "      <td>3.812916</td>\n",
       "      <td>3.812916</td>\n",
       "      <td>3.816661</td>\n",
       "      <td>3.816661</td>\n",
       "    </tr>\n",
       "    <tr>\n",
       "      <th>Bi = 0.6495</th>\n",
       "      <td>3.757164</td>\n",
       "      <td>3.757164</td>\n",
       "      <td>3.760819</td>\n",
       "      <td>3.760819</td>\n",
       "      <td>3.764688</td>\n",
       "      <td>3.764688</td>\n",
       "      <td>3.766629</td>\n",
       "      <td>3.766629</td>\n",
       "      <td>3.770428</td>\n",
       "      <td>3.770428</td>\n",
       "    </tr>\n",
       "    <tr>\n",
       "      <th>Bi = 0.83</th>\n",
       "      <td>3.270959</td>\n",
       "      <td>3.270959</td>\n",
       "      <td>3.275320</td>\n",
       "      <td>3.275320</td>\n",
       "      <td>3.279796</td>\n",
       "      <td>3.279796</td>\n",
       "      <td>3.282026</td>\n",
       "      <td>3.282026</td>\n",
       "      <td>3.286532</td>\n",
       "      <td>3.286532</td>\n",
       "    </tr>\n",
       "    <tr>\n",
       "      <th>Bi = 0.8422</th>\n",
       "      <td>3.243355</td>\n",
       "      <td>3.243355</td>\n",
       "      <td>3.247767</td>\n",
       "      <td>3.247767</td>\n",
       "      <td>3.252284</td>\n",
       "      <td>3.252284</td>\n",
       "      <td>3.254533</td>\n",
       "      <td>3.254533</td>\n",
       "      <td>3.259090</td>\n",
       "      <td>3.259090</td>\n",
       "    </tr>\n",
       "    <tr>\n",
       "      <th>Bi = 0.8568</th>\n",
       "      <td>3.211249</td>\n",
       "      <td>3.211249</td>\n",
       "      <td>3.215723</td>\n",
       "      <td>3.215723</td>\n",
       "      <td>3.220288</td>\n",
       "      <td>3.220288</td>\n",
       "      <td>3.222560</td>\n",
       "      <td>3.222560</td>\n",
       "      <td>3.227178</td>\n",
       "      <td>3.227178</td>\n",
       "    </tr>\n",
       "  </tbody>\n",
       "</table>\n",
       "</div>"
      ],
      "text/plain": [
       "               k = 20              k = 40              k = 60            \\\n",
       "               direct    off/on    direct    off/on    direct    off/on   \n",
       "Bi = 0.1762  6.856695  6.856695  6.858583  6.858583  6.860606  6.860606   \n",
       "Bi = 0.3169  5.369665  5.369665  5.372111  5.372111  5.374757  5.374757   \n",
       "Bi = 0.3416  5.191413  5.191413  5.193950  5.193950  5.196696  5.196696   \n",
       "Bi = 0.3465  5.157378  5.157378  5.159934  5.159934  5.162699  5.162699   \n",
       "Bi = 0.6179  3.860816  3.860816  3.864354  3.864354  3.868115  3.868115   \n",
       "Bi = 0.6351  3.803577  3.803577  3.807178  3.807178  3.810998  3.810998   \n",
       "Bi = 0.6495  3.757164  3.757164  3.760819  3.760819  3.764688  3.764688   \n",
       "Bi = 0.83    3.270959  3.270959  3.275320  3.275320  3.279796  3.279796   \n",
       "Bi = 0.8422  3.243355  3.243355  3.247767  3.247767  3.252284  3.252284   \n",
       "Bi = 0.8568  3.211249  3.211249  3.215723  3.215723  3.220288  3.220288   \n",
       "\n",
       "               k = 80             k = 100            \n",
       "               direct    off/on    direct    off/on  \n",
       "Bi = 0.1762  6.861672  6.861672  6.863622  6.863622  \n",
       "Bi = 0.3169  5.376122  5.376122  5.378680  5.378680  \n",
       "Bi = 0.3416  5.198108  5.198108  5.200762  5.200762  \n",
       "Bi = 0.3465  5.164121  5.164121  5.166794  5.166794  \n",
       "Bi = 0.6179  3.870005  3.870005  3.873686  3.873686  \n",
       "Bi = 0.6351  3.812916  3.812916  3.816661  3.816661  \n",
       "Bi = 0.6495  3.766629  3.766629  3.770428  3.770428  \n",
       "Bi = 0.83    3.282026  3.282026  3.286532  3.286532  \n",
       "Bi = 0.8422  3.254533  3.254533  3.259090  3.259090  \n",
       "Bi = 0.8568  3.222560  3.222560  3.227178  3.227178  "
      ]
     },
     "execution_count": 12,
     "metadata": {},
     "output_type": "execute_result"
    }
   ],
   "source": [
    "df_direct = pd.DataFrame(data=res_direct,index=tab_Bi,columns=tab_k)\n",
    "df_direct.columns = [\"k = \" + str(k) for k in tab_k]\n",
    "df_direct.index = [\"Bi = \" + str(np.round(Bi,4)) for Bi in tab_Bi]\n",
    "# df_direct = df_direct.transpose()\n",
    "\n",
    "df_offline_online = pd.DataFrame(data=res_off_on,index=tab_Bi,columns=tab_k)\n",
    "df_offline_online.columns = [\"k = \" + str(k) for k in tab_k]\n",
    "df_offline_online.index = [\"Bi = \" + str(np.round(Bi,4)) for Bi in tab_Bi]\n",
    "# df_offline_online = df_offline_online.transpose()\n",
    "       \n",
    "print(\"Comparaison des deux méthodes :\")\n",
    "# argument result_names disponible à partir de pandas 1.5.2\n",
    "df_direct.compare(df_offline_online,result_names=('direct', 'off/on'))"
   ]
  },
  {
   "attachments": {},
   "cell_type": "markdown",
   "metadata": {},
   "source": [
    "## Part 3 - Sampling Procedure (non aboutit)"
   ]
  },
  {
   "attachments": {},
   "cell_type": "markdown",
   "metadata": {},
   "source": [
    "On cherche à implémenter l'algorithme POD-Greedy :"
   ]
  },
  {
   "cell_type": "code",
   "execution_count": 13,
   "metadata": {},
   "outputs": [],
   "source": [
    "# to convert the algorithm from md to pdf\n",
    "# !pandoc greedy_algorithm.md -o greedy_algorithm.pdf"
   ]
  },
  {
   "attachments": {},
   "cell_type": "markdown",
   "metadata": {},
   "source": [
    "<img src=\"pod_greedy_algorithm.png\" width=\"500\"/>"
   ]
  },
  {
   "attachments": {},
   "cell_type": "markdown",
   "metadata": {},
   "source": [
    "où\n",
    "$$e_{N,proj}^k(\\mu^*)=u^k(\\mu)-Z_N(Z_N^T\\mathbb{X}^\\mathcal{N}u^k(\\mu))$$\n",
    "et $POD_X(\\{e_{N,proj}^k(\\mu), 1\\le k\\le K\\},1):=\\psi^{POD,1}$ est calculée avec les étapes suivantes :\n",
    "1. Calculer la matrice de corrélation $C^{POD}\\in\\mathbb{R}^{K\\times K}$ : \n",
    "    $$C^{POD}_{i,j}=\\frac{1}{K}(e_{N,proj}^i(\\mu^*),e_{N,proj}^j(\\mu^*))$$\n",
    "2. Résoudre pour le couple $(\\psi^{POD,max},\\lambda^{POD,max})$ la plus grande valeur propre $\\lambda^{POD,max}$ pour\n",
    "    $$C^{POD}\\psi^{POD,max}=\\lambda^{POD,max}\\psi^{POD,max}$$\n",
    "3. Calculer le plus grand mode POD\n",
    "    $$\\psi^{POD,1}=\\sum_{k=1}^K \\psi_k^{POD,max}u^k(\\mu)$$"
   ]
  },
  {
   "attachments": {},
   "cell_type": "markdown",
   "metadata": {},
   "source": [
    "*Cette implémentation n'est pas fonctionnelle !*"
   ]
  },
  {
   "cell_type": "code",
   "execution_count": 14,
   "metadata": {},
   "outputs": [],
   "source": [
    "def greedy_algorithm(method,mu_1,mu_train,g,dt,K,eps_tol):\n",
    "    Delta_N_max = 1\n",
    "    tab_mu_N = []\n",
    "    mu_N = mu_1\n",
    "    while Delta_N_max >= eps_tol:\n",
    "        print(\"N = \",method.modele.N,\" ; Delta_N_max = \",Delta_N_max)\n",
    "        Delta_N_max,mu_N = method.modele.one_step_greedy(method,mu_train,g,dt,K,mu_N)\n",
    "        tab_mu_N.append((mu_N,Delta_N_max))\n",
    "    tab_mu_N.append(None)\n",
    "\n",
    "    return tab_mu_N"
   ]
  },
  {
   "cell_type": "code",
   "execution_count": 15,
   "metadata": {},
   "outputs": [],
   "source": [
    "type='medium'\n",
    "xi_train = np.logspace(np.log10(D[0]),np.log10(D[1]),100)\n",
    "mu_train = np.array([construct_mu(Bi) for Bi in xi_train])\n",
    "mu_1 = construct_mu(D[0])\n",
    "S_1 = np.array([mu_1])\n",
    "sample=0\n",
    "eps_tol=1e-6\n",
    "def g(tk,k):\n",
    "    return (int)(k==1)\n",
    "\n",
    "modele=reduce_basis_time(type,sample,mu_prod,S_N=S_1)\n",
    "method=offline_online_method_time(modele)"
   ]
  },
  {
   "cell_type": "code",
   "execution_count": 16,
   "metadata": {},
   "outputs": [
    {
     "name": "stdout",
     "output_type": "stream",
     "text": [
      "N =  0  ; Delta_N_max =  1\n"
     ]
    },
    {
     "name": "stderr",
     "output_type": "stream",
     "text": [
      "/mnt/c/Users/lecou/OneDrive - etu.unistra.fr/Master/M2/S1/calcul_scientifique_3/Prudhomm/Projet/2022-sc3-problem-4-flecourtier/reduce_basis_time.py:212: ComplexWarning: Casting complex values to real discards the imaginary part\n",
      "  self.Z_complet[:,0] = psi_POD1\n",
      "/mnt/c/Users/lecou/OneDrive - etu.unistra.fr/Master/M2/S1/calcul_scientifique_3/Prudhomm/Projet/2022-sc3-problem-4-flecourtier/reduce_basis_time.py:142: LinAlgWarning: Diagonal number 1 is exactly zero. Singular matrix.\n",
      "  lu, piv = lu_factor(B)\n"
     ]
    },
    {
     "ename": "ValueError",
     "evalue": "array must not contain infs or NaNs",
     "output_type": "error",
     "traceback": [
      "\u001b[0;31m---------------------------------------------------------------------------\u001b[0m",
      "\u001b[0;31mValueError\u001b[0m                                Traceback (most recent call last)",
      "\u001b[0;32m<ipython-input-16-4a0bcfc8dd90>\u001b[0m in \u001b[0;36m<module>\u001b[0;34m\u001b[0m\n\u001b[0;32m----> 1\u001b[0;31m \u001b[0mtab_mu_N\u001b[0m \u001b[0;34m=\u001b[0m \u001b[0mgreedy_algorithm\u001b[0m\u001b[0;34m(\u001b[0m\u001b[0mmethod\u001b[0m\u001b[0;34m,\u001b[0m\u001b[0mmu_1\u001b[0m\u001b[0;34m,\u001b[0m\u001b[0mmu_train\u001b[0m\u001b[0;34m,\u001b[0m\u001b[0mg\u001b[0m\u001b[0;34m,\u001b[0m\u001b[0mdt\u001b[0m\u001b[0;34m,\u001b[0m\u001b[0mK\u001b[0m\u001b[0;34m,\u001b[0m\u001b[0meps_tol\u001b[0m\u001b[0;34m)\u001b[0m\u001b[0;34m\u001b[0m\u001b[0;34m\u001b[0m\u001b[0m\n\u001b[0m",
      "\u001b[0;32m<ipython-input-14-dec19f96a94c>\u001b[0m in \u001b[0;36mgreedy_algorithm\u001b[0;34m(method, mu_1, mu_train, g, dt, K, eps_tol)\u001b[0m\n\u001b[1;32m      5\u001b[0m     \u001b[0;32mwhile\u001b[0m \u001b[0mDelta_N_max\u001b[0m \u001b[0;34m>=\u001b[0m \u001b[0meps_tol\u001b[0m\u001b[0;34m:\u001b[0m\u001b[0;34m\u001b[0m\u001b[0;34m\u001b[0m\u001b[0m\n\u001b[1;32m      6\u001b[0m         \u001b[0mprint\u001b[0m\u001b[0;34m(\u001b[0m\u001b[0;34m\"N = \"\u001b[0m\u001b[0;34m,\u001b[0m\u001b[0mmethod\u001b[0m\u001b[0;34m.\u001b[0m\u001b[0mmodele\u001b[0m\u001b[0;34m.\u001b[0m\u001b[0mN\u001b[0m\u001b[0;34m,\u001b[0m\u001b[0;34m\" ; Delta_N_max = \"\u001b[0m\u001b[0;34m,\u001b[0m\u001b[0mDelta_N_max\u001b[0m\u001b[0;34m)\u001b[0m\u001b[0;34m\u001b[0m\u001b[0;34m\u001b[0m\u001b[0m\n\u001b[0;32m----> 7\u001b[0;31m         \u001b[0mDelta_N_max\u001b[0m\u001b[0;34m,\u001b[0m\u001b[0mmu_N\u001b[0m \u001b[0;34m=\u001b[0m \u001b[0mmethod\u001b[0m\u001b[0;34m.\u001b[0m\u001b[0mmodele\u001b[0m\u001b[0;34m.\u001b[0m\u001b[0mone_step_greedy\u001b[0m\u001b[0;34m(\u001b[0m\u001b[0mmethod\u001b[0m\u001b[0;34m,\u001b[0m\u001b[0mmu_train\u001b[0m\u001b[0;34m,\u001b[0m\u001b[0mg\u001b[0m\u001b[0;34m,\u001b[0m\u001b[0mdt\u001b[0m\u001b[0;34m,\u001b[0m\u001b[0mK\u001b[0m\u001b[0;34m,\u001b[0m\u001b[0mmu_N\u001b[0m\u001b[0;34m)\u001b[0m\u001b[0;34m\u001b[0m\u001b[0;34m\u001b[0m\u001b[0m\n\u001b[0m\u001b[1;32m      8\u001b[0m         \u001b[0mtab_mu_N\u001b[0m\u001b[0;34m.\u001b[0m\u001b[0mappend\u001b[0m\u001b[0;34m(\u001b[0m\u001b[0;34m(\u001b[0m\u001b[0mmu_N\u001b[0m\u001b[0;34m,\u001b[0m\u001b[0mDelta_N_max\u001b[0m\u001b[0;34m)\u001b[0m\u001b[0;34m)\u001b[0m\u001b[0;34m\u001b[0m\u001b[0;34m\u001b[0m\u001b[0m\n\u001b[1;32m      9\u001b[0m     \u001b[0mtab_mu_N\u001b[0m\u001b[0;34m.\u001b[0m\u001b[0mappend\u001b[0m\u001b[0;34m(\u001b[0m\u001b[0;32mNone\u001b[0m\u001b[0;34m)\u001b[0m\u001b[0;34m\u001b[0m\u001b[0;34m\u001b[0m\u001b[0m\n",
      "\u001b[0;32m/mnt/c/Users/lecou/OneDrive - etu.unistra.fr/Master/M2/S1/calcul_scientifique_3/Prudhomm/Projet/2022-sc3-problem-4-flecourtier/reduce_basis_time.py\u001b[0m in \u001b[0;36mone_step_greedy\u001b[0;34m(self, method, mu_train, g, dt, K, mu_N)\u001b[0m\n\u001b[1;32m    224\u001b[0m         \u001b[0;32mfor\u001b[0m \u001b[0mmu\u001b[0m \u001b[0;32min\u001b[0m \u001b[0mmu_train\u001b[0m\u001b[0;34m:\u001b[0m\u001b[0;34m\u001b[0m\u001b[0;34m\u001b[0m\u001b[0m\n\u001b[1;32m    225\u001b[0m             \u001b[0mA_N_cal_mu\u001b[0m \u001b[0;34m=\u001b[0m \u001b[0mself\u001b[0m\u001b[0;34m.\u001b[0m\u001b[0mget_A_N_cal\u001b[0m\u001b[0;34m(\u001b[0m\u001b[0mmu\u001b[0m\u001b[0;34m)\u001b[0m\u001b[0;34m\u001b[0m\u001b[0;34m\u001b[0m\u001b[0m\n\u001b[0;32m--> 226\u001b[0;31m             \u001b[0mtab_U_k_N\u001b[0m \u001b[0;34m=\u001b[0m \u001b[0mself\u001b[0m\u001b[0;34m.\u001b[0m\u001b[0mget_u_N_k\u001b[0m\u001b[0;34m(\u001b[0m\u001b[0mU0_N\u001b[0m\u001b[0;34m,\u001b[0m \u001b[0mg\u001b[0m\u001b[0;34m,\u001b[0m \u001b[0mdt\u001b[0m\u001b[0;34m,\u001b[0m \u001b[0mK\u001b[0m\u001b[0;34m,\u001b[0m \u001b[0mmu\u001b[0m\u001b[0;34m)\u001b[0m\u001b[0;34m\u001b[0m\u001b[0;34m\u001b[0m\u001b[0m\n\u001b[0m\u001b[1;32m    227\u001b[0m             \u001b[0mU_N_K\u001b[0m \u001b[0;34m=\u001b[0m \u001b[0mtab_U_k_N\u001b[0m\u001b[0;34m[\u001b[0m\u001b[0;34m-\u001b[0m\u001b[0;36m1\u001b[0m\u001b[0;34m]\u001b[0m\u001b[0;34m\u001b[0m\u001b[0;34m\u001b[0m\u001b[0m\n\u001b[1;32m    228\u001b[0m             \u001b[0mDelta_N_K\u001b[0m \u001b[0;34m=\u001b[0m \u001b[0mmethod\u001b[0m\u001b[0;34m.\u001b[0m\u001b[0mcompute_Delta_N_en\u001b[0m\u001b[0;34m(\u001b[0m\u001b[0mU0_N\u001b[0m\u001b[0;34m,\u001b[0m \u001b[0mg\u001b[0m\u001b[0;34m,\u001b[0m \u001b[0mdt\u001b[0m\u001b[0;34m,\u001b[0m \u001b[0mtab_U_k_N\u001b[0m\u001b[0;34m,\u001b[0m \u001b[0mK\u001b[0m\u001b[0;34m,\u001b[0m \u001b[0mmu\u001b[0m\u001b[0;34m,\u001b[0m \u001b[0mquantity\u001b[0m\u001b[0;34m)\u001b[0m\u001b[0;34m\u001b[0m\u001b[0;34m\u001b[0m\u001b[0m\n",
      "\u001b[0;32m/mnt/c/Users/lecou/OneDrive - etu.unistra.fr/Master/M2/S1/calcul_scientifique_3/Prudhomm/Projet/2022-sc3-problem-4-flecourtier/reduce_basis_time.py\u001b[0m in \u001b[0;36mget_u_N_k\u001b[0;34m(self, U0, g, dt, K, mu)\u001b[0m\n\u001b[1;32m    151\u001b[0m             \u001b[0mg_tk\u001b[0m \u001b[0;34m=\u001b[0m \u001b[0mg\u001b[0m\u001b[0;34m(\u001b[0m\u001b[0mtk\u001b[0m\u001b[0;34m,\u001b[0m\u001b[0mk\u001b[0m\u001b[0;34m)\u001b[0m\u001b[0;34m\u001b[0m\u001b[0;34m\u001b[0m\u001b[0m\n\u001b[1;32m    152\u001b[0m             \u001b[0mrhs\u001b[0m \u001b[0;34m=\u001b[0m \u001b[0mself\u001b[0m\u001b[0;34m.\u001b[0m\u001b[0mF_N\u001b[0m \u001b[0;34m*\u001b[0m \u001b[0mg_tk\u001b[0m \u001b[0;34m+\u001b[0m \u001b[0;36m1\u001b[0m\u001b[0;34m/\u001b[0m\u001b[0mdt\u001b[0m \u001b[0;34m*\u001b[0m \u001b[0mself\u001b[0m\u001b[0;34m.\u001b[0m\u001b[0mM_N\u001b[0m \u001b[0;34m@\u001b[0m \u001b[0mtab_Uk\u001b[0m\u001b[0;34m[\u001b[0m\u001b[0;34m-\u001b[0m\u001b[0;36m1\u001b[0m\u001b[0;34m]\u001b[0m\u001b[0;34m\u001b[0m\u001b[0;34m\u001b[0m\u001b[0m\n\u001b[0;32m--> 153\u001b[0;31m             \u001b[0mUk\u001b[0m \u001b[0;34m=\u001b[0m \u001b[0mlu_solve\u001b[0m\u001b[0;34m(\u001b[0m\u001b[0;34m(\u001b[0m\u001b[0mlu\u001b[0m\u001b[0;34m,\u001b[0m \u001b[0mpiv\u001b[0m\u001b[0;34m)\u001b[0m\u001b[0;34m,\u001b[0m \u001b[0mrhs\u001b[0m\u001b[0;34m)\u001b[0m\u001b[0;34m\u001b[0m\u001b[0;34m\u001b[0m\u001b[0m\n\u001b[0m\u001b[1;32m    154\u001b[0m             \u001b[0mtab_Uk\u001b[0m\u001b[0;34m.\u001b[0m\u001b[0mappend\u001b[0m\u001b[0;34m(\u001b[0m\u001b[0mUk\u001b[0m\u001b[0;34m)\u001b[0m\u001b[0;34m\u001b[0m\u001b[0;34m\u001b[0m\u001b[0m\n\u001b[1;32m    155\u001b[0m             \u001b[0mtk\u001b[0m \u001b[0;34m+=\u001b[0m \u001b[0mdt\u001b[0m\u001b[0;34m\u001b[0m\u001b[0;34m\u001b[0m\u001b[0m\n",
      "\u001b[0;32m~/.local/lib/python3.8/site-packages/scipy/linalg/decomp_lu.py\u001b[0m in \u001b[0;36mlu_solve\u001b[0;34m(lu_and_piv, b, trans, overwrite_b, check_finite)\u001b[0m\n\u001b[1;32m    133\u001b[0m     \u001b[0;34m(\u001b[0m\u001b[0mlu\u001b[0m\u001b[0;34m,\u001b[0m \u001b[0mpiv\u001b[0m\u001b[0;34m)\u001b[0m \u001b[0;34m=\u001b[0m \u001b[0mlu_and_piv\u001b[0m\u001b[0;34m\u001b[0m\u001b[0;34m\u001b[0m\u001b[0m\n\u001b[1;32m    134\u001b[0m     \u001b[0;32mif\u001b[0m \u001b[0mcheck_finite\u001b[0m\u001b[0;34m:\u001b[0m\u001b[0;34m\u001b[0m\u001b[0;34m\u001b[0m\u001b[0m\n\u001b[0;32m--> 135\u001b[0;31m         \u001b[0mb1\u001b[0m \u001b[0;34m=\u001b[0m \u001b[0masarray_chkfinite\u001b[0m\u001b[0;34m(\u001b[0m\u001b[0mb\u001b[0m\u001b[0;34m)\u001b[0m\u001b[0;34m\u001b[0m\u001b[0;34m\u001b[0m\u001b[0m\n\u001b[0m\u001b[1;32m    136\u001b[0m     \u001b[0;32melse\u001b[0m\u001b[0;34m:\u001b[0m\u001b[0;34m\u001b[0m\u001b[0;34m\u001b[0m\u001b[0m\n\u001b[1;32m    137\u001b[0m         \u001b[0mb1\u001b[0m \u001b[0;34m=\u001b[0m \u001b[0masarray\u001b[0m\u001b[0;34m(\u001b[0m\u001b[0mb\u001b[0m\u001b[0;34m)\u001b[0m\u001b[0;34m\u001b[0m\u001b[0;34m\u001b[0m\u001b[0m\n",
      "\u001b[0;32m~/.local/lib/python3.8/site-packages/numpy/lib/function_base.py\u001b[0m in \u001b[0;36masarray_chkfinite\u001b[0;34m(a, dtype, order)\u001b[0m\n\u001b[1;32m    486\u001b[0m     \u001b[0ma\u001b[0m \u001b[0;34m=\u001b[0m \u001b[0masarray\u001b[0m\u001b[0;34m(\u001b[0m\u001b[0ma\u001b[0m\u001b[0;34m,\u001b[0m \u001b[0mdtype\u001b[0m\u001b[0;34m=\u001b[0m\u001b[0mdtype\u001b[0m\u001b[0;34m,\u001b[0m \u001b[0morder\u001b[0m\u001b[0;34m=\u001b[0m\u001b[0morder\u001b[0m\u001b[0;34m)\u001b[0m\u001b[0;34m\u001b[0m\u001b[0;34m\u001b[0m\u001b[0m\n\u001b[1;32m    487\u001b[0m     \u001b[0;32mif\u001b[0m \u001b[0ma\u001b[0m\u001b[0;34m.\u001b[0m\u001b[0mdtype\u001b[0m\u001b[0;34m.\u001b[0m\u001b[0mchar\u001b[0m \u001b[0;32min\u001b[0m \u001b[0mtypecodes\u001b[0m\u001b[0;34m[\u001b[0m\u001b[0;34m'AllFloat'\u001b[0m\u001b[0;34m]\u001b[0m \u001b[0;32mand\u001b[0m \u001b[0;32mnot\u001b[0m \u001b[0mnp\u001b[0m\u001b[0;34m.\u001b[0m\u001b[0misfinite\u001b[0m\u001b[0;34m(\u001b[0m\u001b[0ma\u001b[0m\u001b[0;34m)\u001b[0m\u001b[0;34m.\u001b[0m\u001b[0mall\u001b[0m\u001b[0;34m(\u001b[0m\u001b[0;34m)\u001b[0m\u001b[0;34m:\u001b[0m\u001b[0;34m\u001b[0m\u001b[0;34m\u001b[0m\u001b[0m\n\u001b[0;32m--> 488\u001b[0;31m         raise ValueError(\n\u001b[0m\u001b[1;32m    489\u001b[0m             \"array must not contain infs or NaNs\")\n\u001b[1;32m    490\u001b[0m     \u001b[0;32mreturn\u001b[0m \u001b[0ma\u001b[0m\u001b[0;34m\u001b[0m\u001b[0;34m\u001b[0m\u001b[0m\n",
      "\u001b[0;31mValueError\u001b[0m: array must not contain infs or NaNs"
     ]
    }
   ],
   "source": [
    "tab_mu_N = greedy_algorithm(method,mu_1,mu_train,g,dt,K,eps_tol)"
   ]
  }
 ],
 "metadata": {
  "kernelspec": {
   "display_name": "Python 3",
   "language": "python",
   "name": "python3"
  },
  "language_info": {
   "codemirror_mode": {
    "name": "ipython",
    "version": 3
   },
   "file_extension": ".py",
   "mimetype": "text/x-python",
   "name": "python",
   "nbconvert_exporter": "python",
   "pygments_lexer": "ipython3",
   "version": "3.8.10"
  },
  "orig_nbformat": 4,
  "vscode": {
   "interpreter": {
    "hash": "916dbcbb3f70747c44a77c7bcd40155683ae19c65e1c03b4aa3499c5328201f1"
   }
  }
 },
 "nbformat": 4,
 "nbformat_minor": 2
}
