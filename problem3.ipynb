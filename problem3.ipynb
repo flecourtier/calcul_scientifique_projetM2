{
 "cells": [
  {
   "cell_type": "markdown",
   "metadata": {},
   "source": [
    "# Problem Set 3"
   ]
  },
  {
   "cell_type": "code",
   "execution_count": 1,
   "metadata": {},
   "outputs": [
    {
     "name": "stderr",
     "output_type": "stream",
     "text": [
      "/home/flecourtier/.local/lib/python3.8/site-packages/pandas/core/computation/expressions.py:20: UserWarning: Pandas requires version '2.7.3' or newer of 'numexpr' (version '2.7.1' currently installed).\n",
      "  from pandas.core.computation.check import NUMEXPR_INSTALLED\n"
     ]
    }
   ],
   "source": [
    "import numpy as np\n",
    "import scipy as sp\n",
    "from scipy.sparse import csc_matrix\n",
    "from scipy.sparse.linalg import spsolve\n",
    "from scipy.io import loadmat\n",
    "import matplotlib.tri as tri\n",
    "import matplotlib.pyplot as plt\n",
    "import time\n",
    "import pandas as pd\n",
    "from IPython.display import display, Latex\n",
    "import math\n",
    "import time\n",
    "# chargement des classes du \"problem set 2\"\n",
    "from reduce_basis import *"
   ]
  },
  {
   "cell_type": "markdown",
   "metadata": {},
   "source": [
    "## Introduction"
   ]
  },
  {
   "attachments": {},
   "cell_type": "markdown",
   "metadata": {},
   "source": [
    "Nous considérons à nouveau le problème de la conception d'une ailette thermique des \"Problem Set 1\" et \"Problem Set 2\". Compte tenu de l'approximation de base réduite mise en oeuvre dans le \"Problem Set 2\", nous nous tournons vers\n",
    "l'implémentation des procédures associées d'estimation d'erreur a posteriori développées dans le cours. La seconde moitié de ce problème est consacrée à l'implémentation de \"greedy sampling procedure\". Nous allons considérer les deux cas suivants :\n",
    "\n",
    "* **Cas 1 (P=1) :**\n",
    "\n",
    "    On garde le nombre de Biot fixe à $Bi=0.1$ et on assume que les conductivités sur toutes les ailettes sont équivalentes c'est-à-dire $k=k_1=k_2=k_3=k_4$ mais peuvent variées entre 0.1 et 10, on a donc $\\mu\\in D=[0.1,10]$. \n",
    "    \n",
    "    Pour ce premier cas, nous définissons le produit scalaire sur $X$ par $(\\cdot,\\cdot)_X=a(\\cdot,\\cdot,\\bar{\\mu})$ où $\\bar{\\mu}=1$.\n",
    "\n",
    "* **Cas 2 (P=1) :**\n",
    "\n",
    "    On assume de nouveau que les conductivités sur toutes les ailettes sont équivalentes c'est-à-dire $k=k_1=k_2=k_3=k_4$ mais peuvent variées entre 0.1 et 10 et cette fois-ci le nombre de Biot $Bi$ est également autorisé à varier entre 0.01 et 1. \n",
    "    \n",
    "    On a donc $\\mu\\in D=[0.1,10]\\times [0.01,1]$. \n",
    "    \n",
    "    Pour ce second cas, nous définissons le produit scalaire sur $X$ par $(\\cdot,\\cdot)_X=a(\\cdot,\\cdot,\\bar{\\mu})$ où $\\bar{\\mu}=(1,0.1)$.\n",
    "\n",
    "On remarque en fait que dans les deux cas les produits scalaires sur $X$ sont les mêmes."
   ]
  },
  {
   "attachments": {},
   "cell_type": "markdown",
   "metadata": {},
   "source": [
    "Nous déffinissons également les grilles de paramètres $G_{[\\mu_{min},\\mu_{max};M]}^{lin}$ où les M points sont équi-répartis dans $\\mu$ et $G_{[\\mu_{min},\\mu_{max};M]}^{log}$ où les M points sont équi-répartis dans $\\log(\\mu)$. Ainsi\n",
    "\n",
    "* Dans le **Cas 1**, on définira \n",
    "    $$\\Xi_M^{test}=G_{[\\mu_{min},\\mu_{max};M]}^{lin}\\cup G_{[\\mu_{min},\\mu_{max};M]}^{log}$$\n",
    "    A noter que $\\Xi_M^{test}$ contient $2M$ points.\n",
    "\n",
    "* Dans le **Cas 2**, on définira \n",
    "    $$\\Xi_M^{test}=\\Xi_M^{lin} \\cup \\Xi_M^{log}$$\n",
    "    avec\n",
    "    $$\\Xi_M^{lin}=G_{[k_{min},k_{max};M]}^{lin}\\times G_{[Bi_{min},Bi_{max};M]}^{lin}, \\quad \\Xi_M^{log}=G_{[k_{min},k_{max};M]}^{log}\\times G_{[Bi_{min},Bi_{max};M]}^{log}$$\n",
    "    A noter que $\\Xi_M^{lin}$ et $\\Xi_M^{log}$ contiennent chacun $M^2$ points et donc $\\Xi_M^{test}$ contient $2M^2$ points."
   ]
  },
  {
   "attachments": {},
   "cell_type": "markdown",
   "metadata": {},
   "source": [
    "## Classes et fonctions"
   ]
  },
  {
   "attachments": {},
   "cell_type": "markdown",
   "metadata": {},
   "source": [
    "Dans cette section, il y a les fonctions suivantes : \n",
    "* *compute_theta_q_mu* -> calcule $\\theta_q(\\mu)$\n",
    "* *compute_alpha_LB* -> calcule la borne inférieure de coercivité : $\\alpha_{LB}(\\mu)$\n",
    "* *compute_gamma_UB* -> calcule la borne supérieure de continuité : $\\gamma_{UB}(\\mu)$\n",
    "* *compute_eff_en_bound* -> calcule la borne de l'effectivité associée à la norme d'énergie : $\\eta_{N}^{en}(\\mu)\\le\\sqrt{\\frac{\\gamma_{UB}(\\mu)}{\\alpha_{LB}(\\mu)}}$\n",
    "* *compute_eff_out_bound* -> calcule la borne de l'effectivité associée à la sortie : $\\eta_{N}^{s}(\\mu)\\le\\frac{\\gamma_{UB}(\\mu)}{\\alpha_{LB}(\\mu)}$\n",
    "\n",
    "Ces fonctions seront expliquées et utilisées dans la suite."
   ]
  },
  {
   "cell_type": "code",
   "execution_count": 2,
   "metadata": {},
   "outputs": [],
   "source": [
    "mu_prod = np.array([1., 1., 1., 1., 1., 0.1])\n",
    "\n",
    "def compute_theta_q_mu(q,mu):\n",
    "    assert(1<=q and q<=6)\n",
    "    return mu[q-1]\n",
    "\n",
    "def compute_alpha_LB(mu):\n",
    "    tab_alpha_LB = np.zeros(6)\n",
    "    for q in range(6):\n",
    "        tab_alpha_LB[q] = compute_theta_q_mu(q+1,mu) / compute_theta_q_mu(q+1,mu_prod) \n",
    "    return np.min(tab_alpha_LB)\n",
    "\n",
    "def compute_gamma_UB(mu):\n",
    "    tab_gamma_UB = np.zeros(6)\n",
    "    for q in range(6):\n",
    "        tab_gamma_UB[q] = compute_theta_q_mu(q+1,mu) / compute_theta_q_mu(q+1,mu_prod) \n",
    "    return np.max(tab_gamma_UB)\n",
    "\n",
    "def compute_eff_en_bound(mu):\n",
    "    alpha_LB = compute_alpha_LB(mu)\n",
    "    gamma_UB = compute_gamma_UB(mu)\n",
    "    return np.sqrt(gamma_UB / alpha_LB)\n",
    "\n",
    "def compute_eff_out_bound(mu):\n",
    "    alpha_LB = compute_alpha_LB(mu)\n",
    "    gamma_UB = compute_gamma_UB(mu)\n",
    "    return gamma_UB / alpha_LB"
   ]
  },
  {
   "attachments": {},
   "cell_type": "markdown",
   "metadata": {},
   "source": [
    "### Méthode directe"
   ]
  },
  {
   "attachments": {},
   "cell_type": "markdown",
   "metadata": {},
   "source": [
    "La classe suivante regroupe les méthodes utiles à la méthode directe, méthode expliquée dans le Partie 2. "
   ]
  },
  {
   "cell_type": "code",
   "execution_count": 3,
   "metadata": {},
   "outputs": [],
   "source": [
    "class direct_method():\n",
    "    def __init__(self, modele):\n",
    "        self.modele = modele\n",
    "    \n",
    "    def compute_R_mu(self,mu):\n",
    "        U_N = self.modele.get_u_N(mu)\n",
    "        R_mu = self.modele.F_N_cal - self.modele.get_A_N_cal(mu) @ self.modele.Z @ U_N\n",
    "        return R_mu\n",
    "\n",
    "    def compute_Delta_N_en(self,mu):\n",
    "        R_mu = self.compute_R_mu(mu)\n",
    "        E_hat_mu = spsolve(self.modele.A_prod, R_mu)\n",
    "        norm_residual = self.modele.norme(E_hat_mu)\n",
    "        alpha_LB = compute_alpha_LB(mu)\n",
    "        Delta_N_en_mu = norm_residual/np.sqrt(alpha_LB)\n",
    "        return Delta_N_en_mu\n",
    "\n",
    "    def en_effectivity(self,mu):\n",
    "        A_N_cal_mu = self.modele.get_A_N_cal(mu)\n",
    "        u_N_cal_mu = self.modele.get_u_N_cal(mu)\n",
    "        u_N_mu = self.modele.get_u_N(mu)\n",
    "        e_mu = u_N_cal_mu - self.modele.Z @ u_N_mu\n",
    "        norm_e_mu = np.sqrt(e_mu.T @ A_N_cal_mu @ e_mu)\n",
    "\n",
    "        Delta_N_en_mu = self.compute_Delta_N_en(mu)\n",
    "        exclude = (norm_e_mu<=1e-8)\n",
    "        return Delta_N_en_mu/norm_e_mu,exclude"
   ]
  },
  {
   "attachments": {},
   "cell_type": "markdown",
   "metadata": {},
   "source": [
    "### Méthode offline/online"
   ]
  },
  {
   "attachments": {},
   "cell_type": "markdown",
   "metadata": {},
   "source": [
    "La classe suivante regroupe les méthodes utiles à la méthode offline-online, méthode expliquée dans le Partie 2. "
   ]
  },
  {
   "cell_type": "code",
   "execution_count": 4,
   "metadata": {},
   "outputs": [],
   "source": [
    "class offline_online_method():\n",
    "    def __init__(self, modele):\n",
    "        self.modele = modele\n",
    "    \n",
    "    def compute_norm_residual(self,mu,Q_1,Q_2,Q_3):\n",
    "        val = Q_1.copy()\n",
    "        u_N_mu = self.modele.get_u_N(mu)\n",
    "        for q in range(6):\n",
    "            theta_q_mu = compute_theta_q_mu(q+1,mu)\n",
    "\n",
    "            val2 = 2 * Q_2[q]\n",
    "            for q2 in range(6):\n",
    "                theta_q2_mu = compute_theta_q_mu(q2+1,mu)\n",
    "                val2 += theta_q2_mu * Q_3[q2][q] @ u_N_mu\n",
    "\n",
    "            val += theta_q_mu * u_N_mu.T @ val2\n",
    "        return np.sqrt(val)\n",
    "\n",
    "    def compute_Delta_N_en(self,mu,Q_1,Q_2,Q_3):\n",
    "        norm_residual = self.compute_norm_residual(mu,Q_1,Q_2,Q_3)\n",
    "        alpha_LB = compute_alpha_LB(mu)\n",
    "        Delta_N_en_mu = norm_residual/np.sqrt(alpha_LB)\n",
    "        return Delta_N_en_mu\n",
    "\n",
    "    def en_effectivity(self,mu,Q_1,Q_2,Q_3):\n",
    "        A_N_cal_mu = self.modele.get_A_N_cal(mu)\n",
    "        u_N_cal_mu = self.modele.get_u_N_cal(mu)\n",
    "        u_N_mu = self.modele.get_u_N(mu)\n",
    "        e_mu = u_N_cal_mu - self.modele.Z @ u_N_mu\n",
    "        norm_e_mu = np.sqrt(e_mu.T @ A_N_cal_mu @ e_mu)\n",
    "\n",
    "        Delta_N_en_mu = self.compute_Delta_N_en(mu,Q_1,Q_2,Q_3)\n",
    "        exclude = (norm_e_mu<=1e-7)\n",
    "        return Delta_N_en_mu/norm_e_mu,exclude\n",
    "\n",
    "    def compute_Delta_N_s(self,mu,Q_1,Q_2,Q_3):\n",
    "        Delta_N_en_mu = self.compute_Delta_N_en(mu,Q_1,Q_2,Q_3)\n",
    "        return Delta_N_en_mu**2\n",
    "\n",
    "    def s_effectivity(self,mu,Q_1,Q_2,Q_3):\n",
    "        Delta_N_s_mu = self.compute_Delta_N_s(mu,Q_1,Q_2,Q_3)\n",
    "        \n",
    "        s_N_cal = self.modele.get_T_root_N_cal(mu)\n",
    "        s_N = self.modele.get_T_root_N(mu)\n",
    "        diff_output = np.abs(s_N_cal-s_N)\n",
    "\n",
    "        exclude = (diff_output<=1e-11)\n",
    "        return Delta_N_s_mu/diff_output,exclude\n",
    "    \n",
    "    def offline_quantity(self):\n",
    "        C = spsolve(self.modele.A_prod, self.modele.F_N_cal) # de taille N_cal\n",
    "        A_q = np.array([-spsolve(self.modele.A_prod, self.modele.A_N_cal_q[q] @ self.modele.Z) for q in range(6)]) # 6 matrices de taille N_cal*N\n",
    "\n",
    "        Q_1 = np.array(self.modele.prod_scalaire(C,C)) # scalaire\n",
    "        Q_2 = np.array([self.modele.prod_scalaire(A_q[q],C) for q in range(6)]) # Q=6 vecteurs de taille N\n",
    "        Q_3 = np.array([[self.modele.prod_scalaire(A_q[q2],A_q[q]) for q in range(6)] for q2 in range(6)]) # 6*6 matrices de taille N*N\n",
    "\n",
    "        if(self.modele.Z.shape[1]==1):\n",
    "            Q_2 = Q_2[:,np.newaxis]\n",
    "            Q_3 = Q_3[:,:,np.newaxis]\n",
    "\n",
    "        return Q_1,Q_2,Q_3"
   ]
  },
  {
   "attachments": {},
   "cell_type": "markdown",
   "metadata": {},
   "source": [
    "## Part 1 - Coercivity Lower Bound and X-Norm error bound"
   ]
  },
  {
   "cell_type": "markdown",
   "metadata": {},
   "source": [
    "### Question 1"
   ]
  },
  {
   "cell_type": "markdown",
   "metadata": {},
   "source": [
    "Comme notre problème est paramétriquement coercif, la simple approche min-$\\theta$ suffit pour la construction de la borne inférieure de la coercivité $\\alpha_{LB}(\\mu)$."
   ]
  },
  {
   "cell_type": "markdown",
   "metadata": {},
   "source": [
    "#### Question a"
   ]
  },
  {
   "cell_type": "markdown",
   "metadata": {},
   "source": [
    "##### Expression $\\alpha_{LB}(\\mu)$"
   ]
  },
  {
   "attachments": {},
   "cell_type": "markdown",
   "metadata": {},
   "source": [
    "Déterminons une expression explicite pour $\\alpha_{LB}(\\mu)$ dans les 2 cas présentés ci-dessus.\n",
    "\n",
    "Tout d'abord, appliquons la méthode min-$\\theta$ :\n",
    "\n",
    "$$\\begin{aligned}\n",
    "    \\alpha(\\mu)&=\\inf_{v\\in X}\\frac{a(v,v;\\mu)}{||v||_X^2} \\\\\n",
    "    &=\\inf_{v\\in X} \\sum_{q=1}^Q\\frac{\\theta_q(\\mu)a^q(v,v)}{||v||_X^2} \\\\\n",
    "    &=\\inf_{v\\in X} \\sum_{q=1}^Q\\frac{\\theta_q(\\mu)\\theta_q(\\bar{\\bar{\\mu}})a^q(v,v)}{\\theta_q(\\bar{\\bar{\\mu}})||v||_X^2} \\\\\n",
    "    &\\ge \\min_q \\frac{\\theta_q(\\mu)}{\\theta_q(\\bar{\\bar{\\mu}})} \\inf_{v\\in X}\\sum_{q=1}^Q\\frac{\\theta_q(\\bar{\\bar{\\mu}})a^q(v,v)}{||v||_X^2} \\\\\n",
    "    &\\ge \\min_q \\frac{\\theta_q(\\mu)}{\\theta_q(\\bar{\\bar{\\mu}})} \\alpha(\\bar{\\bar{\\mu}}) = \\alpha_{LB}(\\mu)\n",
    "\\end{aligned}$$\n",
    "\n",
    "Donc\n",
    "$$\\boxed{\\alpha_{LB}(\\mu) = \\min_q \\frac{\\theta_q(\\mu)}{\\theta_q(\\bar{\\bar{\\mu}})} \\alpha(\\bar{\\bar{\\mu}})}$$\n",
    "\n",
    "Nous prendrons dans la suite $\\bar{\\bar{\\mu}}=\\bar{\\mu}$ et donc\n",
    "$$\\alpha(\\bar{\\bar{\\mu}})=\\alpha(\\bar{\\mu})=\\inf_{v\\in X}\\frac{a(v,v;\\bar{\\mu})}{||v||_X^2}=\\inf_{v\\in X}\\frac{||v||_X^2}{||v||_X^2}=1$$\n",
    "\n",
    "Ainsi\n",
    "\n",
    "* Dans le **Cas 1**, on a $\\quad \\mu=(k,0.1), \\quad \\bar{\\bar{\\mu}}=\\bar{\\mu}=(1,0.1) \\quad $ ainsi\n",
    "    $$\\theta_q({\\mu})=\\left\\{\n",
    "        \\begin{aligned}\n",
    "            &k \\quad &&\\text{si } q=1,\\dots,4 \\\\\n",
    "            &k_0=1 \\quad &&\\text{si } q=5 \\\\\n",
    "            &0.1 \\quad &&\\text{si } q=6 \\\\\n",
    "        \\end{aligned}\n",
    "    \\right., \\qquad \\theta_q(\\bar{\\bar{\\mu}})=\\left\\{\n",
    "        \\begin{aligned}\n",
    "            &1 \\quad &&\\text{si } q=1,\\dots,4 \\\\\n",
    "            &k_0=1 \\quad &&\\text{si } q=5 \\\\\n",
    "            &0.1 \\quad &&\\text{si } q=6 \\\\\n",
    "        \\end{aligned}\n",
    "    \\right.$$\n",
    "\n",
    "    Donc \n",
    "    $$\\alpha_{LB}(\\mu) = \\min_q \\frac{\\theta_q(\\mu)}{\\theta_q(\\bar{\\bar{\\mu}})}=\\min\\{k,1\\}$$\n",
    "\n",
    "* Dans le **Cas 2**, on a $\\quad \\mu=(k,Bi), \\quad \\bar{\\bar{\\mu}}=\\bar{\\mu}=(1,0.1) \\quad $ ainsi\n",
    "    $$\\theta_q({\\mu})=\\left\\{\n",
    "        \\begin{aligned}\n",
    "            &k \\quad &&\\text{si } q=1,\\dots,4 \\\\\n",
    "            &k_0=1 \\quad &&\\text{si } q=5 \\\\\n",
    "            &Bi \\quad &&\\text{si } q=6 \\\\\n",
    "        \\end{aligned}\n",
    "    \\right., \\qquad \\theta_q(\\bar{\\bar{\\mu}})=\\left\\{\n",
    "        \\begin{aligned}\n",
    "            &1 \\quad &&\\text{si } q=1,\\dots,4 \\\\\n",
    "            &k_0=1 \\quad &&\\text{si } q=5 \\\\\n",
    "            &0.1 \\quad &&\\text{si } q=6 \\\\\n",
    "        \\end{aligned}\n",
    "    \\right.$$\n",
    "\n",
    "    Donc \n",
    "    $$\\alpha_{LB}(\\mu) = \\min_q \\frac{\\theta_q(\\mu)}{\\theta_q(\\bar{\\bar{\\mu}})}=\\min\\{k,1,10*Bi\\}$$"
   ]
  },
  {
   "cell_type": "markdown",
   "metadata": {},
   "source": [
    "##### Expression $\\gamma_{UB}(\\mu)$"
   ]
  },
  {
   "attachments": {},
   "cell_type": "markdown",
   "metadata": {},
   "source": [
    "De la même manière, déterminons une expression explicite pour $\\gamma_{UB}(\\mu)$.\n",
    "\n",
    "$$\\begin{aligned}\n",
    "    \\gamma(\\mu)&=\\sup_{w\\in X}\\sup_{v\\in X}\\frac{a(w,v;\\mu)}{||w||_X||v||_X} \\\\\n",
    "    &=\\sup_{w\\in X}\\sup_{v\\in X} \\sum_{q=1}^Q\\frac{\\theta_q(\\mu)a^q(w,v)}{||w||_X||v||_X} \\\\\n",
    "    &=\\sup_{w\\in X}\\sup_{v\\in X} \\sum_{q=1}^Q\\frac{\\theta_q(\\mu)\\theta_q(\\bar{\\bar{\\mu}})a^q(w,v)}{\\theta_q(\\bar{\\bar{\\mu}})||w||_X||v||_X} \\\\\n",
    "    &\\le \\max_q \\frac{\\theta_q(\\mu)}{\\theta_q(\\bar{\\bar{\\mu}})} \\sup_{w\\in X}\\sup_{v\\in X}\\sum_{q=1}^Q\\frac{\\theta_q(\\bar{\\bar{\\mu}})a^q(w,v)}{||w||_X||v||_X} \\\\\n",
    "    &\\le \\max_q \\frac{\\theta_q(\\mu)}{\\theta_q(\\bar{\\bar{\\mu}})} \\gamma(\\bar{\\bar{\\mu}}) = \\gamma_{UB}(\\mu)\n",
    "\\end{aligned}$$\n",
    "\n",
    "Donc\n",
    "$$\\boxed{\\gamma_{UB}(\\mu) = \\max_q \\frac{\\theta_q(\\mu)}{\\theta_q(\\bar{\\bar{\\mu}})} \\gamma(\\bar{\\bar{\\mu}})}$$\n",
    "\n",
    "Comme nous prenons $\\bar{\\bar{\\mu}}=\\bar{\\mu}$ on a\n",
    "$$\\gamma(\\bar{\\bar{\\mu}})=\\gamma(\\bar{\\mu})=\\sup_{w\\in X}\\sup_{v\\in X}\\frac{a(w,v;\\bar{\\mu})}{||w||_X||v||_X}$$\n",
    "\n",
    "Or par Cauchy-Shwartz\n",
    "$$a(w,v,\\bar{\\mu})=(w,v)_X\\le ||w||_X||v||_X \\quad \\Rightarrow \\quad \\gamma(\\bar{\\mu})\\le \\sup_{w\\in X}\\sup_{v\\in X}\\frac{||w||_X||v||_X}{||w||_X||v||_X}=1$$\n",
    "\n",
    "En prenant $w=v$, on obtient \n",
    "$$\\frac{a(w,v;\\bar{\\mu})}{||w||_X||v||_X}=\\frac{a(v,v;\\bar{\\mu})}{||v||_X^2}=1$$\n",
    "Donc la borne supérieure est atteinte et on en déduit que $\\gamma(\\bar{\\bar{\\mu}})=1$\n",
    "\n",
    "Ainsi\n",
    "\n",
    "* Dans le **Cas 1**, on a $\\quad \\mu=(k,0.1), \\quad \\bar{\\bar{\\mu}}=\\bar{\\mu}=(1,0.1) \\quad $ ainsi\n",
    "    $$\\theta_q({\\mu})=\\left\\{\n",
    "        \\begin{aligned}\n",
    "            &k \\quad &&\\text{si } q=1,\\dots,4 \\\\\n",
    "            &k_0=1 \\quad &&\\text{si } q=5 \\\\\n",
    "            &0.1 \\quad &&\\text{si } q=6 \\\\\n",
    "        \\end{aligned}\n",
    "    \\right., \\qquad \\theta_q(\\bar{\\bar{\\mu}})=\\left\\{\n",
    "        \\begin{aligned}\n",
    "            &1 \\quad &&\\text{si } q=1,\\dots,4 \\\\\n",
    "            &k_0=1 \\quad &&\\text{si } q=5 \\\\\n",
    "            &0.1 \\quad &&\\text{si } q=6 \\\\\n",
    "        \\end{aligned}\n",
    "    \\right.$$\n",
    "\n",
    "    Donc \n",
    "    $$\\gamma_{UB}(\\mu) =  \\max_q \\frac{\\theta_q(\\mu)}{\\theta_q(\\bar{\\bar{\\mu}})}=\\max\\{k,1\\}$$\n",
    "\n",
    "* Dans le **Cas 2**, on a $\\quad \\mu=(k,Bi), \\quad \\bar{\\bar{\\mu}}=\\bar{\\mu}=(1,0.1) \\quad $ ainsi\n",
    "    $$\\theta_q({\\mu})=\\left\\{\n",
    "        \\begin{aligned}\n",
    "            &k \\quad &&\\text{si } q=1,\\dots,4 \\\\\n",
    "            &k_0=1 \\quad &&\\text{si } q=5 \\\\\n",
    "            &Bi \\quad &&\\text{si } q=6 \\\\\n",
    "        \\end{aligned}\n",
    "    \\right., \\qquad \\theta_q(\\bar{\\bar{\\mu}})=\\left\\{\n",
    "        \\begin{aligned}\n",
    "            &1 \\quad &&\\text{si } q=1,\\dots,4 \\\\\n",
    "            &k_0=1 \\quad &&\\text{si } q=5 \\\\\n",
    "            &0.1 \\quad &&\\text{si } q=6 \\\\\n",
    "        \\end{aligned}\n",
    "    \\right.$$\n",
    "\n",
    "    Donc \n",
    "    $$\\gamma_{UB}(\\mu) = \\max_q \\frac{\\theta_q(\\mu)}{\\theta_q(\\bar{\\bar{\\mu}})}=\\max\\{k,1,10*Bi\\}$$"
   ]
  },
  {
   "cell_type": "markdown",
   "metadata": {},
   "source": [
    "#### Question b"
   ]
  },
  {
   "attachments": {},
   "cell_type": "markdown",
   "metadata": {},
   "source": [
    "On cherche maintenant la plus grande effectivité pour la borne d'erreur de la norme d'énergie et pour la borne d'erreur de sortie. On devra distinguer les cas.\n",
    "\n",
    "On définit $\\Delta_N^{en}(\\mu)$ la borne d'erreur de la norme d'énergie par :\n",
    "$$\\Delta_N^{en}(\\mu)=\\frac{\\epsilon_N(\\mu)}{\\sqrt{\\alpha_{LB}(\\mu)}}$$\n",
    "avec \n",
    "$$\\epsilon_N(\\mu)=||\\hat{e}(\\mu)||_X=||r(u_N(\\mu),v;\\mu)||_{X'}$$\n",
    "et l'effectivité associée :\n",
    "$$\\eta_{N}^{en}(\\mu)=\\frac{\\Delta_N^{en}(\\mu)}{|||e(\\mu)|||_\\mu}$$\n",
    "D'après le cours, nous avons la propriété suivante :\n",
    "$$1\\le \\eta_{N}^{en}(\\mu)\\le\\sqrt{\\frac{\\gamma_{UB}(\\mu)}{\\alpha_{LB}(\\mu)}}$$\n",
    "\n",
    "Ainsi\n",
    "\n",
    "* Dans le **Cas 1**, on a \n",
    "\n",
    "    $$\\sqrt{\\frac{\\gamma_{UB}(\\mu)}{\\alpha_{LB}(\\mu)}}=\\sqrt{\\frac{\\gamma(\\bar{\\bar{\\mu}})\\max\\{k,1\\}}{\\min\\{k,1\\}}}= \\sqrt{\\frac{\\max\\{k,1\\}}{\\min\\{k,1\\}}}=\\left\\{\n",
    "    \\begin{aligned}\n",
    "        \\sqrt{1/k} \\quad \\text{si } k\\le 1 \\\\\n",
    "        \\sqrt{k} \\quad \\text{si } k>1\n",
    "    \\end{aligned}\n",
    "    \\right.\\le\\sqrt{10}$$\n",
    "\n",
    "    car k est compris entre 0.1 et 10.\n",
    "\n",
    "* Dans le **Cas 2**, on a \n",
    "\n",
    "    $$\\sqrt{\\frac{\\gamma_{UB}(\\mu)}{\\alpha_{LB}(\\mu)}}=\\sqrt{\\frac{\\gamma(\\bar{\\bar{\\mu}})\\max\\{k,1,10*Bi\\}}{\\min\\{k,1,10*Bi\\}}}= \\sqrt{\\frac{\\max\\{k,1,10*Bi\\}}{\\min\\{k,1,10*Bi\\}}}\\le\\sqrt{\\frac{10}{0.1}}=\\sqrt{100}=10$$\n",
    "\n",
    "    Car comme $0.1\\le k\\le 1$ et $0.01\\le Bi\\le 1$ (donc $0.1\\le 10Bi\\le 10$), on a :\n",
    "    $$\\max\\{k,1,10*Bi\\}\\le 10 \\quad \\text{et} \\quad \\min\\{k,1,10*Bi\\}\\ge 0.1$$"
   ]
  },
  {
   "attachments": {},
   "cell_type": "markdown",
   "metadata": {},
   "source": [
    "\n",
    "On définit $\\Delta_N^{s}(\\mu)$ la borne d'erreur de sortie par :\n",
    "$$\\Delta_N^{s}(\\mu)=\\Delta_N^{en}(\\mu)^2$$\n",
    "\n",
    "et l'effectivité associée :\n",
    "$$\\eta_{N}^{s}(\\mu)=\\frac{\\Delta_N^{s}(\\mu)}{s(\\mu)-s_N(\\mu)}$$\n",
    "\n",
    "D'après le cours, nous avons la propriété suivante :\n",
    "$$1\\le \\eta_{N}^{s}(\\mu)\\le\\frac{\\gamma_{UB}(\\mu)}{\\alpha_{LB}(\\mu)}$$\n",
    "\n",
    "Ainsi, de la même manière\n",
    "\n",
    "* Dans le **Cas 1**, on a \n",
    "\n",
    "    $$\\frac{\\gamma_{UB}(\\mu)}{\\alpha_{LB}(\\mu)}=\\frac{\\gamma(\\bar{\\bar{\\mu}})\\max\\{k,1\\}}{\\min\\{k,1\\}}=\\frac{\\max\\{k,1\\}}{\\min\\{k,1\\}}\\le 10$$\n",
    "\n",
    "* Dans le **Cas 2**, on a \n",
    "\n",
    "    $$\\frac{\\gamma_{UB}(\\mu)}{\\alpha_{LB}(\\mu)}=\\frac{\\gamma(\\bar{\\bar{\\mu}})\\max\\{k,1,10*Bi\\}}{\\min\\{k,1,10*Bi\\}}=\\frac{\\max\\{k,1,10*Bi\\}}{\\min\\{k,1,10*Bi\\}}\\le 100$$\n"
   ]
  },
  {
   "attachments": {},
   "cell_type": "markdown",
   "metadata": {},
   "source": [
    "### Question 2"
   ]
  },
  {
   "attachments": {},
   "cell_type": "markdown",
   "metadata": {},
   "source": [
    "Nous considérons l'effectivité relative de la sortie, définie par\n",
    "$$\\eta_N(\\mu)=\\frac{\\Delta_N(\\mu)}{||e(\\mu)||_X}=\\frac{\\Delta_N(\\mu)}{||u(\\mu)-u_N(\\mu)||_X}$$\n",
    "avec\n",
    "$$\\Delta_N(\\mu)=\\frac{||\\hat{e}(\\mu)||_X}{\\alpha_{LB}(\\mu)}$$\n",
    "où $\\hat{e}(\\mu)\\in X$ satisfait\n",
    "$$(\\hat{e}(\\mu),v)_X=r(u_N(\\mu),v;\\mu)=a(e(\\mu),v,\\mu)$$\n",
    "On cherche à démontrer la propriété suivante\n",
    "$$1\\le \\eta_N(\\mu)\\le \\frac{\\gamma_{UB}(\\mu)}{\\alpha_{LB}(\\mu)}\\quad\\forall\\mu\\in D$$\n",
    "\n",
    "* Comme $a$ est coercive :\n",
    "    $$a(e(\\mu),e(\\mu),\\mu)\\ge \\alpha(\\mu)||e(\\mu)||_X^2\\ge \\alpha_{LB}(\\mu)||e(\\mu)||_X^2$$\n",
    "    et\n",
    "    $$r(u_N(\\mu),e(\\mu),\\mu)\\le ||\\hat{e}(\\mu)||_X||e(\\mu)||_X$$\n",
    "    Donc\n",
    "    $$||\\hat{e}(\\mu)||_X\\ge \\alpha_{LB}(\\mu)||e(\\mu)||_X \\quad \\Rightarrow \\quad ||e(\\mu)||_X\\le\\frac{||\\hat{e}(\\mu)||_X}{\\alpha_{LB}(\\mu)}$$\n",
    "    On en déduit\n",
    "    $$\\eta_N(\\mu)=\\frac{\\Delta_N(\\mu)}{||e(\\mu)||_X}=\\frac{||\\hat{e}(\\mu)||_X}{\\alpha_{LB}(\\mu)||e(\\mu)||_X}\\ge 1$$\n",
    "\n",
    "* Comme $a$ est continue\n",
    "    $$||\\hat{e}(\\mu)||_X^2=a(e(\\mu),\\hat{e}(\\mu);\\mu)\\le \\gamma(\\mu)||e(\\mu)||_X||\\hat{e}(\\mu)||_X\\le \\gamma_{UB}(\\mu)||e(\\mu)||_X||\\hat{e}(\\mu)||_X$$\n",
    "    Donc\n",
    "    $$||\\hat{e}(\\mu)||_X\\le \\gamma_{UB}(\\mu)||e(\\mu)||_X$$\n",
    "    On en déduit\n",
    "    $$\\eta_N(\\mu)=\\frac{\\Delta_N(\\mu)}{||e(\\mu)||_X}=\\frac{||\\hat{e}(\\mu)||_X}{\\alpha_{LB}(\\mu)||e(\\mu)||_X}\\le\\frac{\\gamma_{UB}(\\mu)||e(\\mu)||_X}{\\alpha_{LB}(\\mu)||e(\\mu)||_X}=\\frac{\\gamma_{UB}(\\mu)}{\\alpha_{LB}(\\mu)}$$"
   ]
  },
  {
   "attachments": {},
   "cell_type": "markdown",
   "metadata": {},
   "source": [
    "## Part 2 - A Posteriori Error Estimation"
   ]
  },
  {
   "attachments": {},
   "cell_type": "markdown",
   "metadata": {},
   "source": [
    "Dans le suite, on prendra $\\bar{\\bar{\\mu}}=\\bar{\\mu}$ et donc $\\alpha(\\bar{\\bar{\\mu}})=1$ et $\\gamma(\\bar{\\bar{\\mu}})=1$. \n",
    "\n",
    "Toutes les fonctions/classes utilies à l'implémentations se trouvent dans la section **Classes et fonctions** au-dessus. \n",
    "\n",
    "Elles sont complétées au fur et à mesure des questions."
   ]
  },
  {
   "cell_type": "markdown",
   "metadata": {},
   "source": [
    "### Question 3"
   ]
  },
  {
   "cell_type": "code",
   "execution_count": 5,
   "metadata": {},
   "outputs": [],
   "source": [
    "# Case 1\n",
    "def construct_mu(k_i):\n",
    "    Bi = 0.1\n",
    "    assert(k_i >= 0.1 and k_i <= 10)\n",
    "    return np.array([k_i, k_i, k_i, k_i, 1., Bi])\n",
    "\n",
    "D=[0.1,10]\n",
    "type='medium'\n",
    "sample = 1\n",
    "ortho = True\n",
    "modele = reduce_basis(type,sample,mu_prod,ortho)"
   ]
  },
  {
   "cell_type": "markdown",
   "metadata": {},
   "source": [
    "#### Question a"
   ]
  },
  {
   "attachments": {},
   "cell_type": "markdown",
   "metadata": {},
   "source": [
    "Borne d'erreur de la norme d'énergie :\n",
    "$$\\boxed{\\Delta_N^{en}(\\mu)=\\frac{\\epsilon_N(\\mu)}{\\sqrt{\\alpha_{LB}(\\mu)}}}$$\n",
    "avec \n",
    "$$\\epsilon_N(\\mu)=||\\hat{e}(\\mu)||_X=||r(u_N(\\mu),v;\\mu)||_{X'}, \\qquad \\alpha_{LB}(\\mu)=\\min_q\\frac{\\theta_q(\\mu)}{\\theta_q(\\bar{\\bar{\\mu}})}\\alpha(\\bar{\\bar{\\mu}})$$"
   ]
  },
  {
   "attachments": {},
   "cell_type": "markdown",
   "metadata": {},
   "source": [
    "On veut montrer ici que la méthode direct et la méthode offline/online nous donne les mêmes résultats pour cette borne d'erreur. "
   ]
  },
  {
   "cell_type": "markdown",
   "metadata": {},
   "source": [
    "##### Calcul direct :"
   ]
  },
  {
   "cell_type": "markdown",
   "metadata": {},
   "source": [
    "Par le théorème de représentation de Riesz, on sait qu' $\\exists ! \\hat{e}\\in X, \\forall v\\in X$\n",
    "$$(\\hat{e}(\\mu),v)_X=r(u_N(\\mu),v;\\mu)$$\n",
    "et le résidu est donné par\n",
    "$$r(u_N(\\mu),v;\\mu)=f(v;\\mu)-a(u_N(\\mu),v,\\mu)$$\n",
    "\n",
    "Le problème consiste alors à trouver $\\hat{E}\\in\\mathbb{R}^\\mathcal{N}$ tel que\n",
    "$$A_\\mathcal{N}(\\bar{\\mu})\\hat{E}=F^\\mathcal{N}-A_\\mathcal{N}(\\mu)ZU_N$$\n",
    "Et ainsi\n",
    "$$||r(u_N(\\mu),v;\\mu)||_{X'}=||\\hat{e}(\\mu)||_X=\\sqrt{(\\hat{e}(\\mu),\\hat{e}(\\mu))_X}=\\sqrt{(A_\\mathcal{N}(\\bar{\\mu})^{-1}R_\\mu,A_\\mathcal{N}(\\bar{\\mu})^{-1}R_\\mu)_X}$$\n",
    "avec\n",
    "$$R_\\mu = F^\\mathcal{N}-A_\\mathcal{N}(\\mu)ZU_N$$"
   ]
  },
  {
   "cell_type": "code",
   "execution_count": 6,
   "metadata": {},
   "outputs": [
    {
     "data": {
      "text/latex": [
       "Calcul direct de $\\Delta_N^{en}(\\mu)$ pour différentes valeurs de $\\mu$ et différents $N$ :"
      ],
      "text/plain": [
       "<IPython.core.display.Latex object>"
      ]
     },
     "metadata": {},
     "output_type": "display_data"
    },
    {
     "data": {
      "text/html": [
       "<div>\n",
       "<style scoped>\n",
       "    .dataframe tbody tr th:only-of-type {\n",
       "        vertical-align: middle;\n",
       "    }\n",
       "\n",
       "    .dataframe tbody tr th {\n",
       "        vertical-align: top;\n",
       "    }\n",
       "\n",
       "    .dataframe thead th {\n",
       "        text-align: right;\n",
       "    }\n",
       "</style>\n",
       "<table border=\"1\" class=\"dataframe\">\n",
       "  <thead>\n",
       "    <tr style=\"text-align: right;\">\n",
       "      <th></th>\n",
       "      <th>k_i = 1.2591</th>\n",
       "      <th>k_i = 3.9454</th>\n",
       "      <th>k_i = 4.3805</th>\n",
       "      <th>k_i = 4.7091</th>\n",
       "      <th>k_i = 7.3486</th>\n",
       "    </tr>\n",
       "  </thead>\n",
       "  <tbody>\n",
       "    <tr>\n",
       "      <th>N = 1</th>\n",
       "      <td>0.792241</td>\n",
       "      <td>1.201056e+00</td>\n",
       "      <td>1.228867</td>\n",
       "      <td>1.247063</td>\n",
       "      <td>1.341258</td>\n",
       "    </tr>\n",
       "    <tr>\n",
       "      <th>N = 2</th>\n",
       "      <td>0.231037</td>\n",
       "      <td>1.913176e-01</td>\n",
       "      <td>0.179023</td>\n",
       "      <td>0.169414</td>\n",
       "      <td>0.086868</td>\n",
       "    </tr>\n",
       "    <tr>\n",
       "      <th>N = 3</th>\n",
       "      <td>0.073185</td>\n",
       "      <td>8.240662e-02</td>\n",
       "      <td>0.078367</td>\n",
       "      <td>0.074934</td>\n",
       "      <td>0.040473</td>\n",
       "    </tr>\n",
       "    <tr>\n",
       "      <th>N = 4</th>\n",
       "      <td>0.009958</td>\n",
       "      <td>1.998593e-06</td>\n",
       "      <td>0.000631</td>\n",
       "      <td>0.000992</td>\n",
       "      <td>0.001593</td>\n",
       "    </tr>\n",
       "    <tr>\n",
       "      <th>N = 5</th>\n",
       "      <td>0.004344</td>\n",
       "      <td>1.140111e-06</td>\n",
       "      <td>0.000365</td>\n",
       "      <td>0.000579</td>\n",
       "      <td>0.000973</td>\n",
       "    </tr>\n",
       "    <tr>\n",
       "      <th>N = 6</th>\n",
       "      <td>0.000666</td>\n",
       "      <td>2.682999e-07</td>\n",
       "      <td>0.000088</td>\n",
       "      <td>0.000141</td>\n",
       "      <td>0.000253</td>\n",
       "    </tr>\n",
       "    <tr>\n",
       "      <th>N = 7</th>\n",
       "      <td>0.000051</td>\n",
       "      <td>1.881342e-08</td>\n",
       "      <td>0.000007</td>\n",
       "      <td>0.000012</td>\n",
       "      <td>0.000031</td>\n",
       "    </tr>\n",
       "    <tr>\n",
       "      <th>N = 8</th>\n",
       "      <td>0.000015</td>\n",
       "      <td>6.181997e-09</td>\n",
       "      <td>0.000002</td>\n",
       "      <td>0.000004</td>\n",
       "      <td>0.000010</td>\n",
       "    </tr>\n",
       "  </tbody>\n",
       "</table>\n",
       "</div>"
      ],
      "text/plain": [
       "       k_i = 1.2591  k_i = 3.9454  k_i = 4.3805  k_i = 4.7091  k_i = 7.3486\n",
       "N = 1      0.792241  1.201056e+00      1.228867      1.247063      1.341258\n",
       "N = 2      0.231037  1.913176e-01      0.179023      0.169414      0.086868\n",
       "N = 3      0.073185  8.240662e-02      0.078367      0.074934      0.040473\n",
       "N = 4      0.009958  1.998593e-06      0.000631      0.000992      0.001593\n",
       "N = 5      0.004344  1.140111e-06      0.000365      0.000579      0.000973\n",
       "N = 6      0.000666  2.682999e-07      0.000088      0.000141      0.000253\n",
       "N = 7      0.000051  1.881342e-08      0.000007      0.000012      0.000031\n",
       "N = 8      0.000015  6.181997e-09      0.000002      0.000004      0.000010"
      ]
     },
     "execution_count": 6,
     "metadata": {},
     "output_type": "execute_result"
    }
   ],
   "source": [
    "direct = direct_method(modele)\n",
    "\n",
    "tab_k_i=np.sort(np.random.uniform(low=D[0], high=D[1], size=(5,)))\n",
    "tab_N = np.arange(1,modele.N+1,1)\n",
    "res = np.zeros((modele.N,5))\n",
    "\n",
    "for (i,n) in enumerate(tab_N):\n",
    "    modele.change_N(n)\n",
    "    for (j,k_i) in enumerate(tab_k_i):\n",
    "        mu = construct_mu(k_i)\n",
    "        Delta_N_en_mu = direct.compute_Delta_N_en(mu)\n",
    "        res[i,j] = Delta_N_en_mu\n",
    "\n",
    "display(Latex('Calcul direct de $\\Delta_N^{en}(\\mu)$ pour différentes valeurs de $\\mu$ et différents $N$ :'))\n",
    "df_direct = pd.DataFrame(data=res,index=tab_N,columns=tab_k_i)\n",
    "df_direct.columns = [\"k_i = \" + str(np.round(k_i,4)) for k_i in tab_k_i]\n",
    "df_direct.index = [\"N = \" + str(n) for n in tab_N]\n",
    "df_direct\n",
    "        "
   ]
  },
  {
   "cell_type": "markdown",
   "metadata": {},
   "source": [
    "##### Offline-Online :"
   ]
  },
  {
   "cell_type": "markdown",
   "metadata": {},
   "source": [
    "Le problème consiste toujours à trouver $\\hat{E}\\in\\mathbb{R}^\\mathcal{N}$ tel que\n",
    "$$A_\\mathcal{N}(\\bar{\\mu})\\hat{E}=F^\\mathcal{N}-A_\\mathcal{N}(\\mu)ZU_N$$\n",
    "Dans la suite nous noterons $\\mathbb{X}^\\mathcal{N}:=A_\\mathcal{N}(\\bar{\\mu})$ la matrice associé au produit scalaire $(\\cdot,\\cdot)_X$. Donc le problème se réecrit :\n",
    "$$\\mathbb{X}^\\mathcal{N}\\hat{E}=F^\\mathcal{N}-A_\\mathcal{N}(\\mu)ZU_N$$\n",
    "On utilise maintenant la décomposition affine :\n",
    "$$A_\\mathcal{N}(\\mu)=\\sum_{q=1}^{Q}\\theta_q(\\mu) A_\\mathcal{N}^q$$\n",
    "Donc\n",
    "$$\\mathbb{X}^\\mathcal{N}\\hat{E}=F^\\mathcal{N}-\\sum_{q=1}^{Q}\\theta_q(\\mu) A_\\mathcal{N}^qZU_N$$"
   ]
  },
  {
   "cell_type": "markdown",
   "metadata": {},
   "source": [
    "On peut maintenant effectuer les étapes suivantes :\n",
    "\n",
    "* offline :\n",
    "\n",
    "    * Trouver $C\\in\\mathbb{R}^\\mathcal{N}$ tel que\n",
    "        $$\\mathbb{X}^\\mathcal{N}C = F^\\mathcal{N}$$\n",
    "    * Trouver $A_q\\in\\mathbb{R}^{\\mathcal{N}\\times N}$ ($1\\le q\\le Q$) tel que\n",
    "        $$\\mathbb{X}^\\mathcal{N}A_q = -A_\\mathcal{N}^qZ$$\n",
    "    * Stocker les quantités suivantes :\n",
    "        $$C^T\\mathbb{X}^\\mathcal{N}C\\in\\mathbb{R}$$\n",
    "        $$(A_q)^T\\mathbb{X}^\\mathcal{N}C\\in\\mathbb{R}^N, \\quad 1\\le q\\le Q$$\n",
    "        $$(A_{q'})^T\\mathbb{X}^\\mathcal{N}A_q\\in\\mathbb{R}^{N\\times N}, \\quad 1\\le q,q'\\le Q$$\n",
    "* online :\n",
    "    $$||\\hat{e}(\\mu)||_X^2 = \\color{blue}{C^T\\mathbb{X}^\\mathcal{N}C}\\color{black}+\\sum_{q=1}^Q \\theta_q(\\mu)U_N^T\\left[2\\color{blue}A_q^T\\mathbb{X}^\\mathcal{N} C\\color{black}+\\sum_{q'=1}^Q\\theta_{q'}(\\mu)\\color{blue}(A_{q'})^T\\mathbb{X}^\\mathcal{N}A_q\\color{black}U_N\\right]$$\n",
    "\n",
    "    où les valeurs en bleues sont les quantités calculées précédement dans la partie offline.\n",
    "\n",
    "    En effet, on a :\n",
    "\n",
    "    $$\\begin{aligned}\n",
    "        ||\\hat{e}(\\mu)||_X^2&=\\left|\\left|(\\mathbb{X}^\\mathcal{N})^{-1}\\left(F^\\mathcal{N}-\\sum_{q=1}^{Q}\\theta_q(\\mu) A_\\mathcal{N}^qZU_N\\right)\\right|\\right|_X^2 \\\\\n",
    "        &=\\left|\\left|C+\\sum_{q=1}^{Q}\\theta_q(\\mu) A_qU_N\\right|\\right|_X^2 \\\\\n",
    "        &=\\left(C+\\sum_{q=1}^{Q}\\theta_q(\\mu) A_qU_N,C+\\sum_{q'=1}^{Q}\\theta_{q'}(\\mu) A_{q'}U_N\\right)_X \\\\\n",
    "        &=(C,C)_X+\\sum_{q=1}^{Q}\\theta_q(\\mu) (A_qU_N,C)_X+\\sum_{q'=1}^{Q}\\theta_{q'}(\\mu) (A_{q'}U_N,C)_X+\\sum_{q=1}^{Q}\\theta_q(\\mu)\\sum_{q'=1}^{Q}\\theta_{q'}(\\mu) (A_qU_N,A_{q'}U_N)_X \\\\\n",
    "        &=(C,C)_X+2\\sum_{q=1}^{Q}\\theta_q(\\mu) (A_qU_N,C)_X+\\sum_{q=1}^{Q}\\theta_q(\\mu)\\sum_{q'=1}^{Q}\\theta_{q'}(\\mu) (A_qU_N,A_{q'}U_N)_X \\\\\n",
    "        &=(C,C)_X+\\sum_{q=1}^{Q}\\theta_q(\\mu) \\left[2(A_qU_N,C)_X+\\sum_{q'=1}^{Q}\\theta_{q'}(\\mu) (A_qU_N,A_{q'}U_N)_X\\right] \\\\\n",
    "        &={C^T\\mathbb{X}^\\mathcal{N}C}+\\sum_{q=1}^Q \\theta_q(\\mu)U_N^T\\left[2A_q^T\\mathbb{X}^\\mathcal{N} C+\\sum_{q'=1}^Q\\theta_{q'}(\\mu)(A_{q'})^T\\mathbb{X}^\\mathcal{N}A_qU_N\\right]\n",
    "    \\end{aligned}$$\n",
    "\n",
    "On pourra ainsi en déduire la borne d'erreur de la norme d'énergie.\n"
   ]
  },
  {
   "cell_type": "code",
   "execution_count": 7,
   "metadata": {},
   "outputs": [
    {
     "data": {
      "text/latex": [
       "Calcul offline/online de $\\Delta_N^{en}(\\mu)$ pour différentes valeurs de $\\mu$ et différents $N$ :"
      ],
      "text/plain": [
       "<IPython.core.display.Latex object>"
      ]
     },
     "metadata": {},
     "output_type": "display_data"
    },
    {
     "data": {
      "text/html": [
       "<div>\n",
       "<style scoped>\n",
       "    .dataframe tbody tr th:only-of-type {\n",
       "        vertical-align: middle;\n",
       "    }\n",
       "\n",
       "    .dataframe tbody tr th {\n",
       "        vertical-align: top;\n",
       "    }\n",
       "\n",
       "    .dataframe thead th {\n",
       "        text-align: right;\n",
       "    }\n",
       "</style>\n",
       "<table border=\"1\" class=\"dataframe\">\n",
       "  <thead>\n",
       "    <tr style=\"text-align: right;\">\n",
       "      <th></th>\n",
       "      <th>k_i = 1.2591</th>\n",
       "      <th>k_i = 3.9454</th>\n",
       "      <th>k_i = 4.3805</th>\n",
       "      <th>k_i = 4.7091</th>\n",
       "      <th>k_i = 7.3486</th>\n",
       "    </tr>\n",
       "  </thead>\n",
       "  <tbody>\n",
       "    <tr>\n",
       "      <th>N = 1</th>\n",
       "      <td>0.792241</td>\n",
       "      <td>1.201056e+00</td>\n",
       "      <td>1.228867</td>\n",
       "      <td>1.247063</td>\n",
       "      <td>1.341258</td>\n",
       "    </tr>\n",
       "    <tr>\n",
       "      <th>N = 2</th>\n",
       "      <td>0.231037</td>\n",
       "      <td>1.913176e-01</td>\n",
       "      <td>0.179023</td>\n",
       "      <td>0.169414</td>\n",
       "      <td>0.086868</td>\n",
       "    </tr>\n",
       "    <tr>\n",
       "      <th>N = 3</th>\n",
       "      <td>0.073185</td>\n",
       "      <td>8.240662e-02</td>\n",
       "      <td>0.078367</td>\n",
       "      <td>0.074934</td>\n",
       "      <td>0.040473</td>\n",
       "    </tr>\n",
       "    <tr>\n",
       "      <th>N = 4</th>\n",
       "      <td>0.009958</td>\n",
       "      <td>1.998812e-06</td>\n",
       "      <td>0.000631</td>\n",
       "      <td>0.000992</td>\n",
       "      <td>0.001593</td>\n",
       "    </tr>\n",
       "    <tr>\n",
       "      <th>N = 5</th>\n",
       "      <td>0.004344</td>\n",
       "      <td>1.140401e-06</td>\n",
       "      <td>0.000365</td>\n",
       "      <td>0.000579</td>\n",
       "      <td>0.000973</td>\n",
       "    </tr>\n",
       "    <tr>\n",
       "      <th>N = 6</th>\n",
       "      <td>0.000666</td>\n",
       "      <td>2.698715e-07</td>\n",
       "      <td>0.000088</td>\n",
       "      <td>0.000141</td>\n",
       "      <td>0.000253</td>\n",
       "    </tr>\n",
       "    <tr>\n",
       "      <th>N = 7</th>\n",
       "      <td>0.000051</td>\n",
       "      <td>2.885597e-08</td>\n",
       "      <td>0.000007</td>\n",
       "      <td>0.000012</td>\n",
       "      <td>0.000031</td>\n",
       "    </tr>\n",
       "    <tr>\n",
       "      <th>N = 8</th>\n",
       "      <td>0.000015</td>\n",
       "      <td>2.107342e-08</td>\n",
       "      <td>0.000002</td>\n",
       "      <td>0.000004</td>\n",
       "      <td>0.000010</td>\n",
       "    </tr>\n",
       "  </tbody>\n",
       "</table>\n",
       "</div>"
      ],
      "text/plain": [
       "       k_i = 1.2591  k_i = 3.9454  k_i = 4.3805  k_i = 4.7091  k_i = 7.3486\n",
       "N = 1      0.792241  1.201056e+00      1.228867      1.247063      1.341258\n",
       "N = 2      0.231037  1.913176e-01      0.179023      0.169414      0.086868\n",
       "N = 3      0.073185  8.240662e-02      0.078367      0.074934      0.040473\n",
       "N = 4      0.009958  1.998812e-06      0.000631      0.000992      0.001593\n",
       "N = 5      0.004344  1.140401e-06      0.000365      0.000579      0.000973\n",
       "N = 6      0.000666  2.698715e-07      0.000088      0.000141      0.000253\n",
       "N = 7      0.000051  2.885597e-08      0.000007      0.000012      0.000031\n",
       "N = 8      0.000015  2.107342e-08      0.000002      0.000004      0.000010"
      ]
     },
     "execution_count": 7,
     "metadata": {},
     "output_type": "execute_result"
    }
   ],
   "source": [
    "offline_online = offline_online_method(modele)\n",
    "\n",
    "res = np.zeros((modele.N,5))\n",
    "\n",
    "for (i,n) in enumerate(tab_N):\n",
    "    modele.change_N(n)\n",
    "    Q_1,Q_2,Q_3 = offline_online.offline_quantity()\n",
    "\n",
    "    for (j,k_i) in enumerate(tab_k_i):\n",
    "        mu = construct_mu(k_i)\n",
    "        Delta_N_en_mu = offline_online.compute_Delta_N_en(mu,Q_1,Q_2,Q_3)\n",
    "        res[i,j] = Delta_N_en_mu\n",
    "\n",
    "display(Latex('Calcul offline/online de $\\Delta_N^{en}(\\mu)$ pour différentes valeurs de $\\mu$ et différents $N$ :'))\n",
    "df_offline_online = pd.DataFrame(data=res,index=tab_N,columns=tab_k_i)\n",
    "df_offline_online.columns = [\"k_i = \" + str(np.round(k_i,4)) for k_i in tab_k_i]\n",
    "df_offline_online.index = [\"N = \" + str(n) for n in tab_N]\n",
    "df_offline_online\n"
   ]
  },
  {
   "cell_type": "markdown",
   "metadata": {},
   "source": [
    "##### Comparaison des 2 méthodes"
   ]
  },
  {
   "cell_type": "code",
   "execution_count": 8,
   "metadata": {},
   "outputs": [
    {
     "name": "stdout",
     "output_type": "stream",
     "text": [
      "Comparaison des deux méthodes :\n"
     ]
    },
    {
     "data": {
      "text/html": [
       "<div>\n",
       "<style scoped>\n",
       "    .dataframe tbody tr th:only-of-type {\n",
       "        vertical-align: middle;\n",
       "    }\n",
       "\n",
       "    .dataframe tbody tr th {\n",
       "        vertical-align: top;\n",
       "    }\n",
       "\n",
       "    .dataframe thead tr th {\n",
       "        text-align: left;\n",
       "    }\n",
       "</style>\n",
       "<table border=\"1\" class=\"dataframe\">\n",
       "  <thead>\n",
       "    <tr>\n",
       "      <th></th>\n",
       "      <th colspan=\"2\" halign=\"left\">k_i = 1.2591</th>\n",
       "      <th colspan=\"2\" halign=\"left\">k_i = 3.9454</th>\n",
       "      <th colspan=\"2\" halign=\"left\">k_i = 4.3805</th>\n",
       "      <th colspan=\"2\" halign=\"left\">k_i = 4.7091</th>\n",
       "      <th colspan=\"2\" halign=\"left\">k_i = 7.3486</th>\n",
       "    </tr>\n",
       "    <tr>\n",
       "      <th></th>\n",
       "      <th>direct</th>\n",
       "      <th>off/on</th>\n",
       "      <th>direct</th>\n",
       "      <th>off/on</th>\n",
       "      <th>direct</th>\n",
       "      <th>off/on</th>\n",
       "      <th>direct</th>\n",
       "      <th>off/on</th>\n",
       "      <th>direct</th>\n",
       "      <th>off/on</th>\n",
       "    </tr>\n",
       "  </thead>\n",
       "  <tbody>\n",
       "    <tr>\n",
       "      <th>N = 1</th>\n",
       "      <td>0.792241</td>\n",
       "      <td>0.792241</td>\n",
       "      <td>1.201056e+00</td>\n",
       "      <td>1.201056e+00</td>\n",
       "      <td>1.228867</td>\n",
       "      <td>1.228867</td>\n",
       "      <td>1.247063</td>\n",
       "      <td>1.247063</td>\n",
       "      <td>1.341258</td>\n",
       "      <td>1.341258</td>\n",
       "    </tr>\n",
       "    <tr>\n",
       "      <th>N = 2</th>\n",
       "      <td>0.231037</td>\n",
       "      <td>0.231037</td>\n",
       "      <td>1.913176e-01</td>\n",
       "      <td>1.913176e-01</td>\n",
       "      <td>0.179023</td>\n",
       "      <td>0.179023</td>\n",
       "      <td>0.169414</td>\n",
       "      <td>0.169414</td>\n",
       "      <td>0.086868</td>\n",
       "      <td>0.086868</td>\n",
       "    </tr>\n",
       "    <tr>\n",
       "      <th>N = 3</th>\n",
       "      <td>0.073185</td>\n",
       "      <td>0.073185</td>\n",
       "      <td>8.240662e-02</td>\n",
       "      <td>8.240662e-02</td>\n",
       "      <td>0.078367</td>\n",
       "      <td>0.078367</td>\n",
       "      <td>0.074934</td>\n",
       "      <td>0.074934</td>\n",
       "      <td>0.040473</td>\n",
       "      <td>0.040473</td>\n",
       "    </tr>\n",
       "    <tr>\n",
       "      <th>N = 4</th>\n",
       "      <td>0.009958</td>\n",
       "      <td>0.009958</td>\n",
       "      <td>1.998593e-06</td>\n",
       "      <td>1.998812e-06</td>\n",
       "      <td>0.000631</td>\n",
       "      <td>0.000631</td>\n",
       "      <td>0.000992</td>\n",
       "      <td>0.000992</td>\n",
       "      <td>0.001593</td>\n",
       "      <td>0.001593</td>\n",
       "    </tr>\n",
       "    <tr>\n",
       "      <th>N = 5</th>\n",
       "      <td>0.004344</td>\n",
       "      <td>0.004344</td>\n",
       "      <td>1.140111e-06</td>\n",
       "      <td>1.140401e-06</td>\n",
       "      <td>0.000365</td>\n",
       "      <td>0.000365</td>\n",
       "      <td>0.000579</td>\n",
       "      <td>0.000579</td>\n",
       "      <td>0.000973</td>\n",
       "      <td>0.000973</td>\n",
       "    </tr>\n",
       "    <tr>\n",
       "      <th>N = 6</th>\n",
       "      <td>0.000666</td>\n",
       "      <td>0.000666</td>\n",
       "      <td>2.682999e-07</td>\n",
       "      <td>2.698715e-07</td>\n",
       "      <td>0.000088</td>\n",
       "      <td>0.000088</td>\n",
       "      <td>0.000141</td>\n",
       "      <td>0.000141</td>\n",
       "      <td>0.000253</td>\n",
       "      <td>0.000253</td>\n",
       "    </tr>\n",
       "    <tr>\n",
       "      <th>N = 7</th>\n",
       "      <td>0.000051</td>\n",
       "      <td>0.000051</td>\n",
       "      <td>1.881342e-08</td>\n",
       "      <td>2.885597e-08</td>\n",
       "      <td>0.000007</td>\n",
       "      <td>0.000007</td>\n",
       "      <td>0.000012</td>\n",
       "      <td>0.000012</td>\n",
       "      <td>0.000031</td>\n",
       "      <td>0.000031</td>\n",
       "    </tr>\n",
       "    <tr>\n",
       "      <th>N = 8</th>\n",
       "      <td>0.000015</td>\n",
       "      <td>0.000015</td>\n",
       "      <td>6.181997e-09</td>\n",
       "      <td>2.107342e-08</td>\n",
       "      <td>0.000002</td>\n",
       "      <td>0.000002</td>\n",
       "      <td>0.000004</td>\n",
       "      <td>0.000004</td>\n",
       "      <td>0.000010</td>\n",
       "      <td>0.000010</td>\n",
       "    </tr>\n",
       "  </tbody>\n",
       "</table>\n",
       "</div>"
      ],
      "text/plain": [
       "      k_i = 1.2591            k_i = 3.9454               k_i = 4.3805  \\\n",
       "            direct    off/on        direct        off/on       direct   \n",
       "N = 1     0.792241  0.792241  1.201056e+00  1.201056e+00     1.228867   \n",
       "N = 2     0.231037  0.231037  1.913176e-01  1.913176e-01     0.179023   \n",
       "N = 3     0.073185  0.073185  8.240662e-02  8.240662e-02     0.078367   \n",
       "N = 4     0.009958  0.009958  1.998593e-06  1.998812e-06     0.000631   \n",
       "N = 5     0.004344  0.004344  1.140111e-06  1.140401e-06     0.000365   \n",
       "N = 6     0.000666  0.000666  2.682999e-07  2.698715e-07     0.000088   \n",
       "N = 7     0.000051  0.000051  1.881342e-08  2.885597e-08     0.000007   \n",
       "N = 8     0.000015  0.000015  6.181997e-09  2.107342e-08     0.000002   \n",
       "\n",
       "                k_i = 4.7091           k_i = 7.3486            \n",
       "         off/on       direct    off/on       direct    off/on  \n",
       "N = 1  1.228867     1.247063  1.247063     1.341258  1.341258  \n",
       "N = 2  0.179023     0.169414  0.169414     0.086868  0.086868  \n",
       "N = 3  0.078367     0.074934  0.074934     0.040473  0.040473  \n",
       "N = 4  0.000631     0.000992  0.000992     0.001593  0.001593  \n",
       "N = 5  0.000365     0.000579  0.000579     0.000973  0.000973  \n",
       "N = 6  0.000088     0.000141  0.000141     0.000253  0.000253  \n",
       "N = 7  0.000007     0.000012  0.000012     0.000031  0.000031  \n",
       "N = 8  0.000002     0.000004  0.000004     0.000010  0.000010  "
      ]
     },
     "execution_count": 8,
     "metadata": {},
     "output_type": "execute_result"
    }
   ],
   "source": [
    "print(\"Comparaison des deux méthodes :\")\n",
    "# argument result_names disponible à partir de pandas 1.5.2\n",
    "df_direct.compare(df_offline_online,result_names=('direct', 'off/on'))"
   ]
  },
  {
   "cell_type": "code",
   "execution_count": 9,
   "metadata": {},
   "outputs": [
    {
     "name": "stdout",
     "output_type": "stream",
     "text": [
      "Différence maximale (en valeur abs) des 2 méthodes : 1.4891427114352278e-08\n"
     ]
    }
   ],
   "source": [
    "print(\"Différence maximale (en valeur abs) des 2 méthodes :\",(df_direct-df_offline_online).abs().max().max())"
   ]
  },
  {
   "attachments": {},
   "cell_type": "markdown",
   "metadata": {},
   "source": [
    "Il semblerait donc que l'on obtienne bien les mêmes résultats pour la borne d'erreur d'énergie."
   ]
  },
  {
   "cell_type": "markdown",
   "metadata": {},
   "source": [
    "#### Question b"
   ]
  },
  {
   "attachments": {},
   "cell_type": "markdown",
   "metadata": {},
   "source": [
    "On veut maintenant calculer $\\eta_{min,N}^{en}$, $\\eta_{max,N}^{en}$ et $\\eta_{ave,N}^{en}$ respectivement le minimum, le maximum et la moyenne de l'effectivité $\\eta_{N}^{en}(\\mu)$ sur $\\Xi_{test}=G^{lin}[\\mu_{min},\\mu_{max};50]\\cup G^{log}[\\mu_{min},\\mu_{max};50]$. \n",
    "\n",
    "Notons que \n",
    "$$\\boxed{\\eta_{N}^{en}(\\mu)=\\frac{\\Delta_N^{en}(\\mu)}{|||e(\\mu)|||_\\mu}}$$"
   ]
  },
  {
   "cell_type": "code",
   "execution_count": 10,
   "metadata": {},
   "outputs": [],
   "source": [
    "(mu_min,mu_max) = D\n",
    "m = 50\n",
    "G_lin = np.linspace(mu_min,mu_max,m)\n",
    "G_log = np.logspace(np.log10(mu_min),np.log10(mu_max),m)\n",
    "xi_test = np.sort(np.concatenate((G_lin,G_log)))"
   ]
  },
  {
   "cell_type": "markdown",
   "metadata": {},
   "source": [
    "##### Calcul direct :"
   ]
  },
  {
   "cell_type": "code",
   "execution_count": 11,
   "metadata": {},
   "outputs": [
    {
     "data": {
      "text/latex": [
       "Calcul direct de $\\eta_{N}^{en}(\\mu)$ pour différentes valeurs de $\\mu\\in\\Xi_{test}$ et différents $N$ :"
      ],
      "text/plain": [
       "<IPython.core.display.Latex object>"
      ]
     },
     "metadata": {},
     "output_type": "display_data"
    },
    {
     "data": {
      "text/html": [
       "<div>\n",
       "<style scoped>\n",
       "    .dataframe tbody tr th:only-of-type {\n",
       "        vertical-align: middle;\n",
       "    }\n",
       "\n",
       "    .dataframe tbody tr th {\n",
       "        vertical-align: top;\n",
       "    }\n",
       "\n",
       "    .dataframe thead th {\n",
       "        text-align: right;\n",
       "    }\n",
       "</style>\n",
       "<table border=\"1\" class=\"dataframe\">\n",
       "  <thead>\n",
       "    <tr style=\"text-align: right;\">\n",
       "      <th></th>\n",
       "      <th>min</th>\n",
       "      <th>max</th>\n",
       "      <th>mean</th>\n",
       "      <th>bound</th>\n",
       "    </tr>\n",
       "  </thead>\n",
       "  <tbody>\n",
       "    <tr>\n",
       "      <th>N = 1</th>\n",
       "      <td>1.009650</td>\n",
       "      <td>1.673362</td>\n",
       "      <td>1.238664</td>\n",
       "      <td>3.017115</td>\n",
       "    </tr>\n",
       "    <tr>\n",
       "      <th>N = 2</th>\n",
       "      <td>1.008232</td>\n",
       "      <td>2.480684</td>\n",
       "      <td>1.613751</td>\n",
       "      <td>3.130169</td>\n",
       "    </tr>\n",
       "    <tr>\n",
       "      <th>N = 3</th>\n",
       "      <td>1.005982</td>\n",
       "      <td>2.632901</td>\n",
       "      <td>1.654871</td>\n",
       "      <td>3.130169</td>\n",
       "    </tr>\n",
       "    <tr>\n",
       "      <th>N = 4</th>\n",
       "      <td>1.009582</td>\n",
       "      <td>2.387424</td>\n",
       "      <td>1.591198</td>\n",
       "      <td>3.130169</td>\n",
       "    </tr>\n",
       "    <tr>\n",
       "      <th>N = 5</th>\n",
       "      <td>1.005902</td>\n",
       "      <td>2.618966</td>\n",
       "      <td>1.647296</td>\n",
       "      <td>3.130169</td>\n",
       "    </tr>\n",
       "    <tr>\n",
       "      <th>N = 6</th>\n",
       "      <td>1.010495</td>\n",
       "      <td>2.328440</td>\n",
       "      <td>1.575181</td>\n",
       "      <td>3.130169</td>\n",
       "    </tr>\n",
       "    <tr>\n",
       "      <th>N = 7</th>\n",
       "      <td>1.003658</td>\n",
       "      <td>2.811678</td>\n",
       "      <td>1.702354</td>\n",
       "      <td>3.130169</td>\n",
       "    </tr>\n",
       "    <tr>\n",
       "      <th>N = 8</th>\n",
       "      <td>1.006682</td>\n",
       "      <td>2.583938</td>\n",
       "      <td>1.643857</td>\n",
       "      <td>3.130169</td>\n",
       "    </tr>\n",
       "  </tbody>\n",
       "</table>\n",
       "</div>"
      ],
      "text/plain": [
       "            min       max      mean     bound\n",
       "N = 1  1.009650  1.673362  1.238664  3.017115\n",
       "N = 2  1.008232  2.480684  1.613751  3.130169\n",
       "N = 3  1.005982  2.632901  1.654871  3.130169\n",
       "N = 4  1.009582  2.387424  1.591198  3.130169\n",
       "N = 5  1.005902  2.618966  1.647296  3.130169\n",
       "N = 6  1.010495  2.328440  1.575181  3.130169\n",
       "N = 7  1.003658  2.811678  1.702354  3.130169\n",
       "N = 8  1.006682  2.583938  1.643857  3.130169"
      ]
     },
     "execution_count": 11,
     "metadata": {},
     "output_type": "execute_result"
    }
   ],
   "source": [
    "direct = direct_method(modele)\n",
    "\n",
    "res = np.zeros((modele.N,4))\n",
    "\n",
    "for (i,n) in enumerate(tab_N):\n",
    "    modele.change_N(n)\n",
    "\n",
    "    tab_eta_mu = []\n",
    "    tab_mu = []\n",
    "    for (j,k_i) in enumerate(xi_test):\n",
    "        mu = construct_mu(k_i)\n",
    "        eta_mu,exclude = direct.en_effectivity(mu)\n",
    "        if not exclude:\n",
    "            tab_eta_mu.append(eta_mu)\n",
    "            tab_mu.append(mu)\n",
    "\n",
    "    argmax = np.argmax(tab_eta_mu)           \n",
    "    eta_min,eta_max,eta_mean,bound = [np.min(tab_eta_mu),np.max(tab_eta_mu),np.mean(tab_eta_mu),compute_eff_en_bound(tab_mu[argmax])]\n",
    "    res[i,:] = eta_min,eta_max,eta_mean,bound\n",
    "\n",
    "display(Latex('Calcul direct de $\\eta_{N}^{en}(\\mu)$ pour différentes valeurs de $\\mu\\in\\Xi_{test}$ et différents $N$ :'))\n",
    "df_direct = pd.DataFrame(data=res,index=tab_N,columns=['min','max','mean','bound'])\n",
    "df_direct.index = [\"N = \" + str(n) for n in tab_N]\n",
    "df_direct"
   ]
  },
  {
   "cell_type": "markdown",
   "metadata": {},
   "source": [
    "##### Offline/Online"
   ]
  },
  {
   "cell_type": "code",
   "execution_count": 12,
   "metadata": {},
   "outputs": [
    {
     "name": "stderr",
     "output_type": "stream",
     "text": [
      "<ipython-input-4-de794dd27933>:17: RuntimeWarning: invalid value encountered in sqrt\n",
      "  return np.sqrt(val)\n"
     ]
    },
    {
     "data": {
      "text/latex": [
       "Calcul offline/online de $\\eta_{N}^{en}(\\mu)$ pour différentes valeurs de $\\mu\\in\\Xi_{test}$ et différents $N$ :"
      ],
      "text/plain": [
       "<IPython.core.display.Latex object>"
      ]
     },
     "metadata": {},
     "output_type": "display_data"
    },
    {
     "data": {
      "text/html": [
       "<div>\n",
       "<style scoped>\n",
       "    .dataframe tbody tr th:only-of-type {\n",
       "        vertical-align: middle;\n",
       "    }\n",
       "\n",
       "    .dataframe tbody tr th {\n",
       "        vertical-align: top;\n",
       "    }\n",
       "\n",
       "    .dataframe thead th {\n",
       "        text-align: right;\n",
       "    }\n",
       "</style>\n",
       "<table border=\"1\" class=\"dataframe\">\n",
       "  <thead>\n",
       "    <tr style=\"text-align: right;\">\n",
       "      <th></th>\n",
       "      <th>min</th>\n",
       "      <th>max</th>\n",
       "      <th>mean</th>\n",
       "      <th>bound</th>\n",
       "    </tr>\n",
       "  </thead>\n",
       "  <tbody>\n",
       "    <tr>\n",
       "      <th>N = 1</th>\n",
       "      <td>1.009650</td>\n",
       "      <td>1.673362</td>\n",
       "      <td>1.238664</td>\n",
       "      <td>3.017115</td>\n",
       "    </tr>\n",
       "    <tr>\n",
       "      <th>N = 2</th>\n",
       "      <td>1.008232</td>\n",
       "      <td>2.480684</td>\n",
       "      <td>1.613751</td>\n",
       "      <td>3.130169</td>\n",
       "    </tr>\n",
       "    <tr>\n",
       "      <th>N = 3</th>\n",
       "      <td>1.005982</td>\n",
       "      <td>2.632901</td>\n",
       "      <td>1.654871</td>\n",
       "      <td>3.130169</td>\n",
       "    </tr>\n",
       "    <tr>\n",
       "      <th>N = 4</th>\n",
       "      <td>1.009582</td>\n",
       "      <td>2.387424</td>\n",
       "      <td>1.591198</td>\n",
       "      <td>3.130169</td>\n",
       "    </tr>\n",
       "    <tr>\n",
       "      <th>N = 5</th>\n",
       "      <td>1.005902</td>\n",
       "      <td>2.618966</td>\n",
       "      <td>1.647298</td>\n",
       "      <td>3.130169</td>\n",
       "    </tr>\n",
       "    <tr>\n",
       "      <th>N = 6</th>\n",
       "      <td>1.010495</td>\n",
       "      <td>2.328440</td>\n",
       "      <td>1.575330</td>\n",
       "      <td>3.130169</td>\n",
       "    </tr>\n",
       "    <tr>\n",
       "      <th>N = 7</th>\n",
       "      <td>1.003658</td>\n",
       "      <td>2.811563</td>\n",
       "      <td>1.702017</td>\n",
       "      <td>3.130169</td>\n",
       "    </tr>\n",
       "    <tr>\n",
       "      <th>N = 8</th>\n",
       "      <td>1.006686</td>\n",
       "      <td>2.582427</td>\n",
       "      <td>1.655470</td>\n",
       "      <td>3.130169</td>\n",
       "    </tr>\n",
       "  </tbody>\n",
       "</table>\n",
       "</div>"
      ],
      "text/plain": [
       "            min       max      mean     bound\n",
       "N = 1  1.009650  1.673362  1.238664  3.017115\n",
       "N = 2  1.008232  2.480684  1.613751  3.130169\n",
       "N = 3  1.005982  2.632901  1.654871  3.130169\n",
       "N = 4  1.009582  2.387424  1.591198  3.130169\n",
       "N = 5  1.005902  2.618966  1.647298  3.130169\n",
       "N = 6  1.010495  2.328440  1.575330  3.130169\n",
       "N = 7  1.003658  2.811563  1.702017  3.130169\n",
       "N = 8  1.006686  2.582427  1.655470  3.130169"
      ]
     },
     "execution_count": 12,
     "metadata": {},
     "output_type": "execute_result"
    }
   ],
   "source": [
    "offline_online = offline_online_method(modele)\n",
    "\n",
    "res = np.zeros((modele.N,4))\n",
    "\n",
    "for (i,n) in enumerate(tab_N):\n",
    "    modele.change_N(n)\n",
    "    Q_1,Q_2,Q_3 = offline_online.offline_quantity()\n",
    "\n",
    "    tab_eta_mu = []\n",
    "    tab_mu = []\n",
    "    for (j,k_i) in enumerate(xi_test):\n",
    "        mu = construct_mu(k_i)\n",
    "        eta_mu,exclude = offline_online.en_effectivity(mu,Q_1,Q_2,Q_3)\n",
    "        if not exclude:\n",
    "            tab_eta_mu.append(eta_mu)\n",
    "            tab_mu.append(mu)\n",
    "            \n",
    "    argmax = np.argmax(tab_eta_mu)           \n",
    "    eta_min,eta_max,eta_mean,bound = [np.min(tab_eta_mu),np.max(tab_eta_mu),np.mean(tab_eta_mu),compute_eff_en_bound(tab_mu[argmax])]\n",
    "    res[i,:] = eta_min,eta_max,eta_mean,bound\n",
    "\n",
    "display(Latex('Calcul offline/online de $\\eta_{N}^{en}(\\mu)$ pour différentes valeurs de $\\mu\\in\\Xi_{test}$ et différents $N$ :'))\n",
    "df_offline_online = pd.DataFrame(data=res,index=tab_N,columns=['min','max','mean','bound'])\n",
    "df_offline_online.index = [\"N = \" + str(n) for n in tab_N]\n",
    "df_offline_online\n"
   ]
  },
  {
   "cell_type": "markdown",
   "metadata": {},
   "source": [
    "##### Comparaison des 2 méthodes"
   ]
  },
  {
   "cell_type": "code",
   "execution_count": 13,
   "metadata": {},
   "outputs": [
    {
     "name": "stdout",
     "output_type": "stream",
     "text": [
      "Comparaison des deux méthodes :\n"
     ]
    },
    {
     "data": {
      "text/html": [
       "<div>\n",
       "<style scoped>\n",
       "    .dataframe tbody tr th:only-of-type {\n",
       "        vertical-align: middle;\n",
       "    }\n",
       "\n",
       "    .dataframe tbody tr th {\n",
       "        vertical-align: top;\n",
       "    }\n",
       "\n",
       "    .dataframe thead tr th {\n",
       "        text-align: left;\n",
       "    }\n",
       "</style>\n",
       "<table border=\"1\" class=\"dataframe\">\n",
       "  <thead>\n",
       "    <tr>\n",
       "      <th></th>\n",
       "      <th colspan=\"2\" halign=\"left\">min</th>\n",
       "      <th colspan=\"2\" halign=\"left\">max</th>\n",
       "      <th colspan=\"2\" halign=\"left\">mean</th>\n",
       "    </tr>\n",
       "    <tr>\n",
       "      <th></th>\n",
       "      <th>direct</th>\n",
       "      <th>off/on</th>\n",
       "      <th>direct</th>\n",
       "      <th>off/on</th>\n",
       "      <th>direct</th>\n",
       "      <th>off/on</th>\n",
       "    </tr>\n",
       "  </thead>\n",
       "  <tbody>\n",
       "    <tr>\n",
       "      <th>N = 1</th>\n",
       "      <td>1.009650</td>\n",
       "      <td>1.009650</td>\n",
       "      <td>1.673362</td>\n",
       "      <td>1.673362</td>\n",
       "      <td>1.238664</td>\n",
       "      <td>1.238664</td>\n",
       "    </tr>\n",
       "    <tr>\n",
       "      <th>N = 2</th>\n",
       "      <td>1.008232</td>\n",
       "      <td>1.008232</td>\n",
       "      <td>2.480684</td>\n",
       "      <td>2.480684</td>\n",
       "      <td>1.613751</td>\n",
       "      <td>1.613751</td>\n",
       "    </tr>\n",
       "    <tr>\n",
       "      <th>N = 3</th>\n",
       "      <td>1.005982</td>\n",
       "      <td>1.005982</td>\n",
       "      <td>2.632901</td>\n",
       "      <td>2.632901</td>\n",
       "      <td>1.654871</td>\n",
       "      <td>1.654871</td>\n",
       "    </tr>\n",
       "    <tr>\n",
       "      <th>N = 4</th>\n",
       "      <td>1.009582</td>\n",
       "      <td>1.009582</td>\n",
       "      <td>2.387424</td>\n",
       "      <td>2.387424</td>\n",
       "      <td>1.591198</td>\n",
       "      <td>1.591198</td>\n",
       "    </tr>\n",
       "    <tr>\n",
       "      <th>N = 5</th>\n",
       "      <td>1.005902</td>\n",
       "      <td>1.005902</td>\n",
       "      <td>2.618966</td>\n",
       "      <td>2.618966</td>\n",
       "      <td>1.647296</td>\n",
       "      <td>1.647298</td>\n",
       "    </tr>\n",
       "    <tr>\n",
       "      <th>N = 6</th>\n",
       "      <td>1.010495</td>\n",
       "      <td>1.010495</td>\n",
       "      <td>2.328440</td>\n",
       "      <td>2.328440</td>\n",
       "      <td>1.575181</td>\n",
       "      <td>1.575330</td>\n",
       "    </tr>\n",
       "    <tr>\n",
       "      <th>N = 7</th>\n",
       "      <td>1.003658</td>\n",
       "      <td>1.003658</td>\n",
       "      <td>2.811678</td>\n",
       "      <td>2.811563</td>\n",
       "      <td>1.702354</td>\n",
       "      <td>1.702017</td>\n",
       "    </tr>\n",
       "    <tr>\n",
       "      <th>N = 8</th>\n",
       "      <td>1.006682</td>\n",
       "      <td>1.006686</td>\n",
       "      <td>2.583938</td>\n",
       "      <td>2.582427</td>\n",
       "      <td>1.643857</td>\n",
       "      <td>1.655470</td>\n",
       "    </tr>\n",
       "  </tbody>\n",
       "</table>\n",
       "</div>"
      ],
      "text/plain": [
       "            min                 max                mean          \n",
       "         direct    off/on    direct    off/on    direct    off/on\n",
       "N = 1  1.009650  1.009650  1.673362  1.673362  1.238664  1.238664\n",
       "N = 2  1.008232  1.008232  2.480684  2.480684  1.613751  1.613751\n",
       "N = 3  1.005982  1.005982  2.632901  2.632901  1.654871  1.654871\n",
       "N = 4  1.009582  1.009582  2.387424  2.387424  1.591198  1.591198\n",
       "N = 5  1.005902  1.005902  2.618966  2.618966  1.647296  1.647298\n",
       "N = 6  1.010495  1.010495  2.328440  2.328440  1.575181  1.575330\n",
       "N = 7  1.003658  1.003658  2.811678  2.811563  1.702354  1.702017\n",
       "N = 8  1.006682  1.006686  2.583938  2.582427  1.643857  1.655470"
      ]
     },
     "execution_count": 13,
     "metadata": {},
     "output_type": "execute_result"
    }
   ],
   "source": [
    "print(\"Comparaison des deux méthodes :\")\n",
    "# argument result_names disponible à partir de pandas 1.5.2\n",
    "df_direct.compare(df_offline_online,result_names=('direct', 'off/on'),keep_equal=True)"
   ]
  },
  {
   "attachments": {},
   "cell_type": "markdown",
   "metadata": {},
   "source": [
    "##### Vérification des résultats"
   ]
  },
  {
   "attachments": {},
   "cell_type": "markdown",
   "metadata": {},
   "source": [
    "D'après le cours, nous avons la propriété suivante :\n",
    "$$1\\le \\eta_{N}^{en}(\\mu)\\le\\sqrt{\\frac{\\gamma_{UB}(\\mu)}{\\alpha_{LB}(\\mu)}}$$\n",
    "\n",
    "On constate bien que l'effectivité minimale dans le tableau ci-dessus est supérieur à 1.\n",
    "\n",
    "Vérifions que l'effectivité est inférieure à la borne pour différents mu :"
   ]
  },
  {
   "cell_type": "code",
   "execution_count": 14,
   "metadata": {},
   "outputs": [],
   "source": [
    "m = 8\n",
    "G_lin = np.linspace(mu_min,mu_max,m)\n",
    "G_log = np.logspace(np.log10(mu_min),np.log10(mu_max),m)\n",
    "xi_test = np.sort(np.concatenate((G_lin,G_log)))[2:-2]"
   ]
  },
  {
   "cell_type": "code",
   "execution_count": 15,
   "metadata": {},
   "outputs": [
    {
     "name": "stdout",
     "output_type": "stream",
     "text": [
      "N =  2\n"
     ]
    },
    {
     "data": {
      "text/html": [
       "<div>\n",
       "<style scoped>\n",
       "    .dataframe tbody tr th:only-of-type {\n",
       "        vertical-align: middle;\n",
       "    }\n",
       "\n",
       "    .dataframe tbody tr th {\n",
       "        vertical-align: top;\n",
       "    }\n",
       "\n",
       "    .dataframe thead th {\n",
       "        text-align: right;\n",
       "    }\n",
       "</style>\n",
       "<table border=\"1\" class=\"dataframe\">\n",
       "  <thead>\n",
       "    <tr style=\"text-align: right;\">\n",
       "      <th></th>\n",
       "      <th>0.19</th>\n",
       "      <th>0.37</th>\n",
       "      <th>0.72</th>\n",
       "      <th>1.39</th>\n",
       "      <th>1.51</th>\n",
       "      <th>2.68</th>\n",
       "      <th>2.93</th>\n",
       "      <th>4.34</th>\n",
       "      <th>5.18</th>\n",
       "      <th>5.76</th>\n",
       "      <th>7.17</th>\n",
       "      <th>8.59</th>\n",
       "    </tr>\n",
       "  </thead>\n",
       "  <tbody>\n",
       "    <tr>\n",
       "      <th>effectivity</th>\n",
       "      <td>1.404456</td>\n",
       "      <td>1.214964</td>\n",
       "      <td>1.061875</td>\n",
       "      <td>1.117394</td>\n",
       "      <td>1.151659</td>\n",
       "      <td>1.426046</td>\n",
       "      <td>1.476394</td>\n",
       "      <td>1.735388</td>\n",
       "      <td>1.870553</td>\n",
       "      <td>1.958078</td>\n",
       "      <td>2.156480</td>\n",
       "      <td>2.337050</td>\n",
       "    </tr>\n",
       "    <tr>\n",
       "      <th>bound</th>\n",
       "      <td>2.275846</td>\n",
       "      <td>1.637894</td>\n",
       "      <td>1.178769</td>\n",
       "      <td>1.178769</td>\n",
       "      <td>1.230563</td>\n",
       "      <td>1.637894</td>\n",
       "      <td>1.711307</td>\n",
       "      <td>2.083952</td>\n",
       "      <td>2.275846</td>\n",
       "      <td>2.399405</td>\n",
       "      <td>2.677952</td>\n",
       "      <td>2.930139</td>\n",
       "    </tr>\n",
       "  </tbody>\n",
       "</table>\n",
       "</div>"
      ],
      "text/plain": [
       "                 0.19      0.37      0.72      1.39      1.51      2.68  \\\n",
       "effectivity  1.404456  1.214964  1.061875  1.117394  1.151659  1.426046   \n",
       "bound        2.275846  1.637894  1.178769  1.178769  1.230563  1.637894   \n",
       "\n",
       "                 2.93      4.34      5.18      5.76      7.17      8.59  \n",
       "effectivity  1.476394  1.735388  1.870553  1.958078  2.156480  2.337050  \n",
       "bound        1.711307  2.083952  2.275846  2.399405  2.677952  2.930139  "
      ]
     },
     "metadata": {},
     "output_type": "display_data"
    },
    {
     "name": "stdout",
     "output_type": "stream",
     "text": [
      "N =  4\n"
     ]
    },
    {
     "data": {
      "text/html": [
       "<div>\n",
       "<style scoped>\n",
       "    .dataframe tbody tr th:only-of-type {\n",
       "        vertical-align: middle;\n",
       "    }\n",
       "\n",
       "    .dataframe tbody tr th {\n",
       "        vertical-align: top;\n",
       "    }\n",
       "\n",
       "    .dataframe thead th {\n",
       "        text-align: right;\n",
       "    }\n",
       "</style>\n",
       "<table border=\"1\" class=\"dataframe\">\n",
       "  <thead>\n",
       "    <tr style=\"text-align: right;\">\n",
       "      <th></th>\n",
       "      <th>0.19</th>\n",
       "      <th>0.37</th>\n",
       "      <th>0.72</th>\n",
       "      <th>1.39</th>\n",
       "      <th>1.51</th>\n",
       "      <th>2.68</th>\n",
       "      <th>2.93</th>\n",
       "      <th>4.34</th>\n",
       "      <th>5.18</th>\n",
       "      <th>5.76</th>\n",
       "      <th>7.17</th>\n",
       "      <th>8.59</th>\n",
       "    </tr>\n",
       "  </thead>\n",
       "  <tbody>\n",
       "    <tr>\n",
       "      <th>effectivity</th>\n",
       "      <td>1.490763</td>\n",
       "      <td>1.255227</td>\n",
       "      <td>1.072315</td>\n",
       "      <td>1.107556</td>\n",
       "      <td>1.139055</td>\n",
       "      <td>1.392706</td>\n",
       "      <td>1.439500</td>\n",
       "      <td>1.681357</td>\n",
       "      <td>1.808316</td>\n",
       "      <td>1.890788</td>\n",
       "      <td>2.078489</td>\n",
       "      <td>2.250214</td>\n",
       "    </tr>\n",
       "    <tr>\n",
       "      <th>bound</th>\n",
       "      <td>2.275846</td>\n",
       "      <td>1.637894</td>\n",
       "      <td>1.178769</td>\n",
       "      <td>1.178769</td>\n",
       "      <td>1.230563</td>\n",
       "      <td>1.637894</td>\n",
       "      <td>1.711307</td>\n",
       "      <td>2.083952</td>\n",
       "      <td>2.275846</td>\n",
       "      <td>2.399405</td>\n",
       "      <td>2.677952</td>\n",
       "      <td>2.930139</td>\n",
       "    </tr>\n",
       "  </tbody>\n",
       "</table>\n",
       "</div>"
      ],
      "text/plain": [
       "                 0.19      0.37      0.72      1.39      1.51      2.68  \\\n",
       "effectivity  1.490763  1.255227  1.072315  1.107556  1.139055  1.392706   \n",
       "bound        2.275846  1.637894  1.178769  1.178769  1.230563  1.637894   \n",
       "\n",
       "                 2.93      4.34      5.18      5.76      7.17      8.59  \n",
       "effectivity  1.439500  1.681357  1.808316  1.890788  2.078489  2.250214  \n",
       "bound        1.711307  2.083952  2.275846  2.399405  2.677952  2.930139  "
      ]
     },
     "metadata": {},
     "output_type": "display_data"
    },
    {
     "name": "stdout",
     "output_type": "stream",
     "text": [
      "N =  6\n"
     ]
    },
    {
     "data": {
      "text/html": [
       "<div>\n",
       "<style scoped>\n",
       "    .dataframe tbody tr th:only-of-type {\n",
       "        vertical-align: middle;\n",
       "    }\n",
       "\n",
       "    .dataframe tbody tr th {\n",
       "        vertical-align: top;\n",
       "    }\n",
       "\n",
       "    .dataframe thead th {\n",
       "        text-align: right;\n",
       "    }\n",
       "</style>\n",
       "<table border=\"1\" class=\"dataframe\">\n",
       "  <thead>\n",
       "    <tr style=\"text-align: right;\">\n",
       "      <th></th>\n",
       "      <th>0.19</th>\n",
       "      <th>0.37</th>\n",
       "      <th>0.72</th>\n",
       "      <th>1.39</th>\n",
       "      <th>1.51</th>\n",
       "      <th>2.68</th>\n",
       "      <th>2.93</th>\n",
       "      <th>4.34</th>\n",
       "      <th>5.18</th>\n",
       "      <th>5.76</th>\n",
       "      <th>7.17</th>\n",
       "      <th>8.59</th>\n",
       "    </tr>\n",
       "  </thead>\n",
       "  <tbody>\n",
       "    <tr>\n",
       "      <th>effectivity</th>\n",
       "      <td>1.544923</td>\n",
       "      <td>1.279486</td>\n",
       "      <td>1.079284</td>\n",
       "      <td>1.100942</td>\n",
       "      <td>1.130616</td>\n",
       "      <td>1.371241</td>\n",
       "      <td>1.415897</td>\n",
       "      <td>1.647582</td>\n",
       "      <td>1.769637</td>\n",
       "      <td>1.849039</td>\n",
       "      <td>2.030013</td>\n",
       "      <td>2.195828</td>\n",
       "    </tr>\n",
       "    <tr>\n",
       "      <th>bound</th>\n",
       "      <td>2.275846</td>\n",
       "      <td>1.637894</td>\n",
       "      <td>1.178769</td>\n",
       "      <td>1.178769</td>\n",
       "      <td>1.230563</td>\n",
       "      <td>1.637894</td>\n",
       "      <td>1.711307</td>\n",
       "      <td>2.083952</td>\n",
       "      <td>2.275846</td>\n",
       "      <td>2.399405</td>\n",
       "      <td>2.677952</td>\n",
       "      <td>2.930139</td>\n",
       "    </tr>\n",
       "  </tbody>\n",
       "</table>\n",
       "</div>"
      ],
      "text/plain": [
       "                 0.19      0.37      0.72      1.39      1.51      2.68  \\\n",
       "effectivity  1.544923  1.279486  1.079284  1.100942  1.130616  1.371241   \n",
       "bound        2.275846  1.637894  1.178769  1.178769  1.230563  1.637894   \n",
       "\n",
       "                 2.93      4.34      5.18      5.76      7.17      8.59  \n",
       "effectivity  1.415897  1.647582  1.769637  1.849039  2.030013  2.195828  \n",
       "bound        1.711307  2.083952  2.275846  2.399405  2.677952  2.930139  "
      ]
     },
     "metadata": {},
     "output_type": "display_data"
    },
    {
     "name": "stdout",
     "output_type": "stream",
     "text": [
      "N =  8\n"
     ]
    },
    {
     "data": {
      "text/html": [
       "<div>\n",
       "<style scoped>\n",
       "    .dataframe tbody tr th:only-of-type {\n",
       "        vertical-align: middle;\n",
       "    }\n",
       "\n",
       "    .dataframe tbody tr th {\n",
       "        vertical-align: top;\n",
       "    }\n",
       "\n",
       "    .dataframe thead th {\n",
       "        text-align: right;\n",
       "    }\n",
       "</style>\n",
       "<table border=\"1\" class=\"dataframe\">\n",
       "  <thead>\n",
       "    <tr style=\"text-align: right;\">\n",
       "      <th></th>\n",
       "      <th>0.19</th>\n",
       "      <th>0.37</th>\n",
       "      <th>0.72</th>\n",
       "      <th>1.39</th>\n",
       "      <th>1.51</th>\n",
       "      <th>2.68</th>\n",
       "      <th>2.93</th>\n",
       "      <th>4.34</th>\n",
       "      <th>5.18</th>\n",
       "      <th>5.76</th>\n",
       "      <th>7.17</th>\n",
       "      <th>8.59</th>\n",
       "    </tr>\n",
       "  </thead>\n",
       "  <tbody>\n",
       "    <tr>\n",
       "      <th>effectivity</th>\n",
       "      <td>NaN</td>\n",
       "      <td>1.188296</td>\n",
       "      <td>1.050110</td>\n",
       "      <td>1.128583</td>\n",
       "      <td>1.165910</td>\n",
       "      <td>1.461847</td>\n",
       "      <td>1.515726</td>\n",
       "      <td>1.791718</td>\n",
       "      <td>1.935159</td>\n",
       "      <td>2.028068</td>\n",
       "      <td>2.238809</td>\n",
       "      <td>2.430902</td>\n",
       "    </tr>\n",
       "    <tr>\n",
       "      <th>bound</th>\n",
       "      <td>NaN</td>\n",
       "      <td>1.637894</td>\n",
       "      <td>1.178769</td>\n",
       "      <td>1.178769</td>\n",
       "      <td>1.230563</td>\n",
       "      <td>1.637894</td>\n",
       "      <td>1.711307</td>\n",
       "      <td>2.083952</td>\n",
       "      <td>2.275846</td>\n",
       "      <td>2.399405</td>\n",
       "      <td>2.677952</td>\n",
       "      <td>2.930139</td>\n",
       "    </tr>\n",
       "  </tbody>\n",
       "</table>\n",
       "</div>"
      ],
      "text/plain": [
       "             0.19      0.37      0.72      1.39      1.51      2.68      2.93  \\\n",
       "effectivity   NaN  1.188296  1.050110  1.128583  1.165910  1.461847  1.515726   \n",
       "bound         NaN  1.637894  1.178769  1.178769  1.230563  1.637894  1.711307   \n",
       "\n",
       "                 4.34      5.18      5.76      7.17      8.59  \n",
       "effectivity  1.791718  1.935159  2.028068  2.238809  2.430902  \n",
       "bound        2.083952  2.275846  2.399405  2.677952  2.930139  "
      ]
     },
     "metadata": {},
     "output_type": "display_data"
    },
    {
     "name": "stdout",
     "output_type": "stream",
     "text": [
      "Toutes les valeurs de l'effectivité sont inférieures aux bornes.\n"
     ]
    }
   ],
   "source": [
    "offline_online = offline_online_method(modele)\n",
    "\n",
    "major = True\n",
    "for (i,n) in enumerate(tab_N[tab_N%2==0]):\n",
    "    modele.change_N(n)\n",
    "    Q_1,Q_2,Q_3 = offline_online.offline_quantity()\n",
    "\n",
    "    res = np.zeros((2,len(xi_test)))\n",
    "\n",
    "    tab_eta_mu = []\n",
    "    tab_bound = []\n",
    "    for (j,k_i) in enumerate(xi_test):\n",
    "        mu = construct_mu(k_i)\n",
    "        eta_mu,exclude = offline_online.en_effectivity(mu,Q_1,Q_2,Q_3)\n",
    "        if not exclude:\n",
    "            tab_eta_mu.append(eta_mu)\n",
    "            tab_bound.append(compute_eff_en_bound(mu))\n",
    "            if(tab_eta_mu[-1] > tab_bound[-1]):\n",
    "                major = False\n",
    "        else:\n",
    "            tab_eta_mu.append(None)\n",
    "            tab_bound.append(None)\n",
    "\n",
    "    res[0,:] = tab_eta_mu\n",
    "    res[1,:] = tab_bound\n",
    "\n",
    "    print(\"N = \",n)\n",
    "    df_bound = pd.DataFrame(data=res,index=['effectivity','bound'])\n",
    "    df_bound.columns = [str(np.round(k_i,2)) for k_i in xi_test]\n",
    "    display(df_bound)\n",
    "\n",
    "if(major==True):\n",
    "    print(\"Toutes les valeurs de l'effectivité sont inférieures aux bornes.\")"
   ]
  },
  {
   "attachments": {},
   "cell_type": "markdown",
   "metadata": {},
   "source": [
    "De plus, on constate que toutes les bornes calculées ici sont inférieures à la borne calculée dans la question 1.b. \n",
    "En effet, pour la borne associée à la norme d'énergie, dans le cas 1, cette borne est égale à $\\sqrt{10}\\approx 3.16$."
   ]
  },
  {
   "cell_type": "markdown",
   "metadata": {},
   "source": [
    "#### Question c"
   ]
  },
  {
   "attachments": {},
   "cell_type": "markdown",
   "metadata": {},
   "source": [
    "Nous allons utiliser dans la suite la méthode offline/online."
   ]
  },
  {
   "cell_type": "markdown",
   "metadata": {},
   "source": [
    "On cherche à évaluer l'effectivité pour $\\mu=1$ pour $N=1,\\dots,8$."
   ]
  },
  {
   "cell_type": "code",
   "execution_count": 16,
   "metadata": {},
   "outputs": [
    {
     "data": {
      "text/latex": [
       "Calcul offline/online de $\\eta_N^{en}(\\mu)$ pour $\\mu=1$ et différents $N$ :"
      ],
      "text/plain": [
       "<IPython.core.display.Latex object>"
      ]
     },
     "metadata": {},
     "output_type": "display_data"
    },
    {
     "data": {
      "text/html": [
       "<div>\n",
       "<style scoped>\n",
       "    .dataframe tbody tr th:only-of-type {\n",
       "        vertical-align: middle;\n",
       "    }\n",
       "\n",
       "    .dataframe tbody tr th {\n",
       "        vertical-align: top;\n",
       "    }\n",
       "\n",
       "    .dataframe thead th {\n",
       "        text-align: right;\n",
       "    }\n",
       "</style>\n",
       "<table border=\"1\" class=\"dataframe\">\n",
       "  <thead>\n",
       "    <tr style=\"text-align: right;\">\n",
       "      <th></th>\n",
       "      <th>N = 1</th>\n",
       "      <th>N = 2</th>\n",
       "      <th>N = 3</th>\n",
       "      <th>N = 4</th>\n",
       "      <th>N = 5</th>\n",
       "      <th>N = 6</th>\n",
       "      <th>N = 7</th>\n",
       "      <th>N = 8</th>\n",
       "    </tr>\n",
       "  </thead>\n",
       "  <tbody>\n",
       "    <tr>\n",
       "      <th>effectivity</th>\n",
       "      <td>1.0</td>\n",
       "      <td>1.0</td>\n",
       "      <td>1.0</td>\n",
       "      <td>1.0</td>\n",
       "      <td>1.0</td>\n",
       "      <td>1.0</td>\n",
       "      <td>1.0</td>\n",
       "      <td>1.000003</td>\n",
       "    </tr>\n",
       "  </tbody>\n",
       "</table>\n",
       "</div>"
      ],
      "text/plain": [
       "             N = 1  N = 2  N = 3  N = 4  N = 5  N = 6  N = 7     N = 8\n",
       "effectivity    1.0    1.0    1.0    1.0    1.0    1.0    1.0  1.000003"
      ]
     },
     "execution_count": 16,
     "metadata": {},
     "output_type": "execute_result"
    }
   ],
   "source": [
    "offline_online = offline_online_method(modele)\n",
    "\n",
    "k_i = 1.\n",
    "mu = construct_mu(k_i)\n",
    "\n",
    "res = np.zeros(modele.N)\n",
    "\n",
    "for (i,n) in enumerate(tab_N):\n",
    "    modele.change_N(n)\n",
    "    Q_1,Q_2,Q_3 = offline_online.offline_quantity()\n",
    "\n",
    "    eta_mu,exclude = offline_online.en_effectivity(mu,Q_1,Q_2,Q_3)\n",
    "            \n",
    "    if not exclude:\n",
    "        res[i] = eta_mu\n",
    "    else:\n",
    "        res[i] = math.nan\n",
    "\n",
    "\n",
    "display(Latex('Calcul offline/online de $\\eta_N^{en}(\\mu)$ pour $\\mu=1$ et différents $N$ :'))\n",
    "df_offline_online = pd.DataFrame(data=res,index=tab_N).transpose()\n",
    "df_offline_online.index = [\"effectivity\"]\n",
    "df_offline_online.columns = [\"N = \" + str(n) for n in tab_N]\n",
    "df_offline_online"
   ]
  },
  {
   "attachments": {},
   "cell_type": "markdown",
   "metadata": {},
   "source": [
    "Il semblerait que pour $\\mu=1$, on atteint le minimum des effectivités possibles. Ce qui est cohérent car c'est le $\\bar{\\mu}$ que l'on a choisit."
   ]
  },
  {
   "cell_type": "markdown",
   "metadata": {},
   "source": [
    "#### Question d"
   ]
  },
  {
   "cell_type": "markdown",
   "metadata": {},
   "source": [
    "On cherche à évaluer l'erreur exacte $||u(\\mu)-u_N(\\mu)||_X$ et la borne d'erreur pour $\\mu=0.1$."
   ]
  },
  {
   "cell_type": "code",
   "execution_count": 17,
   "metadata": {},
   "outputs": [
    {
     "data": {
      "text/latex": [
       "Calcul offline/online de $||u(\\mu)-u_N(\\mu)||_X$ et $\\Delta_N^{en}(\\mu)$ pour $\\mu=0.1$ et différents $N$ :"
      ],
      "text/plain": [
       "<IPython.core.display.Latex object>"
      ]
     },
     "metadata": {},
     "output_type": "display_data"
    },
    {
     "data": {
      "text/html": [
       "<div>\n",
       "<style scoped>\n",
       "    .dataframe tbody tr th:only-of-type {\n",
       "        vertical-align: middle;\n",
       "    }\n",
       "\n",
       "    .dataframe tbody tr th {\n",
       "        vertical-align: top;\n",
       "    }\n",
       "\n",
       "    .dataframe thead th {\n",
       "        text-align: right;\n",
       "    }\n",
       "</style>\n",
       "<table border=\"1\" class=\"dataframe\">\n",
       "  <thead>\n",
       "    <tr style=\"text-align: right;\">\n",
       "      <th></th>\n",
       "      <th>N = 1</th>\n",
       "      <th>N = 2</th>\n",
       "      <th>N = 3</th>\n",
       "      <th>N = 4</th>\n",
       "      <th>N = 5</th>\n",
       "      <th>N = 6</th>\n",
       "      <th>N = 7</th>\n",
       "      <th>N = 8</th>\n",
       "    </tr>\n",
       "  </thead>\n",
       "  <tbody>\n",
       "    <tr>\n",
       "      <th>exact_error</th>\n",
       "      <td>1.020166e-14</td>\n",
       "      <td>1.012405e-14</td>\n",
       "      <td>9.974036e-15</td>\n",
       "      <td>1.410655e-14</td>\n",
       "      <td>1.406537e-14</td>\n",
       "      <td>1.408099e-14</td>\n",
       "      <td>1.407140e-14</td>\n",
       "      <td>1.469455e-14</td>\n",
       "    </tr>\n",
       "    <tr>\n",
       "      <th>error bound</th>\n",
       "      <td>6.191241e-14</td>\n",
       "      <td>6.232519e-14</td>\n",
       "      <td>6.225197e-14</td>\n",
       "      <td>6.234002e-14</td>\n",
       "      <td>6.271785e-14</td>\n",
       "      <td>6.270525e-14</td>\n",
       "      <td>6.268056e-14</td>\n",
       "      <td>6.298550e-14</td>\n",
       "    </tr>\n",
       "  </tbody>\n",
       "</table>\n",
       "</div>"
      ],
      "text/plain": [
       "                    N = 1         N = 2         N = 3         N = 4  \\\n",
       "exact_error  1.020166e-14  1.012405e-14  9.974036e-15  1.410655e-14   \n",
       "error bound  6.191241e-14  6.232519e-14  6.225197e-14  6.234002e-14   \n",
       "\n",
       "                    N = 5         N = 6         N = 7         N = 8  \n",
       "exact_error  1.406537e-14  1.408099e-14  1.407140e-14  1.469455e-14  \n",
       "error bound  6.271785e-14  6.270525e-14  6.268056e-14  6.298550e-14  "
      ]
     },
     "execution_count": 17,
     "metadata": {},
     "output_type": "execute_result"
    }
   ],
   "source": [
    "offline_online = offline_online_method(modele)\n",
    "\n",
    "k_i = 0.1\n",
    "mu = construct_mu(k_i)\n",
    "\n",
    "res = np.zeros((2,modele.N))\n",
    "\n",
    "for (i,n) in enumerate(tab_N):\n",
    "    modele.change_N(n)\n",
    "    Q_1,Q_2,Q_3 = offline_online.offline_quantity()\n",
    "\n",
    "    u_N_cal = modele.get_u_N_cal(mu)\n",
    "    u_N = modele.get_u_N(mu)\n",
    "\n",
    "    exact_error = modele.norme(u_N_cal-modele.Z@u_N)\n",
    "    Delta_N_en_mu = direct.compute_Delta_N_en(mu)\n",
    "    \n",
    "    res[:,i] = exact_error,Delta_N_en_mu\n",
    "\n",
    "\n",
    "display(Latex('Calcul offline/online de $||u(\\mu)-u_N(\\mu)||_X$ et $\\Delta_N^{en}(\\mu)$ pour $\\mu=0.1$ et différents $N$ :'))\n",
    "df_offline_online = pd.DataFrame(data=res,index=[\"exact_error\",\"error bound\"],columns=tab_N)\n",
    "df_offline_online.columns = [\"N = \" + str(n) for n in tab_N]\n",
    "df_offline_online"
   ]
  },
  {
   "cell_type": "code",
   "execution_count": 18,
   "metadata": {},
   "outputs": [
    {
     "data": {
      "text/plain": [
       "<AxesSubplot:>"
      ]
     },
     "execution_count": 18,
     "metadata": {},
     "output_type": "execute_result"
    },
    {
     "data": {
      "image/png": "[encoded data removed]",
      "text/plain": [
       "<Figure size 432x288 with 1 Axes>"
      ]
     },
     "metadata": {
      "needs_background": "light"
     },
     "output_type": "display_data"
    }
   ],
   "source": [
    "df_offline_online = df_offline_online.transpose()\n",
    "df_offline_online.plot()"
   ]
  },
  {
   "attachments": {},
   "cell_type": "markdown",
   "metadata": {},
   "source": [
    "Il semblerait que pour $\\mu=0.1$, la borne d'erreur $\\Delta_N^{en}(\\mu)$ soit supérieur à l'erreur exacte $||u(\\mu)-u_N(\\mu)||_X$ pour tous les valeurs de $N$."
   ]
  },
  {
   "attachments": {},
   "cell_type": "markdown",
   "metadata": {},
   "source": [
    "### Question 4"
   ]
  },
  {
   "cell_type": "code",
   "execution_count": 19,
   "metadata": {},
   "outputs": [],
   "source": [
    "# Case 2\n",
    "def construct_mu(k_i,Bi):\n",
    "    assert(k_i >= 0.1 and k_i <= 10)\n",
    "    assert(Bi >= 0.01 and Bi <= 1)\n",
    "    return np.array([k_i, k_i, k_i, k_i, 1., Bi])\n",
    "\n",
    "D1=[0.1,10]\n",
    "D2=[0.01,1.]\n",
    "type='medium'\n",
    "sample = 3\n",
    "ortho = True\n",
    "modele = reduce_basis(type,sample,mu_prod,ortho)"
   ]
  },
  {
   "cell_type": "markdown",
   "metadata": {},
   "source": [
    "#### Question a"
   ]
  },
  {
   "attachments": {},
   "cell_type": "markdown",
   "metadata": {},
   "source": [
    "De la même manière que pour la question 3 précédente où l'on considérait le cas 1, on veut montrer ici que la méthode direct et la méthode offline/online nous donne les mêmes résultats pour la borne d'erreur d'énergie. "
   ]
  },
  {
   "cell_type": "markdown",
   "metadata": {},
   "source": [
    "##### Calcul direct"
   ]
  },
  {
   "cell_type": "code",
   "execution_count": 20,
   "metadata": {},
   "outputs": [],
   "source": [
    "direct = direct_method(modele)\n",
    "\n",
    "tab_k_i = np.sort(np.random.uniform(low=D1[0], high=D1[1], size=(5,)))\n",
    "tab_Bi = np.sort(np.random.uniform(low=D2[0], high=D2[1], size=(5,)))\n",
    "tab_mu = np.stack((tab_k_i,tab_Bi),axis=1)\n",
    "\n",
    "tab_N = np.arange(1,modele.N+1,1)\n",
    "res = np.zeros((modele.N,5))\n",
    "\n",
    "for (i,n) in enumerate(tab_N):\n",
    "    modele.change_N(n)\n",
    "    for (j,(k_i,Bi)) in enumerate(tab_mu):\n",
    "        mu = construct_mu(k_i,Bi)\n",
    "        Delta_N_en_mu = direct.compute_Delta_N_en(mu)\n",
    "        res[i,j] = Delta_N_en_mu\n",
    "\n",
    "df_direct = pd.DataFrame(data=res,index=tab_N)\n",
    "df_direct.columns = [\"k_i = \" + str(np.round(k_i,4)) + \" ; Bi = \" + str(np.round(Bi,4)) for (k_i,Bi) in tab_mu]\n",
    "df_direct.index = [\"N = \" + str(n) for n in tab_N]"
   ]
  },
  {
   "cell_type": "markdown",
   "metadata": {},
   "source": [
    "##### Offline/Online"
   ]
  },
  {
   "cell_type": "code",
   "execution_count": 21,
   "metadata": {},
   "outputs": [],
   "source": [
    "offline_online = offline_online_method(modele)\n",
    "\n",
    "res = np.zeros((modele.N,5))\n",
    "\n",
    "for (i,n) in enumerate(tab_N):\n",
    "    modele.change_N(n)\n",
    "    Q_1,Q_2,Q_3 = offline_online.offline_quantity()\n",
    "\n",
    "    for (j,(k_i,Bi)) in enumerate(tab_mu):\n",
    "        mu = construct_mu(k_i,Bi)\n",
    "        Delta_N_en_mu = offline_online.compute_Delta_N_en(mu,Q_1,Q_2,Q_3)\n",
    "        res[i,j] = Delta_N_en_mu\n",
    "\n",
    "df_offline_online = pd.DataFrame(data=res,index=tab_N)\n",
    "df_offline_online.columns = [\"k_i = \" + str(np.round(k_i,4)) + \" ; Bi = \" + str(np.round(Bi,4)) for (k_i,Bi) in tab_mu]\n",
    "df_offline_online.index = [\"N = \" + str(n) for n in tab_N]"
   ]
  },
  {
   "cell_type": "markdown",
   "metadata": {},
   "source": [
    "##### Comparaison des 2 méthodes"
   ]
  },
  {
   "cell_type": "code",
   "execution_count": 22,
   "metadata": {},
   "outputs": [
    {
     "name": "stdout",
     "output_type": "stream",
     "text": [
      "Différence maximale (en valeur abs) des 2 méthodes : 1.42013223630895e-08\n"
     ]
    }
   ],
   "source": [
    "print(\"Différence maximale (en valeur abs) des 2 méthodes :\",(df_direct-df_offline_online).abs().max().max())"
   ]
  },
  {
   "attachments": {},
   "cell_type": "markdown",
   "metadata": {},
   "source": [
    "Il semblerait donc que l'on obtienne bien les mêmes résultats pour la borne d'erreur d'énergie."
   ]
  },
  {
   "cell_type": "markdown",
   "metadata": {},
   "source": [
    "#### Question b"
   ]
  },
  {
   "cell_type": "markdown",
   "metadata": {},
   "source": [
    "Nous allons utiliser dans la suite la méthode offline/online."
   ]
  },
  {
   "attachments": {},
   "cell_type": "markdown",
   "metadata": {},
   "source": [
    "On veut maintenant calculer $\\eta_{min,N}^{en}$, $\\eta_{max,N}^{en}$ et $\\eta_{ave,N}^{en}$ respectivement le minimum, le maximum et la moyenne de l'effectivité $\\eta_{N}^{en}(\\mu)$ sur $\\Xi_{test}=\\Xi_M^{test}=\\Xi_M^{lin} \\cup \\Xi_M^{log}$. \n",
    "\n",
    "Avec\n",
    "$$\\Xi_M^{lin}=G_{[k_{min},k_{max};M]}^{lin}\\times G_{[Bi_{min},Bi_{max};M]}^{lin}$$\n",
    "et \n",
    "$$\\Xi_M^{log}=G_{[k_{min},k_{max};M]}^{log}\\times G_{[Bi_{min},Bi_{max};M]}^{log}$$\n",
    "\n",
    "On prendra $M=10$ et $\\Xi_{test}$ contiendra alors $2M^2=200$ points."
   ]
  },
  {
   "cell_type": "code",
   "execution_count": 23,
   "metadata": {},
   "outputs": [
    {
     "name": "stdout",
     "output_type": "stream",
     "text": [
      "xi_test contient  200  points.\n"
     ]
    },
    {
     "data": {
      "image/png": "[encoded data removed]",
      "text/plain": [
       "<Figure size 1152x288 with 3 Axes>"
      ]
     },
     "metadata": {
      "needs_background": "light"
     },
     "output_type": "display_data"
    }
   ],
   "source": [
    "(k_i_min,k_i_max) = D1\n",
    "(Bi_min,Bi_max) = D2\n",
    "M=10\n",
    "\n",
    "G_lin_k_i = np.linspace(k_i_min,k_i_max,M)\n",
    "G_lin_Bi = np.linspace(Bi_min,Bi_max,M)\n",
    "xi_lin = np.array(np.meshgrid(G_lin_k_i,G_lin_Bi)).T.reshape(-1,2)\n",
    "\n",
    "G_log_k_i = np.logspace(np.log10(k_i_min),np.log10(k_i_max),M)\n",
    "G_log_Bi = np.logspace(np.log10(Bi_min),np.log10(Bi_max),M)\n",
    "xi_log = np.array(np.meshgrid(G_log_k_i,G_log_Bi)).T.reshape(-1,2)\n",
    "\n",
    "xi_test = np.concatenate((xi_lin,xi_log),axis=0)\n",
    "\n",
    "print(\"xi_test contient \",xi_test.shape[0],\" points.\")\n",
    "\n",
    "fig, axs = plt.subplots(1, 3, figsize=(16, 4))\n",
    "fig.suptitle(\"Génération de l'échantillon de test\")\n",
    "\n",
    "axs[0].plot(xi_lin[:,0],xi_lin[:,1],'+',color='red')\n",
    "axs[0].set_title('Points de test linéairement espacés')\n",
    "axs[1].plot(xi_log[:,0],xi_log[:,1],'+',color='blue')\n",
    "axs[1].set_title('Points de test logarithmiquement espacés')\n",
    "axs[2].plot(xi_test[:,0],xi_test[:,1],'+',color='green')\n",
    "axs[2].set_title('Union des 2 échantillons : xi_test');"
   ]
  },
  {
   "attachments": {},
   "cell_type": "markdown",
   "metadata": {},
   "source": [
    "On considera les valeurs de $N$ suivantes : $5,10,20,30,40$."
   ]
  },
  {
   "cell_type": "code",
   "execution_count": 24,
   "metadata": {},
   "outputs": [
    {
     "name": "stderr",
     "output_type": "stream",
     "text": [
      "<ipython-input-4-de794dd27933>:17: RuntimeWarning: invalid value encountered in sqrt\n",
      "  return np.sqrt(val)\n"
     ]
    },
    {
     "data": {
      "text/html": [
       "<div>\n",
       "<style scoped>\n",
       "    .dataframe tbody tr th:only-of-type {\n",
       "        vertical-align: middle;\n",
       "    }\n",
       "\n",
       "    .dataframe tbody tr th {\n",
       "        vertical-align: top;\n",
       "    }\n",
       "\n",
       "    .dataframe thead th {\n",
       "        text-align: right;\n",
       "    }\n",
       "</style>\n",
       "<table border=\"1\" class=\"dataframe\">\n",
       "  <thead>\n",
       "    <tr style=\"text-align: right;\">\n",
       "      <th></th>\n",
       "      <th>min</th>\n",
       "      <th>max</th>\n",
       "      <th>mean</th>\n",
       "      <th>bound</th>\n",
       "    </tr>\n",
       "  </thead>\n",
       "  <tbody>\n",
       "    <tr>\n",
       "      <th>N = 5</th>\n",
       "      <td>1.017255</td>\n",
       "      <td>6.685083</td>\n",
       "      <td>2.058090</td>\n",
       "      <td>9.433981</td>\n",
       "    </tr>\n",
       "    <tr>\n",
       "      <th>N = 10</th>\n",
       "      <td>1.031082</td>\n",
       "      <td>6.906718</td>\n",
       "      <td>2.135940</td>\n",
       "      <td>9.433981</td>\n",
       "    </tr>\n",
       "    <tr>\n",
       "      <th>N = 20</th>\n",
       "      <td>1.053642</td>\n",
       "      <td>6.896334</td>\n",
       "      <td>2.143211</td>\n",
       "      <td>9.433981</td>\n",
       "    </tr>\n",
       "    <tr>\n",
       "      <th>N = 30</th>\n",
       "      <td>1.054003</td>\n",
       "      <td>7.032357</td>\n",
       "      <td>1.998226</td>\n",
       "      <td>9.433981</td>\n",
       "    </tr>\n",
       "    <tr>\n",
       "      <th>N = 40</th>\n",
       "      <td>1.043994</td>\n",
       "      <td>6.584124</td>\n",
       "      <td>1.945547</td>\n",
       "      <td>9.433981</td>\n",
       "    </tr>\n",
       "  </tbody>\n",
       "</table>\n",
       "</div>"
      ],
      "text/plain": [
       "             min       max      mean     bound\n",
       "N = 5   1.017255  6.685083  2.058090  9.433981\n",
       "N = 10  1.031082  6.906718  2.135940  9.433981\n",
       "N = 20  1.053642  6.896334  2.143211  9.433981\n",
       "N = 30  1.054003  7.032357  1.998226  9.433981\n",
       "N = 40  1.043994  6.584124  1.945547  9.433981"
      ]
     },
     "execution_count": 24,
     "metadata": {},
     "output_type": "execute_result"
    }
   ],
   "source": [
    "offline_online = offline_online_method(modele)\n",
    "\n",
    "tab_N = [5,10,20,30,40]\n",
    "res = np.zeros((len(tab_N),4))\n",
    "\n",
    "for (i,n) in enumerate(tab_N):\n",
    "    modele.change_N(n)\n",
    "    Q_1,Q_2,Q_3 = offline_online.offline_quantity()\n",
    "\n",
    "    tab_eta_mu = []\n",
    "    tab_mu = []\n",
    "    for (j,(k_i,Bi)) in enumerate(xi_test):\n",
    "        mu = construct_mu(k_i,Bi)\n",
    "        eta_mu,exclude = offline_online.en_effectivity(mu,Q_1,Q_2,Q_3)\n",
    "        if not exclude:\n",
    "            tab_eta_mu.append(eta_mu)\n",
    "            tab_mu.append(mu)\n",
    "\n",
    "    argmax = np.argmax(tab_eta_mu)           \n",
    "    eta_min,eta_max,eta_mean,bound = [np.min(tab_eta_mu),np.max(tab_eta_mu),np.mean(tab_eta_mu),compute_eff_en_bound(tab_mu[argmax])]\n",
    "    res[i,:] = eta_min,eta_max,eta_mean,bound\n",
    "\n",
    "# display(Latex('Calcul offline/online de $\\Delta_N^{en}(\\mu)$ pour différentes valeurs de $\\mu$ et différents $N$ :'))\n",
    "df_offline_online = pd.DataFrame(data=res,index=tab_N,columns=['min','max','mean','bound'])\n",
    "df_offline_online.index = [\"N = \" + str(n) for n in tab_N]\n",
    "df_offline_online"
   ]
  },
  {
   "attachments": {},
   "cell_type": "markdown",
   "metadata": {},
   "source": [
    "D'après le cours, nous avons la propriété suivante :\n",
    "$$1\\le \\eta_{N}^{en}(\\mu)\\le\\sqrt{\\frac{\\gamma_{UB}(\\mu)}{\\alpha_{LB}(\\mu)}}$$\n",
    "\n",
    "On constate bien que l'effectivité minimale dans le tableau ci-dessus est supérieur à 1.\n",
    "\n",
    "De plus, on constate que toutes les bornes calculées ici sont inférieures à la borne calculée dans la question 1.b. \n",
    "En effet, pour la borne associée à la norme d'énergie, dans le cas 2, cette borne est égale à $10$."
   ]
  },
  {
   "attachments": {},
   "cell_type": "markdown",
   "metadata": {},
   "source": [
    "## Part 3 - Reduced Basis Output Bound"
   ]
  },
  {
   "attachments": {},
   "cell_type": "markdown",
   "metadata": {},
   "source": [
    "Étant donné la borne d'erreur d'énergie de la partie 2, nous pouvons maintenant évaluer directement la borne d'erreur de sortie."
   ]
  },
  {
   "attachments": {},
   "cell_type": "markdown",
   "metadata": {},
   "source": [
    "### Question 5"
   ]
  },
  {
   "cell_type": "code",
   "execution_count": 25,
   "metadata": {},
   "outputs": [],
   "source": [
    "# Case 2\n",
    "def construct_mu(k_i,Bi):\n",
    "    assert(k_i >= 0.1 and k_i <= 10)\n",
    "    assert(Bi >= 0.01 and Bi <= 1)\n",
    "    return np.array([k_i, k_i, k_i, k_i, 1., Bi])\n",
    "\n",
    "D1=[0.1,10]\n",
    "D2=[0.01,1.]\n",
    "type='medium'\n",
    "sample = 3\n",
    "ortho = True\n",
    "modele = reduce_basis(type,sample,mu_prod,ortho)"
   ]
  },
  {
   "attachments": {},
   "cell_type": "markdown",
   "metadata": {},
   "source": [
    "#### Question a"
   ]
  },
  {
   "attachments": {},
   "cell_type": "markdown",
   "metadata": {},
   "source": [
    "On définit $\\Delta_N^{s}(\\mu)$ la borne d'erreur de sortie par :\n",
    "$$\\boxed{\\Delta_N^{s}(\\mu)=\\Delta_N^{en}(\\mu)^2}$$\n",
    "\n",
    "et l'effectivité associée :\n",
    "$$\\boxed{\\eta_{N}^{s}(\\mu)=\\frac{\\Delta_N^{s}(\\mu)}{s(\\mu)-s_N(\\mu)}}$$\n",
    "\n",
    "On va étendre le code dans la partie **Classes et fonctions** pour calculer également ces deux quantités."
   ]
  },
  {
   "attachments": {},
   "cell_type": "markdown",
   "metadata": {},
   "source": [
    "#### Question b"
   ]
  },
  {
   "cell_type": "code",
   "execution_count": 26,
   "metadata": {},
   "outputs": [],
   "source": [
    "(k_i_min,k_i_max) = D1\n",
    "(Bi_min,Bi_max) = D2\n",
    "M=10\n",
    "\n",
    "G_lin_k_i = np.linspace(k_i_min,k_i_max,M)\n",
    "G_lin_Bi = np.linspace(Bi_min,Bi_max,M)\n",
    "xi_lin = np.array(np.meshgrid(G_lin_k_i,G_lin_Bi)).T.reshape(-1,2)\n",
    "\n",
    "G_log_k_i = np.logspace(np.log10(k_i_min),np.log10(k_i_max),M)\n",
    "G_log_Bi = np.logspace(np.log10(Bi_min),np.log10(Bi_max),M)\n",
    "xi_log = np.array(np.meshgrid(G_log_k_i,G_log_Bi)).T.reshape(-1,2)\n",
    "\n",
    "xi_test = np.concatenate((xi_lin,xi_log),axis=0)"
   ]
  },
  {
   "cell_type": "code",
   "execution_count": 27,
   "metadata": {},
   "outputs": [
    {
     "name": "stderr",
     "output_type": "stream",
     "text": [
      "<ipython-input-4-de794dd27933>:17: RuntimeWarning: invalid value encountered in sqrt\n",
      "  return np.sqrt(val)\n"
     ]
    },
    {
     "data": {
      "text/html": [
       "<div>\n",
       "<style scoped>\n",
       "    .dataframe tbody tr th:only-of-type {\n",
       "        vertical-align: middle;\n",
       "    }\n",
       "\n",
       "    .dataframe tbody tr th {\n",
       "        vertical-align: top;\n",
       "    }\n",
       "\n",
       "    .dataframe thead th {\n",
       "        text-align: right;\n",
       "    }\n",
       "</style>\n",
       "<table border=\"1\" class=\"dataframe\">\n",
       "  <thead>\n",
       "    <tr style=\"text-align: right;\">\n",
       "      <th></th>\n",
       "      <th>min</th>\n",
       "      <th>max</th>\n",
       "      <th>mean</th>\n",
       "      <th>bound</th>\n",
       "    </tr>\n",
       "  </thead>\n",
       "  <tbody>\n",
       "    <tr>\n",
       "      <th>N = 5</th>\n",
       "      <td>1.034808</td>\n",
       "      <td>44.690339</td>\n",
       "      <td>5.104766</td>\n",
       "      <td>89.0</td>\n",
       "    </tr>\n",
       "    <tr>\n",
       "      <th>N = 10</th>\n",
       "      <td>1.063130</td>\n",
       "      <td>47.702585</td>\n",
       "      <td>5.730602</td>\n",
       "      <td>89.0</td>\n",
       "    </tr>\n",
       "    <tr>\n",
       "      <th>N = 20</th>\n",
       "      <td>1.110162</td>\n",
       "      <td>45.284882</td>\n",
       "      <td>5.427732</td>\n",
       "      <td>89.0</td>\n",
       "    </tr>\n",
       "    <tr>\n",
       "      <th>N = 30</th>\n",
       "      <td>1.110923</td>\n",
       "      <td>45.414228</td>\n",
       "      <td>4.813504</td>\n",
       "      <td>89.0</td>\n",
       "    </tr>\n",
       "    <tr>\n",
       "      <th>N = 40</th>\n",
       "      <td>1.089926</td>\n",
       "      <td>6.698566</td>\n",
       "      <td>2.899911</td>\n",
       "      <td>10.0</td>\n",
       "    </tr>\n",
       "  </tbody>\n",
       "</table>\n",
       "</div>"
      ],
      "text/plain": [
       "             min        max      mean  bound\n",
       "N = 5   1.034808  44.690339  5.104766   89.0\n",
       "N = 10  1.063130  47.702585  5.730602   89.0\n",
       "N = 20  1.110162  45.284882  5.427732   89.0\n",
       "N = 30  1.110923  45.414228  4.813504   89.0\n",
       "N = 40  1.089926   6.698566  2.899911   10.0"
      ]
     },
     "execution_count": 27,
     "metadata": {},
     "output_type": "execute_result"
    }
   ],
   "source": [
    "offline_online = offline_online_method(modele)\n",
    "\n",
    "tab_N = [5,10,20,30,40]\n",
    "res = np.zeros((len(tab_N),4))\n",
    "\n",
    "for (i,n) in enumerate(tab_N):\n",
    "    modele.change_N(n)\n",
    "    Q_1,Q_2,Q_3 = offline_online.offline_quantity()\n",
    "\n",
    "    tab_eta_mu = []\n",
    "    tab_mu = []\n",
    "    for (j,(k_i,Bi)) in enumerate(xi_test):\n",
    "        mu = construct_mu(k_i,Bi)\n",
    "        eta_mu,exclude = offline_online.s_effectivity(mu,Q_1,Q_2,Q_3)\n",
    "        if not exclude:\n",
    "            tab_eta_mu.append(eta_mu)\n",
    "            tab_mu.append(mu)\n",
    "\n",
    "    argmax = np.argmax(tab_eta_mu)           \n",
    "    eta_min,eta_max,eta_mean,bound = [np.min(tab_eta_mu),np.max(tab_eta_mu),np.mean(tab_eta_mu),compute_eff_out_bound(tab_mu[argmax])]\n",
    "    res[i,:] = eta_min,eta_max,eta_mean,bound\n",
    "\n",
    "# display(Latex('Calcul offline/online de $\\Delta_N^{en}(\\mu)$ pour différentes valeurs de $\\mu$ et différents $N$ :'))\n",
    "df_offline_online = pd.DataFrame(data=res,index=tab_N,columns=['min','max','mean','bound'])\n",
    "df_offline_online.index = [\"N = \" + str(n) for n in tab_N]\n",
    "df_offline_online"
   ]
  },
  {
   "attachments": {},
   "cell_type": "markdown",
   "metadata": {},
   "source": [
    "D'après le cours, nous avons la propriété suivante :\n",
    "$$1\\le \\eta_{N}^{s}(\\mu)\\le\\frac{\\gamma_{UB}(\\mu)}{\\alpha_{LB}(\\mu)}$$\n",
    "\n",
    "On constate bien que l'effectivité minimale dans le tableau ci-dessus est supérieur à 1.\n",
    "\n",
    "De plus, l'effectivité maximale est bien inférieure à la borne et on constate que toutes les bornes calculées ici sont inférieures à la borne calculée dans la question 1.b. \n",
    "En effet, pour la borne associée à la sortie, dans le cas 2, cette borne est égale à $100$."
   ]
  },
  {
   "attachments": {},
   "cell_type": "markdown",
   "metadata": {},
   "source": [
    "#### Question c"
   ]
  },
  {
   "attachments": {},
   "cell_type": "markdown",
   "metadata": {},
   "source": [
    "On cherche à déterminer quelle valeur de N il faut pour obtenir une précision relative de la borne de sortie d'environ 1%. On calculera également l'erreur réelle pour cette valeur de N."
   ]
  },
  {
   "cell_type": "code",
   "execution_count": 28,
   "metadata": {},
   "outputs": [],
   "source": [
    "(k_i_min,k_i_max) = D1\n",
    "(Bi_min,Bi_max) = D2\n",
    "M=10\n",
    "\n",
    "G_lin_k_i = np.linspace(k_i_min,k_i_max,M)\n",
    "G_lin_Bi = np.linspace(Bi_min,Bi_max,M)\n",
    "xi_lin = np.array(np.meshgrid(G_lin_k_i,G_lin_Bi)).T.reshape(-1,2)\n",
    "\n",
    "G_log_k_i = np.logspace(np.log10(k_i_min),np.log10(k_i_max),M)\n",
    "G_log_Bi = np.logspace(np.log10(Bi_min),np.log10(Bi_max),M)\n",
    "xi_log = np.array(np.meshgrid(G_log_k_i,G_log_Bi)).T.reshape(-1,2)\n",
    "\n",
    "xi_test = np.concatenate((xi_lin,xi_log),axis=0)"
   ]
  },
  {
   "cell_type": "code",
   "execution_count": 29,
   "metadata": {},
   "outputs": [
    {
     "name": "stdout",
     "output_type": "stream",
     "text": [
      "Pour N =  10  l'accuracy est inférieure à 1%.\n"
     ]
    }
   ],
   "source": [
    "n=0\n",
    "accuracy=1\n",
    "while accuracy>0.01:\n",
    "    n+=1\n",
    "    modele.change_N(n)\n",
    "    tab_accuracy = []\n",
    "    for (j,(k_i,Bi)) in enumerate(xi_test):\n",
    "        mu = construct_mu(k_i,Bi)\n",
    "        s_mu = modele.get_T_root_N_cal(mu)\n",
    "        s_N_mu = modele.get_T_root_N(mu)\n",
    "        tab_accuracy.append(np.abs(s_mu-s_N_mu))\n",
    "    accuracy = np.max(tab_accuracy)\n",
    "print(\"Pour N = \",n,\" l'accuracy est inférieure à 1%.\")\n"
   ]
  },
  {
   "cell_type": "code",
   "execution_count": 30,
   "metadata": {},
   "outputs": [
    {
     "name": "stdout",
     "output_type": "stream",
     "text": [
      "Le maximum de la vraie erreur associée à N =  10  est :  0.004031532517373648\n"
     ]
    }
   ],
   "source": [
    "tab_true_error = []\n",
    "for (k_i,Bi) in xi_test:\n",
    "    mu = construct_mu(k_i,Bi)\n",
    "    T_root_N = modele.get_T_root_N(mu)\n",
    "    T_root_N_cal = modele.get_T_root_N_cal(mu)\n",
    "    tab_true_error.append(np.abs(T_root_N-T_root_N_cal))\n",
    "print(\"Le maximum de la vraie erreur associée à N = \",n,\" est : \",np.max(tab_true_error))"
   ]
  },
  {
   "attachments": {},
   "cell_type": "markdown",
   "metadata": {},
   "source": [
    "#### Question d"
   ]
  },
  {
   "attachments": {},
   "cell_type": "markdown",
   "metadata": {},
   "source": [
    "On cherche à comparer le temps d'exécution pour calculer $\\Delta_N^s(\\mu)$ avec le temps pour calculer $s_N(\\mu)$ sur notre échantillon par rapport à $N$."
   ]
  },
  {
   "cell_type": "code",
   "execution_count": 31,
   "metadata": {},
   "outputs": [
    {
     "name": "stderr",
     "output_type": "stream",
     "text": [
      "<ipython-input-4-de794dd27933>:17: RuntimeWarning: invalid value encountered in sqrt\n",
      "  return np.sqrt(val)\n"
     ]
    }
   ],
   "source": [
    "offline_online = offline_online_method(modele)\n",
    "\n",
    "tab_delta_N_en = [] \n",
    "tab_s_N = []\n",
    "for n in range(modele.N):\n",
    "    modele.change_N(n+1)\n",
    "    Q_1,Q_2,Q_3 = offline_online.offline_quantity()\n",
    "    \n",
    "    deb = time.time()\n",
    "    for (k_i,Bi) in xi_test:\n",
    "        mu = construct_mu(k_i,Bi)\n",
    "        offline_online.compute_Delta_N_en(mu,Q_1,Q_2,Q_3)\n",
    "    fin = time.time()\n",
    "    tab_delta_N_en.append(fin-deb)\n",
    "\n",
    "    deb = time.time()\n",
    "    for (k_i,Bi) in xi_test:\n",
    "        T_root_N = modele.get_T_root_N(mu)\n",
    "    fin = time.time()\n",
    "    tab_s_N.append(fin-deb)\n"
   ]
  },
  {
   "cell_type": "code",
   "execution_count": 32,
   "metadata": {},
   "outputs": [
    {
     "data": {
      "text/plain": [
       "<matplotlib.legend.Legend at 0x7f8bef241280>"
      ]
     },
     "execution_count": 32,
     "metadata": {},
     "output_type": "execute_result"
    },
    {
     "data": {
      "image/png": "[encoded data removed]",
      "text/plain": [
       "<Figure size 432x288 with 1 Axes>"
      ]
     },
     "metadata": {
      "needs_background": "light"
     },
     "output_type": "display_data"
    }
   ],
   "source": [
    "tab_N = np.arange(1,modele.N+1,1)\n",
    "plt.plot(tab_N,[delta_N_en/len(xi_test) for delta_N_en in tab_delta_N_en],label='delta_N_en')\n",
    "plt.plot(tab_N,[s_N/len(xi_test) for s_N in tab_s_N],label='s_N')\n",
    "plt.yscale('log')\n",
    "plt.legend()"
   ]
  },
  {
   "attachments": {},
   "cell_type": "markdown",
   "metadata": {},
   "source": [
    "#### Question e"
   ]
  },
  {
   "attachments": {},
   "cell_type": "markdown",
   "metadata": {},
   "source": [
    "On cherche à comparer les temps d'exécution pour calculer $\\Delta_N^s(\\mu)$, $s_N(\\mu)$ et $s(\\mu)$ sur notre échantillon par rapport à $N$."
   ]
  },
  {
   "cell_type": "code",
   "execution_count": 33,
   "metadata": {},
   "outputs": [],
   "source": [
    "offline_online = offline_online_method(modele)\n",
    "\n",
    "tab_s = []\n",
    "for n in range(modele.N):\n",
    "    deb = time.time()\n",
    "    for (k_i,Bi) in xi_test:\n",
    "        T_root_N_cal = modele.get_T_root_N_cal(mu)\n",
    "    fin = time.time()\n",
    "    tab_s.append(fin-deb)"
   ]
  },
  {
   "cell_type": "code",
   "execution_count": 34,
   "metadata": {},
   "outputs": [
    {
     "data": {
      "text/plain": [
       "<matplotlib.legend.Legend at 0x7f8bef0a20d0>"
      ]
     },
     "execution_count": 34,
     "metadata": {},
     "output_type": "execute_result"
    },
    {
     "data": {
      "image/png": "[encoded data removed]",
      "text/plain": [
       "<Figure size 432x288 with 1 Axes>"
      ]
     },
     "metadata": {
      "needs_background": "light"
     },
     "output_type": "display_data"
    }
   ],
   "source": [
    "tab_N = np.arange(1,modele.N+1,1)\n",
    "plt.plot(tab_N,[delta_N_en/len(xi_test) for delta_N_en in tab_delta_N_en],label='delta_N_en')\n",
    "plt.plot(tab_N,[s_N/len(xi_test) for s_N in tab_s_N],label='s_N')\n",
    "plt.plot(tab_N,[s/len(xi_test) for s in tab_s],label='s')\n",
    "plt.yscale('log')\n",
    "plt.legend()"
   ]
  },
  {
   "attachments": {},
   "cell_type": "markdown",
   "metadata": {},
   "source": [
    "## Part 4 - Greedy Sampling Procedure"
   ]
  },
  {
   "cell_type": "code",
   "execution_count": 35,
   "metadata": {},
   "outputs": [],
   "source": [
    "# to convert the algorithm from md to pdf\n",
    "# !pandoc greedy_algorithm.md -o greedy_algorithm.pdf"
   ]
  },
  {
   "attachments": {},
   "cell_type": "markdown",
   "metadata": {},
   "source": [
    "Nous allons maintenant nous tourner vers la procédure d'échantillonnage gloutonne (Greedy Sampling Procedure) dans le but de construire les jeux d'échantillons $S_N$. Voici l'algorithme :"
   ]
  },
  {
   "attachments": {},
   "cell_type": "markdown",
   "metadata": {},
   "source": [
    "<img src=\"greedy_algorithm.png\" width=\"500\"/>"
   ]
  },
  {
   "attachments": {},
   "cell_type": "markdown",
   "metadata": {},
   "source": [
    "Nous choisirons ici\n",
    "$$w(\\mu)=|||u_N(\\mu)|||_\\mu, \\quad \\epsilon_{tol}=10e-6 \\quad \\text{ et } \\quad S_1=\\mu_{\\min}$$\n"
   ]
  },
  {
   "attachments": {},
   "cell_type": "markdown",
   "metadata": {},
   "source": [
    "Notons que après la mise à jour $S_N=S_{N-1}\\cup\\{\\mu_N\\}$, nous devons calculer $u(\\mu_N)$ pour construire (en utilisant Gram-Schmidt) la nouvelle contribution à notre ensemble de base **orthonormal** $\\xi_N$ pour former $X_N$."
   ]
  },
  {
   "attachments": {},
   "cell_type": "markdown",
   "metadata": {},
   "source": [
    "Pour faire celà, nous commençons par modifier légèrement le constructeur de la classe `reduce_basis` afin de pouvoir initialiser l'échantillon sans le charger depuis le fichier \"RB_sample.mat\" mais en lui donnant une valeur de $\\mu$. Pour celà, il faudra mettre sample à 0 et lui donner le $\\mu$ initial. \n",
    "\n",
    "On va ensuite rajouter une méthode **one_step_greedy** qui effectuera une étape de l'agorithme Greedy. On pourra également lui donner en paramètre l'argument normalize, si il est à False nous metterons la fonction $w(\\mu)$ à 1.\n",
    "\n",
    "La fonction **greedy_algorithm** suivante va effectuer toutes les itérations nécessaires de Greedy en appelant la méthode *one_step_greedy*."
   ]
  },
  {
   "cell_type": "code",
   "execution_count": 36,
   "metadata": {},
   "outputs": [],
   "source": [
    "def greedy_algorithm(method,mu_1,mu_train,eps_tol,normalize=True):\n",
    "    if isinstance(method,direct_method):\n",
    "        method_name=\"direct\"\n",
    "    elif isinstance(method,offline_online_method):\n",
    "        method_name=\"offline_online\"\n",
    "\n",
    "    Delta_N_max = 1\n",
    "    tab_mu_N = []\n",
    "    while Delta_N_max >= eps_tol:\n",
    "        print(\"N = \",method.modele.N,\" ; Delta_N_max = \",Delta_N_max)\n",
    "        Delta_N_max,mu_N = method.modele.one_step_greedy(method,method_name,mu_train,normalize)\n",
    "        tab_mu_N.append((mu_N,Delta_N_max))\n",
    "    tab_mu_N.append(None)\n",
    "\n",
    "    return tab_mu_N"
   ]
  },
  {
   "attachments": {},
   "cell_type": "markdown",
   "metadata": {},
   "source": [
    "### Question 6"
   ]
  },
  {
   "cell_type": "code",
   "execution_count": 37,
   "metadata": {},
   "outputs": [],
   "source": [
    "# Case 1\n",
    "def construct_mu(k_i):\n",
    "    Bi = 0.1\n",
    "    assert(k_i >= 0.1 and k_i <= 10)\n",
    "    return np.array([k_i, k_i, k_i, k_i, 1., Bi])\n",
    "\n",
    "D=[0.1,10]\n",
    "type='medium'\n",
    "xi_train = np.logspace(np.log10(D[0]),np.log10(D[1]),100)\n",
    "mu_train = np.array([construct_mu(k_i) for k_i in xi_train])\n",
    "mu_1 = construct_mu(D[0])\n",
    "S_1 = np.array([mu_1])\n",
    "sample=0\n",
    "eps_tol=1e-6\n",
    "\n",
    "modele=reduce_basis(type,sample,mu_prod,S_N=S_1)\n",
    "method=offline_online_method(modele)\n",
    "\n",
    "normalize=True"
   ]
  },
  {
   "attachments": {},
   "cell_type": "markdown",
   "metadata": {},
   "source": [
    "#### Question a"
   ]
  },
  {
   "attachments": {},
   "cell_type": "markdown",
   "metadata": {},
   "source": [
    "On cherche à déterminer quelle est valeur de $N_{max}$ nous permettant d'atteindre la précision souhaitée. "
   ]
  },
  {
   "cell_type": "code",
   "execution_count": 38,
   "metadata": {},
   "outputs": [
    {
     "name": "stdout",
     "output_type": "stream",
     "text": [
      "N =  1  ; Delta_N_max =  1\n",
      "N =  2  ; Delta_N_max =  3.0857073627010965\n",
      "N =  3  ; Delta_N_max =  0.1931407880672572\n",
      "N =  4  ; Delta_N_max =  0.040042452359177534\n",
      "N =  5  ; Delta_N_max =  0.0051538918804122655\n",
      "N =  6  ; Delta_N_max =  0.001225461264801626\n",
      "N =  7  ; Delta_N_max =  0.0006669737144878806\n",
      "N =  8  ; Delta_N_max =  1.488164990296409e-05\n",
      "N =  9  ; Delta_N_max =  4.186368006808741e-06\n"
     ]
    }
   ],
   "source": [
    "tab_mu_N = greedy_algorithm(method,mu_1,mu_train,eps_tol,normalize)"
   ]
  },
  {
   "cell_type": "code",
   "execution_count": 39,
   "metadata": {},
   "outputs": [
    {
     "name": "stdout",
     "output_type": "stream",
     "text": [
      "N_max =  10\n"
     ]
    }
   ],
   "source": [
    "print(\"N_max = \",method.modele.N)"
   ]
  },
  {
   "attachments": {},
   "cell_type": "markdown",
   "metadata": {},
   "source": [
    "Nous allons à présent plot pour chaque $N$ compris entre $1$ et $N_{max}$, l'erreur relative $||u(\\mu)-u_N(\\mu)||_\\mu/||u_N(\\mu)||_\\mu$ et l'erreur relative de la borne d'énergie $\\Delta_N^{en}(\\mu)/||u_N(\\mu)||_\\mu$ pour $\\mu\\in\\Xi^{train}$. Dans chacune des figures, nous marquerons d'un point le paramètre choisi par l'algorithme de Greedy."
   ]
  },
  {
   "cell_type": "code",
   "execution_count": 40,
   "metadata": {},
   "outputs": [],
   "source": [
    "def compute_values(method,mu_train,normalize=True):\n",
    "    tab_relative_error = []\n",
    "    tab_en_bound = []\n",
    "    \n",
    "    for n in range(method.modele.N):\n",
    "        method.modele.change_N(n+1)\n",
    "\n",
    "        Z = method.modele.Z\n",
    "\n",
    "        if isinstance(method,offline_online_method):\n",
    "            Q_1,Q_2,Q_3 = method.offline_quantity()\n",
    "\n",
    "        tab_relative_error_n = []\n",
    "        tab_en_bound_n = []\n",
    "        for mu in mu_train:\n",
    "            u_N = method.modele.get_u_N(mu)\n",
    "            Zu_N = Z@u_N\n",
    "\n",
    "            A_N_cal = method.modele.get_A_N_cal(mu)\n",
    "            F_N_cal = method.modele.F_N_cal\n",
    "            u_N_cal = spsolve(A_N_cal, F_N_cal)\n",
    "\n",
    "            if normalize==True:\n",
    "                den = np.sqrt(Zu_N.T @ A_N_cal @ Zu_N)\n",
    "            else:\n",
    "                den = 1\n",
    "\n",
    "            e = u_N_cal-Zu_N\n",
    "            relative_error = np.sqrt(e.T @ A_N_cal @ e)/den\n",
    "            tab_relative_error_n.append(relative_error)\n",
    "\n",
    "            if isinstance(method,direct_method):\n",
    "                Delta_N_en_mu = method.compute_Delta_N_en(mu)\n",
    "            elif isinstance(method,offline_online_method):\n",
    "                Delta_N_en_mu = method.compute_Delta_N_en(mu,Q_1,Q_2,Q_3)\n",
    "            en_bound = Delta_N_en_mu/den\n",
    "            tab_en_bound_n.append(en_bound)\n",
    "\n",
    "        tab_relative_error.append(tab_relative_error_n)\n",
    "        tab_en_bound.append(tab_en_bound_n)\n",
    "\n",
    "    return tab_relative_error,tab_en_bound\n",
    "\n",
    "tab_relative_error,tab_en_bound = compute_values(method,mu_train,normalize)"
   ]
  },
  {
   "cell_type": "code",
   "execution_count": 41,
   "metadata": {},
   "outputs": [
    {
     "data": {
      "image/png": "[encoded data removed]",
      "text/plain": [
       "<Figure size 1080x1080 with 12 Axes>"
      ]
     },
     "metadata": {
      "needs_background": "light"
     },
     "output_type": "display_data"
    }
   ],
   "source": [
    "nb_lignes = method.modele.N//3\n",
    "reste = method.modele.N%3\n",
    "if reste!=0:\n",
    "    nb_lignes+=1\n",
    "\n",
    "fig, axs = plt.subplots(nb_lignes, 3, figsize=(15, 5*(nb_lignes-1)))\n",
    "\n",
    "l=0\n",
    "for n in range(method.modele.N):\n",
    "    c = n%3\n",
    "    axs[l][c].plot(xi_train,tab_relative_error[n],label='relative_error')\n",
    "    axs[l][c].plot(xi_train,tab_en_bound[n],label='en_bound')\n",
    "    if tab_mu_N[n]!=None:\n",
    "        axs[l][c].plot(tab_mu_N[n][0][0],tab_mu_N[n][1],'o',label='selected point')\n",
    "    axs[l][c].set_xscale('log')\n",
    "    axs[l][c].set_title(\"N = \"+str(n+1))\n",
    "    if c==2:\n",
    "        l+=1\n",
    "axs[0][0].legend();"
   ]
  },
  {
   "attachments": {},
   "cell_type": "markdown",
   "metadata": {},
   "source": [
    "#### Question b"
   ]
  },
  {
   "attachments": {},
   "cell_type": "markdown",
   "metadata": {},
   "source": [
    "Nous allons maintenant plot $\\Delta_N^{max}$ en fonction de $N$."
   ]
  },
  {
   "cell_type": "code",
   "execution_count": 42,
   "metadata": {},
   "outputs": [
    {
     "data": {
      "image/png": "[encoded data removed]",
      "text/plain": [
       "<Figure size 432x288 with 1 Axes>"
      ]
     },
     "metadata": {
      "needs_background": "light"
     },
     "output_type": "display_data"
    }
   ],
   "source": [
    "tab_N = np.arange(1,method.modele.N,1)\n",
    "tab_Delta_N_max = np.array([tab_mu_N[n][1] for n in range(method.modele.N-1)])\n",
    "plt.plot(tab_N,tab_Delta_N_max,label='relative_error')\n",
    "plt.yscale('log')\n",
    "plt.xlabel(\"N\");"
   ]
  },
  {
   "attachments": {},
   "cell_type": "markdown",
   "metadata": {},
   "source": [
    "#### Question c"
   ]
  },
  {
   "attachments": {},
   "cell_type": "markdown",
   "metadata": {},
   "source": [
    "Nous considérons maintenant deux nouveaux échantillons : $S_N^{lin}=G_{[\\mu_{min},\\mu_{max};N]}^{lin}$ et $S_N^{log}=G_{[\\mu_{min},\\mu_{max};N]}^{log}$ avec $N$ variant de 2 à $N_{max}$. \n",
    "\n",
    "Nous aimerions comparer les convergences de l'approximation base réduite utilisant l'algorithme de Greedy avec celle utilisant l'échantillon linéaire et celle utilisant l'échantillon logarithmique. \n",
    "\n",
    "Nous allons plot sur une même figure le maximum de l'erreur relative pour la norme d'énergie $\\max_{\\mu\\in\\Xi_{test}}||u(\\mu)-u_N(\\mu)||_\\mu/||u_N(\\mu)||_\\mu$ pour les 3 cas avec $\\Xi_{test}=G_{[\\mu_{min},\\mu_{max};50]}^{lin}\\cup G_{[\\mu_{min},\\mu_{max};50]}^{log}$."
   ]
  },
  {
   "cell_type": "code",
   "execution_count": 43,
   "metadata": {},
   "outputs": [],
   "source": [
    "def compute_max_relative_error(method,mu_test,normalize=True):\n",
    "    Z = method.modele.Z\n",
    "\n",
    "    tab_relative_error = []\n",
    "    for mu in mu_test:\n",
    "        u_N = method.modele.get_u_N(mu)\n",
    "        Zu_N = Z@u_N\n",
    "\n",
    "        A_N_cal = method.modele.get_A_N_cal(mu)\n",
    "        F_N_cal = method.modele.F_N_cal\n",
    "        u_N_cal = spsolve(A_N_cal, F_N_cal)\n",
    "\n",
    "        if normalize==True:\n",
    "            den = np.sqrt(Zu_N.T @ A_N_cal @ Zu_N)\n",
    "        else:\n",
    "            den = 1\n",
    "\n",
    "        e = u_N_cal-Zu_N\n",
    "        relative_error = np.sqrt(e.T @ A_N_cal @ e)/den\n",
    "        tab_relative_error.append(relative_error)\n",
    "\n",
    "    return np.max(tab_relative_error)\n",
    "    "
   ]
  },
  {
   "cell_type": "code",
   "execution_count": 44,
   "metadata": {},
   "outputs": [
    {
     "name": "stdout",
     "output_type": "stream",
     "text": [
      "N =  1\n",
      "N =  2\n",
      "N =  3\n",
      "N =  4\n",
      "N =  5\n",
      "N =  6\n",
      "N =  7\n",
      "N =  8\n",
      "N =  9\n",
      "N =  10\n"
     ]
    }
   ],
   "source": [
    "N_max = method.modele.N\n",
    "\n",
    "sample = 0\n",
    "modele_greedy = reduce_basis(type,sample,mu_prod,S_N=S_1)\n",
    "method_greedy = offline_online_method(modele)\n",
    "\n",
    "sample = 4\n",
    "ortho = True\n",
    "\n",
    "k_i_lin = np.linspace(D[0],D[1],N_max)\n",
    "S_lin_complet = np.array([construct_mu(k_i) for k_i in k_i_lin])\n",
    "modele_lin = reduce_basis(type,sample,mu_prod,ortho=ortho,S_N=S_lin_complet)\n",
    "method_lin = offline_online_method(modele_lin)\n",
    "\n",
    "k_i_log = np.logspace(np.log10(D[0]),np.log10(D[1]),N_max)\n",
    "S_log_complet = np.array([construct_mu(k_i) for k_i in k_i_log])\n",
    "modele_log = reduce_basis(type,sample,mu_prod,ortho=ortho,S_N=S_log_complet)\n",
    "method_log = offline_online_method(modele_log)\n",
    "\n",
    "M = 50\n",
    "G_lin = np.linspace(D[0],D[1],M)\n",
    "G_log = np.logspace(np.log10(D[0]),np.log10(D[1]),M)\n",
    "xi_test = np.sort(np.concatenate((G_lin,G_log)))[2:-2]\n",
    "mu_test = np.array([construct_mu(k_i) for k_i in xi_test])\n",
    "\n",
    "tab_relative_error_greedy = []\n",
    "tab_relative_error_lin = []\n",
    "tab_relative_error_log = []\n",
    "for n in range(N_max):\n",
    "    print(\"N = \",n+1)\n",
    "    method_greedy.modele.change_N(n+1)\n",
    "    tab_relative_error_greedy.append(compute_max_relative_error(method_greedy,mu_test,normalize))\n",
    "\n",
    "    method_lin.modele.change_N(n+1)\n",
    "    tab_relative_error_lin.append(compute_max_relative_error(method_lin,mu_test,normalize))\n",
    "\n",
    "    method_log.modele.change_N(n+1)\n",
    "    tab_relative_error_log.append(compute_max_relative_error(method_log,mu_test,normalize))"
   ]
  },
  {
   "cell_type": "code",
   "execution_count": 45,
   "metadata": {},
   "outputs": [
    {
     "data": {
      "image/png": "[encoded data removed]",
      "text/plain": [
       "<Figure size 432x288 with 1 Axes>"
      ]
     },
     "metadata": {
      "needs_background": "light"
     },
     "output_type": "display_data"
    }
   ],
   "source": [
    "tab_N = np.arange(1,N_max+1,1)\n",
    "plt.plot(tab_N,tab_relative_error_greedy,\"o-\",label='greedy')\n",
    "plt.plot(tab_N,tab_relative_error_lin,\"o-\",label='linear')\n",
    "plt.plot(tab_N,tab_relative_error_log,\"o-\",label='log')\n",
    "plt.yscale('log')\n",
    "plt.xlabel(\"N\")\n",
    "plt.legend();"
   ]
  },
  {
   "attachments": {},
   "cell_type": "markdown",
   "metadata": {},
   "source": [
    "### Question 7"
   ]
  },
  {
   "cell_type": "code",
   "execution_count": 46,
   "metadata": {},
   "outputs": [],
   "source": [
    "# Case 2\n",
    "def construct_mu(k_i,Bi):\n",
    "    assert(k_i >= 0.1 and k_i <= 10)\n",
    "    assert(Bi >= 0.01 and Bi <= 1)\n",
    "    return np.array([k_i, k_i, k_i, k_i, 1., Bi])\n",
    "\n",
    "D1=[0.1,10]\n",
    "D2=[0.01,1.]\n",
    "\n",
    "type='medium'\n",
    "M=25\n",
    "G_log_k_i = np.logspace(np.log10(D1[0]),np.log10(D1[1]),M)\n",
    "G_log_Bi = np.logspace(np.log10(D2[0]),np.log10(D2[1]),M)\n",
    "xi_log = np.array(np.meshgrid(G_log_k_i,G_log_Bi)).T.reshape(-1,2)\n",
    "mu_train = np.array([construct_mu(k_i,Bi) for (k_i,Bi) in xi_log])\n",
    "\n",
    "mu_1 = construct_mu(xi_log[0][0],xi_log[0][1])\n",
    "S_1 = np.array([mu_1])\n",
    "sample=0\n",
    "eps_tol=10e-6\n",
    "\n",
    "modele=reduce_basis(type,sample,mu_prod,S_N=S_1)\n",
    "method=offline_online_method(modele)\n",
    "\n",
    "normalize=True\n"
   ]
  },
  {
   "attachments": {},
   "cell_type": "markdown",
   "metadata": {},
   "source": [
    "#### Question a"
   ]
  },
  {
   "attachments": {},
   "cell_type": "markdown",
   "metadata": {},
   "source": [
    "On cherche à déterminer quelle est la valeur de $N_{max}$ nous permettant d'atteindre la précision souhaitée."
   ]
  },
  {
   "cell_type": "code",
   "execution_count": 47,
   "metadata": {},
   "outputs": [
    {
     "name": "stdout",
     "output_type": "stream",
     "text": [
      "N =  1  ; Delta_N_max =  1\n",
      "N =  2  ; Delta_N_max =  10.39856314933044\n"
     ]
    },
    {
     "name": "stderr",
     "output_type": "stream",
     "text": [
      "<ipython-input-4-de794dd27933>:17: RuntimeWarning: invalid value encountered in sqrt\n",
      "  return np.sqrt(val)\n"
     ]
    },
    {
     "name": "stdout",
     "output_type": "stream",
     "text": [
      "N =  3  ; Delta_N_max =  8.191997411172466\n",
      "N =  4  ; Delta_N_max =  2.2933554486734695\n",
      "N =  5  ; Delta_N_max =  1.0464819450953533\n",
      "N =  6  ; Delta_N_max =  0.49623923546685067\n",
      "N =  7  ; Delta_N_max =  0.22134903344610574\n",
      "N =  8  ; Delta_N_max =  0.18140166231314916\n",
      "N =  9  ; Delta_N_max =  0.1299740139346109\n",
      "N =  10  ; Delta_N_max =  0.08878915129722526\n",
      "N =  11  ; Delta_N_max =  0.07838024761273127\n",
      "N =  12  ; Delta_N_max =  0.037398495045526156\n",
      "N =  13  ; Delta_N_max =  0.03268852455951338\n",
      "N =  14  ; Delta_N_max =  0.023449725211420767\n",
      "N =  15  ; Delta_N_max =  0.01650169288552049\n",
      "N =  16  ; Delta_N_max =  0.00985657938631095\n",
      "N =  17  ; Delta_N_max =  0.009296997475144406\n",
      "N =  18  ; Delta_N_max =  0.006962947809241184\n",
      "N =  19  ; Delta_N_max =  0.0037310031645201\n",
      "N =  20  ; Delta_N_max =  0.0033877023260534874\n",
      "N =  21  ; Delta_N_max =  0.0027022249720372233\n",
      "N =  22  ; Delta_N_max =  0.0024122408737173367\n",
      "N =  23  ; Delta_N_max =  0.0015390118340108487\n",
      "N =  24  ; Delta_N_max =  0.0011970786884192188\n",
      "N =  25  ; Delta_N_max =  0.0007604519064073641\n",
      "N =  26  ; Delta_N_max =  0.000625525400660893\n",
      "N =  27  ; Delta_N_max =  0.0004209971476638519\n",
      "N =  28  ; Delta_N_max =  0.00034117109976721476\n",
      "N =  29  ; Delta_N_max =  0.0002677319981709381\n",
      "N =  30  ; Delta_N_max =  0.00022881618363870796\n",
      "N =  31  ; Delta_N_max =  0.0001377259380948793\n",
      "N =  32  ; Delta_N_max =  0.0001043569332993074\n",
      "N =  33  ; Delta_N_max =  9.612975614710939e-05\n",
      "N =  34  ; Delta_N_max =  7.46842719929454e-05\n",
      "N =  35  ; Delta_N_max =  6.1784185680082e-05\n",
      "N =  36  ; Delta_N_max =  3.836776449665582e-05\n",
      "N =  37  ; Delta_N_max =  3.3913573888813226e-05\n",
      "N =  38  ; Delta_N_max =  2.8778111094703628e-05\n",
      "N =  39  ; Delta_N_max =  2.1283266406220685e-05\n",
      "N =  40  ; Delta_N_max =  1.7828971328908686e-05\n",
      "N =  41  ; Delta_N_max =  1.7688732918051926e-05\n",
      "N =  42  ; Delta_N_max =  1.0425488458677485e-05\n"
     ]
    }
   ],
   "source": [
    "tab_mu_N = greedy_algorithm(method,mu_1,mu_train,eps_tol,normalize)"
   ]
  },
  {
   "cell_type": "code",
   "execution_count": 48,
   "metadata": {},
   "outputs": [
    {
     "name": "stdout",
     "output_type": "stream",
     "text": [
      "N_max =  43\n"
     ]
    }
   ],
   "source": [
    "print(\"N_max = \",method.modele.N)"
   ]
  },
  {
   "attachments": {},
   "cell_type": "markdown",
   "metadata": {},
   "source": [
    "#### Question b"
   ]
  },
  {
   "attachments": {},
   "cell_type": "markdown",
   "metadata": {},
   "source": [
    "Nous allons maintenant plot $\\Delta_N^{max}$ en fonction de $N$."
   ]
  },
  {
   "cell_type": "code",
   "execution_count": 49,
   "metadata": {},
   "outputs": [
    {
     "data": {
      "image/png": "[encoded data removed]",
      "text/plain": [
       "<Figure size 432x288 with 1 Axes>"
      ]
     },
     "metadata": {
      "needs_background": "light"
     },
     "output_type": "display_data"
    }
   ],
   "source": [
    "tab_N = np.arange(1,method.modele.N,1)\n",
    "tab_Delta_N_max = np.array([tab_mu_N[n][1] for n in range(method.modele.N-1)])\n",
    "plt.plot(tab_N,tab_Delta_N_max,label='relative_error')\n",
    "plt.yscale('log')\n",
    "plt.xlabel(\"N\");"
   ]
  },
  {
   "attachments": {},
   "cell_type": "markdown",
   "metadata": {},
   "source": [
    "#### Question c"
   ]
  },
  {
   "attachments": {},
   "cell_type": "markdown",
   "metadata": {},
   "source": [
    "Nous allons plot notre échantillon $S_N$ en échelle loglog."
   ]
  },
  {
   "cell_type": "code",
   "execution_count": 50,
   "metadata": {},
   "outputs": [
    {
     "data": {
      "image/png": "[encoded data removed]",
      "text/plain": [
       "<Figure size 432x288 with 1 Axes>"
      ]
     },
     "metadata": {
      "needs_background": "light"
     },
     "output_type": "display_data"
    }
   ],
   "source": [
    "S_N = method.modele.S_N\n",
    "k_i = S_N[:,0]\n",
    "Bi = S_N[:,-1]\n",
    "plt.loglog(k_i,Bi,\".\",label='S_N')\n",
    "plt.xlabel(\"k_i\")\n",
    "plt.ylabel(\"Bi\");"
   ]
  },
  {
   "attachments": {},
   "cell_type": "markdown",
   "metadata": {},
   "source": [
    "#### Question d"
   ]
  },
  {
   "attachments": {},
   "cell_type": "markdown",
   "metadata": {},
   "source": [
    "Nous allons plot le maximum de l'erreur relative pour la norme d'énergie $\\max_{\\mu\\in\\Xi_{test}}||u(\\mu)-u_N(\\mu)||_\\mu/||u_N(\\mu)||_\\mu$ et le maximum de l'erreur de sortie $\\max_{\\mu\\in\\Xi_{test}}|T_{root}(\\mu)-T_{root,N}(\\mu)|/T_{root}(\\mu)$ avec $\\Xi_{test}=G_{[\\mu_{min},\\mu_{max};10]}^{lin}\\cup G_{[\\mu_{min},\\mu_{max};10]}^{log}$."
   ]
  },
  {
   "cell_type": "code",
   "execution_count": 51,
   "metadata": {},
   "outputs": [],
   "source": [
    "def compute_values(method,mu_test,normalize=True):\n",
    "    Z = method.modele.Z\n",
    "\n",
    "    tab_relative_error = []\n",
    "    tab_relative_out_error = []\n",
    "    for mu in mu_test:\n",
    "        u_N = method.modele.get_u_N(mu)\n",
    "        Zu_N = Z@u_N\n",
    "        T_root_N = method.modele.L_N.T @ u_N\n",
    "\n",
    "        A_N_cal = method.modele.get_A_N_cal(mu)\n",
    "        F_N_cal = method.modele.F_N_cal\n",
    "        u_N_cal = spsolve(A_N_cal, F_N_cal)\n",
    "        T_root_N_cal = method.modele.L_N_cal.T @ u_N_cal\n",
    "\n",
    "        if normalize==True:\n",
    "            den = np.sqrt(Zu_N.T @ A_N_cal @ Zu_N)\n",
    "            den2 = np.abs(T_root_N)\n",
    "        else:\n",
    "            den = 1\n",
    "            den2 = 1\n",
    "\n",
    "        e = u_N_cal-Zu_N\n",
    "        relative_error = np.sqrt(e.T @ A_N_cal @ e)/den\n",
    "        tab_relative_error.append(relative_error)\n",
    "\n",
    "        tab_relative_out_error.append(np.abs(T_root_N_cal-T_root_N)/den2)\n",
    "\n",
    "    return np.max(tab_relative_error),np.max(tab_relative_out_error)"
   ]
  },
  {
   "cell_type": "code",
   "execution_count": 52,
   "metadata": {},
   "outputs": [],
   "source": [
    "N_max = method.modele.N\n",
    "\n",
    "(k_i_min,k_i_max) = D1\n",
    "(Bi_min,Bi_max) = D2\n",
    "M=10\n",
    "\n",
    "G_lin_k_i = np.linspace(k_i_min,k_i_max,M)\n",
    "G_lin_Bi = np.linspace(Bi_min,Bi_max,M)\n",
    "xi_lin = np.array(np.meshgrid(G_lin_k_i,G_lin_Bi)).T.reshape(-1,2)\n",
    "\n",
    "G_log_k_i = np.logspace(np.log10(k_i_min),np.log10(k_i_max),M)\n",
    "G_log_Bi = np.logspace(np.log10(Bi_min),np.log10(Bi_max),M)\n",
    "xi_log = np.array(np.meshgrid(G_log_k_i,G_log_Bi)).T.reshape(-1,2)\n",
    "\n",
    "xi_test = np.concatenate((xi_lin,xi_log),axis=0)\n",
    "mu_test = np.array([construct_mu(k_i,Bi) for (k_i,Bi) in xi_test])"
   ]
  },
  {
   "cell_type": "code",
   "execution_count": 53,
   "metadata": {},
   "outputs": [
    {
     "name": "stdout",
     "output_type": "stream",
     "text": [
      "N =  1\n",
      "N =  2\n",
      "N =  3\n",
      "N =  4\n",
      "N =  5\n",
      "N =  6\n",
      "N =  7\n",
      "N =  8\n",
      "N =  9\n",
      "N =  10\n",
      "N =  11\n",
      "N =  12\n",
      "N =  13\n",
      "N =  14\n",
      "N =  15\n",
      "N =  16\n",
      "N =  17\n",
      "N =  18\n",
      "N =  19\n",
      "N =  20\n",
      "N =  21\n",
      "N =  22\n",
      "N =  23\n",
      "N =  24\n",
      "N =  25\n",
      "N =  26\n",
      "N =  27\n",
      "N =  28\n",
      "N =  29\n",
      "N =  30\n",
      "N =  31\n",
      "N =  32\n",
      "N =  33\n",
      "N =  34\n",
      "N =  35\n",
      "N =  36\n",
      "N =  37\n",
      "N =  38\n",
      "N =  39\n",
      "N =  40\n",
      "N =  41\n",
      "N =  42\n",
      "N =  43\n"
     ]
    }
   ],
   "source": [
    "tab_max_relative_error = []\n",
    "tab_max_relative_out_error = []\n",
    "for n in range(N_max):\n",
    "    print(\"N = \",n+1)\n",
    "    method.modele.change_N(n+1)\n",
    "    max_relative_error,max_relative_out_error = compute_values(method,mu_test,normalize)\n",
    "    tab_max_relative_error.append(max_relative_error)\n",
    "    tab_max_relative_out_error.append(max_relative_out_error)"
   ]
  },
  {
   "cell_type": "code",
   "execution_count": 54,
   "metadata": {},
   "outputs": [
    {
     "data": {
      "image/png": "[encoded data removed]",
      "text/plain": [
       "<Figure size 432x288 with 1 Axes>"
      ]
     },
     "metadata": {
      "needs_background": "light"
     },
     "output_type": "display_data"
    }
   ],
   "source": [
    "tab_N = np.arange(1,method.modele.N+1,1)\n",
    "plt.plot(tab_N,tab_max_relative_error,\"+-\",label='relative_error')\n",
    "plt.plot(tab_N,tab_max_relative_out_error,\"+-\",label='relative_out_error')\n",
    "plt.yscale('log')\n",
    "plt.xlabel(\"N\")\n",
    "plt.legend();"
   ]
  }
 ],
 "metadata": {
  "kernelspec": {
   "display_name": "Python 3.8.10 64-bit",
   "language": "python",
   "name": "python3"
  },
  "language_info": {
   "codemirror_mode": {
    "name": "ipython",
    "version": 3
   },
   "file_extension": ".py",
   "mimetype": "text/x-python",
   "name": "python",
   "nbconvert_exporter": "python",
   "pygments_lexer": "ipython3",
   "version": "3.8.10"
  },
  "orig_nbformat": 4,
  "vscode": {
   "interpreter": {
    "hash": "916dbcbb3f70747c44a77c7bcd40155683ae19c65e1c03b4aa3499c5328201f1"
   }
  }
 },
 "nbformat": 4,
 "nbformat_minor": 2
}
